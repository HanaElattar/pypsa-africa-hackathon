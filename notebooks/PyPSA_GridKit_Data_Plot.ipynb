{
 "cells": [
  {
   "cell_type": "code",
   "execution_count": null,
   "id": "undefined-container",
   "metadata": {},
   "outputs": [],
   "source": [
    "import folium\n",
    "import geopandas as gpd\n",
    "import geoplot\n",
    "import pandas as pd\n",
    "import fiona #;help(fiona.open)\n",
    "import requests\n",
    "import os, sys\n",
    "from pandas.io.json import json_normalize # convert json into dataframe\n",
    "from shapely import wkt\n",
    "import pandas as pd"
   ]
  },
  {
   "cell_type": "code",
   "execution_count": null,
   "id": "short-lucas",
   "metadata": {},
   "outputs": [],
   "source": []
  },
  {
   "cell_type": "markdown",
   "id": "reliable-performance",
   "metadata": {},
   "source": [
    "# Geopandas shapefile Europa"
   ]
  },
  {
   "cell_type": "code",
   "execution_count": null,
   "id": "altered-statistics",
   "metadata": {},
   "outputs": [],
   "source": [
    "world = gpd.read_file(gpd.datasets.get_path('naturalearth_lowres'))\n",
    "#world"
   ]
  },
  {
   "cell_type": "code",
   "execution_count": null,
   "id": "sought-shopper",
   "metadata": {},
   "outputs": [],
   "source": [
    "europe = world.query('continent == \"Europe\"')\n",
    "europe = europe.drop(18) # without russia\n",
    "#europe\n",
    "\n",
    "germany = world.query('name == \"Germany\"')"
   ]
  },
  {
   "cell_type": "markdown",
   "id": "subtle-federal",
   "metadata": {},
   "source": [
    "# Load PyPSA-Eur data\n"
   ]
  },
  {
   "cell_type": "code",
   "execution_count": null,
   "id": "electronic-robinson",
   "metadata": {},
   "outputs": [],
   "source": [
    "path_buses = os.getcwd()+'/entsoegridkit/buses.csv'\n",
    "path_lines = os.getcwd()+'/entsoegridkit/lines.csv'\n",
    "path_links = os.getcwd()+'/entsoegridkit/links.csv'\n",
    "path_transformers = os.getcwd()+'/entsoegridkit/transformers.csv'\n",
    "path_converters = os.getcwd()+'/entsoegridkit/converters.csv'"
   ]
  },
  {
   "cell_type": "code",
   "execution_count": null,
   "id": "buried-vacation",
   "metadata": {},
   "outputs": [],
   "source": [
    "#europe_network \n",
    "buses = (pd.read_csv(path_buses, quotechar=\"'\",\n",
    "                         true_values='t', false_values='f',\n",
    "                         dtype=dict(bus_id=\"str\"))\n",
    "        .set_index(\"bus_id\")\n",
    "        .drop(['station_id'], axis=1)\n",
    "        .rename(columns=dict(voltage='v_nom')))\n",
    "            \n",
    "            \n",
    "lines = (pd.read_csv(path_lines, quotechar=\"'\", true_values='t', false_values='f',\n",
    "                         dtype=dict(line_id='str', bus0='str', bus1='str',\n",
    "                                    underground=\"bool\", under_construction=\"bool\"))\n",
    "         .set_index('line_id')\n",
    "         .rename(columns=dict(voltage='v_nom', circuits='num_parallel')))\n",
    "\n",
    "\n",
    "links = (pd.read_csv(path_links, quotechar=\"'\", true_values='t', false_values='f',\n",
    "                         dtype=dict(link_id='str', bus0='str', bus1='str', under_construction=\"bool\"))\n",
    "             .set_index('link_id'))\n",
    "\n",
    "\n",
    "transformers = (pd.read_csv(path_transformers, quotechar=\"'\",\n",
    "                                true_values='t', false_values='f',\n",
    "                                dtype=dict(transformer_id='str', bus0='str', bus1='str'))\n",
    "                    .set_index('transformer_id'))\n",
    "\n",
    "\n",
    "converters = (pd.read_csv(path_converters, quotechar=\"'\",\n",
    "                              true_values='t', false_values='f',\n",
    "                              dtype=dict(converter_id='str', bus0='str', bus1='str'))\n",
    "                  .set_index('converter_id'))"
   ]
  },
  {
   "cell_type": "markdown",
   "id": "million-impossible",
   "metadata": {},
   "source": [
    "# Prepare for plot\n"
   ]
  },
  {
   "cell_type": "code",
   "execution_count": null,
   "id": "creative-asian",
   "metadata": {},
   "outputs": [],
   "source": [
    "#lines\n",
    "lines = lines.reset_index()\n",
    "lines['geometry'] = lines['geometry'].apply(wkt.loads)\n",
    "gdf_lines = gpd.GeoDataFrame(lines, geometry = \"geometry\",crs=\"EPSG:4326\")"
   ]
  },
  {
   "cell_type": "code",
   "execution_count": null,
   "id": "numerous-probability",
   "metadata": {},
   "outputs": [],
   "source": [
    "#buses\n",
    "gdf_buses = gpd.GeoDataFrame(buses, geometry=gpd.points_from_xy(buses.x, buses.y))"
   ]
  },
  {
   "cell_type": "code",
   "execution_count": null,
   "id": "promotional-elite",
   "metadata": {},
   "outputs": [],
   "source": [
    "#links\n",
    "links = links.reset_index()\n",
    "links['geometry'] = links['geometry'].apply(wkt.loads)\n",
    "gdf_links = gpd.GeoDataFrame(links, geometry = \"geometry\",crs=\"EPSG:4326\")"
   ]
  },
  {
   "cell_type": "code",
   "execution_count": null,
   "id": "accessible-comedy",
   "metadata": {},
   "outputs": [],
   "source": [
    "#transformers\n",
    "transformers = pd.merge(transformers, buses, how=\"left\", left_on=[\"bus0\"],  right_on = ['bus_id'])  #match bus with trafo\n",
    "gdf_transformers = gpd.GeoDataFrame(transformers, geometry=gpd.points_from_xy(transformers.x, transformers.y))"
   ]
  },
  {
   "cell_type": "code",
   "execution_count": null,
   "id": "textile-stuart",
   "metadata": {},
   "outputs": [],
   "source": [
    "#converters\n",
    "converters = pd.merge(converters, buses, how=\"left\", left_on=[\"bus0\"],  right_on = ['bus_id'])  #match bus with converter\n",
    "gdf_converters = gpd.GeoDataFrame(converters, geometry=gpd.points_from_xy(converters.x, converters.y))"
   ]
  },
  {
   "cell_type": "markdown",
   "id": "pursuant-corporation",
   "metadata": {},
   "source": [
    "\n",
    "# EU PyPSA input data plot"
   ]
  },
  {
   "cell_type": "code",
   "execution_count": null,
   "id": "behind-applicant",
   "metadata": {},
   "outputs": [],
   "source": [
    "ax = gdf_buses.plot(figsize=(20, 20),alpha = 0.5, markersize = 5,color='orange')                                 \n",
    "geoplot.polyplot(europe ,edgecolor='grey', ax=ax, alpha = 0.5, linewidth = 1)\n",
    "gdf_lines.plot(figsize=(20, 20),alpha = 0.7, ax=ax) #blue\n",
    "gdf_links.plot(figsize=(20, 20),alpha = 0.7, ax=ax, color='green') \n",
    "gdf_transformers.plot(figsize=(20, 20),alpha = 0.5, markersize = 10, ax=ax, color='magenta')\n",
    "gdf_converters.plot(figsize=(20, 20),alpha = 0.5, markersize = 30, ax=ax, color='red')\n",
    "\n",
    "### ZOOM - Europe\n",
    "xlim = ([europe.total_bounds[0]+25,  europe.total_bounds[2]+25])\n",
    "ylim = ([europe.total_bounds[1]+20,  europe.total_bounds[3]-5])\n",
    "ax.set_xlim(xlim)\n",
    "ax.set_ylim(ylim)\n",
    "\n",
    "#plt.savefig('africa_transmission_and substations_110.png')"
   ]
  },
  {
   "cell_type": "markdown",
   "id": "velvet-rocket",
   "metadata": {},
   "source": [
    "# Germany PyPSA input data plot\n"
   ]
  },
  {
   "cell_type": "code",
   "execution_count": null,
   "id": "standing-suspect",
   "metadata": {},
   "outputs": [],
   "source": [
    "ax = gdf_buses.plot(figsize=(20, 20),alpha = 0.5, markersize = 30,color='orange')                                 \n",
    "geoplot.polyplot(europe ,edgecolor='grey', ax=ax, alpha = 0.5, linewidth = 5)\n",
    "gdf_lines.plot(figsize=(20, 20),alpha = 0.7, ax=ax) #blue\n",
    "gdf_links.plot(figsize=(20, 20),alpha = 0.7, ax=ax, color='green') \n",
    "gdf_transformers.plot(figsize=(20, 20),alpha = 0.5, markersize = 60, ax=ax, color='magenta')\n",
    "gdf_converters.plot(figsize=(20, 20),alpha = 0.5, markersize = 100, ax=ax, color='red')\n",
    "\n",
    "### ZOOM - Germany\n",
    "xlim = ([germany.total_bounds[0],  germany.total_bounds[2]])\n",
    "ylim = ([germany.total_bounds[1],  germany.total_bounds[3]])\n",
    "ax.set_xlim(xlim)\n",
    "ax.set_ylim(ylim)"
   ]
  },
  {
   "cell_type": "markdown",
   "id": "religious-liechtenstein",
   "metadata": {},
   "source": [
    "# Folium test ##Not finished \n",
    "\n",
    "Folium allows dynamic mapping with zoom function.\n",
    "This might be good to explore data in detail.\n",
    "\n",
    "Challenge is to include multiple components into one 'folium' plot.\n",
    "I think one must add FeatureGroups to solve that.\n",
    "\n",
    "https://www.analyticsvidhya.com/blog/2020/06/guide-geospatial-analysis-folium-python/"
   ]
  },
  {
   "cell_type": "code",
   "execution_count": null,
   "id": "prepared-monitor",
   "metadata": {},
   "outputs": [],
   "source": [
    "m = folium.Map(location=[52.4860, 0.65714427359343], zoom_start=8, tiles='CartoDB positron')\n",
    "\n",
    "folium.GeoJson(data=gdf_lines).add_to(m)\n",
    "\n",
    "m"
   ]
  }
 ],
 "metadata": {
  "kernelspec": {
   "display_name": "Python [conda env:pypsa-africa]",
   "language": "python",
   "name": "conda-env-pypsa-africa-py"
  },
  "language_info": {
   "codemirror_mode": {
    "name": "ipython",
    "version": 3
   },
   "file_extension": ".py",
   "mimetype": "text/x-python",
   "name": "python",
   "nbconvert_exporter": "python",
   "pygments_lexer": "ipython3",
   "version": "3.7.10"
  }
 },
 "nbformat": 4,
 "nbformat_minor": 5
}
