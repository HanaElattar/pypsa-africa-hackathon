{
 "cells": [
  {
   "cell_type": "markdown",
   "metadata": {},
   "source": [
    "# Plotting PyPSA networks along the workflow\n",
    "\n",
    "### Jupyter scripts need to be improved\n",
    "\n",
    "In this script, the ouputs of the PyPSA networks calculated in the Data Workflow are computed.\n",
    "In particular, the considered outputs are of the following scripts:\n",
    "- osm_data_cleaning\n",
    "- base_network\n",
    "- add_electricity\n",
    "- simplify_network\n",
    "- cluster_network\n",
    "\n",
    "In the following, the output networks described by the files are loaded and plotted by using `hvplot` package.\n",
    "Such package enables a more interactive scouting of the files, which simplifies the learning phase and debugging process, when needed."
   ]
  },
  {
   "cell_type": "markdown",
   "metadata": {},
   "source": [
    "## Change the current directory to the main package folder"
   ]
  },
  {
   "cell_type": "code",
   "execution_count": null,
   "metadata": {},
   "outputs": [],
   "source": [
    "# Specify the current directory\n",
    "import sys\n",
    "sys.path.append('../')  # to import helpers\n",
    "\n",
    "from scripts._helpers import _sets_path_to_root\n",
    "_sets_path_to_root(\"pypsa-africa\")"
   ]
  },
  {
   "cell_type": "markdown",
   "metadata": {},
   "source": [
    "## Specify file paths of the files related to the scripts"
   ]
  },
  {
   "cell_type": "code",
   "execution_count": null,
   "metadata": {},
   "outputs": [],
   "source": [
    "# file paths of osm_data_cleaning outputs\n",
    "import os\n",
    "substations_ODC_path = os.getcwd() + '/data/clean/africa_all_substations.geojson'\n",
    "lines_ODC_path = os.getcwd() + '/data/clean/africa_all_lines.geojson'\n",
    "# base_network file path\n",
    "network_path_b = os.getcwd() + '/networks/base.nc'\n",
    "# add_electricity file path\n",
    "network_path_a = os.getcwd() + '/networks/elec.nc'\n",
    "# simplify_network file path\n",
    "network_path_s = os.getcwd() + '/networks/elec_s.nc'\n",
    "# cluster_network file path\n",
    "network_path_c = os.getcwd() + '/networks/elec_s_10.nc'"
   ]
  },
  {
   "cell_type": "markdown",
   "metadata": {},
   "source": [
    "## Load python packages"
   ]
  },
  {
   "cell_type": "code",
   "execution_count": null,
   "metadata": {},
   "outputs": [],
   "source": [
    "import logging\n",
    "import os\n",
    "\n",
    "import pypsa\n",
    "import yaml\n",
    "import pandas as pd\n",
    "import geopandas as gpd\n",
    "import geoviews as gv\n",
    "import hvplot.pandas\n",
    "import numpy as np\n",
    "import scipy as sp\n",
    "import networkx as nx\n",
    "import matplotlib as plt\n",
    "\n",
    "from scipy.sparse import csgraph\n",
    "from itertools import product\n",
    "\n",
    "from shapely.geometry import Point, LineString\n",
    "import shapely, shapely.prepared\n",
    "from shapely.wkt import loads\n",
    "\n",
    "logger = logging.getLogger(__name__)\n",
    "\n",
    "pd.set_option('display.max_columns', None)\n",
    "pd.set_option('display.max_colwidth', 70)"
   ]
  },
  {
   "cell_type": "markdown",
   "metadata": {},
   "source": [
    "## Plot network of osm_data_cleaning\n",
    "\n",
    "osm_data_cleaning is the script that loads the raw OSM data and performs simple cleaning, such as renaming columns to adhere with PyPSA format, cleaning Nones/NaNs, etc.\n",
    "In particular, the main outputs of the script, being the substations and lines data, are loaded and then plotted.\n",
    "- `df_substations_osm_clean`: is the geodataframe related to the substations\n",
    "- `df_lines_osm_clean`: is the geodataframe related to the lines\n",
    "\n",
    "The package `hvplot` enables to zoom in the image and enables to better investigate the result of the analysis.\n",
    "Therefore, it has been used as detailed below."
   ]
  },
  {
   "cell_type": "code",
   "execution_count": null,
   "metadata": {},
   "outputs": [],
   "source": [
    "# load substation geodataframe\n",
    "df_substations_osm_clean = gpd.read_file(substations_ODC_path)\n",
    "# load lines geodataframe\n",
    "df_lines_osm_clean = gpd.read_file(lines_ODC_path)\n",
    "\n",
    "import hvplot.pandas\n",
    "\n",
    "# hvplot\n",
    "df_substations_osm_clean.hvplot(\n",
    "    geo=True,\n",
    "    size = 10,  # buses[\"tag_area\"]**(0.5)/10,\n",
    "    frame_height=750,\n",
    "    alpha=0.4,\n",
    "    tiles='CartoLight',\n",
    "    color = 'orange'  \n",
    ") * df_lines_osm_clean.hvplot(\n",
    "    geo=True,\n",
    "    alpha=0.4,\n",
    ").opts(\n",
    "    active_tools=['pan', 'wheel_zoom']\n",
    ")"
   ]
  },
  {
   "cell_type": "markdown",
   "metadata": {},
   "source": [
    "## Plot network of base_network\n",
    "\n",
    "`base_network` is the script that loads the cleaned OSM data, thus the map shown above, and prepare a preliminary PyPSA model that is later used by all scripts downstream the workflow.\n",
    "In particular, in order to compare the network structure, the substations and lines datasets are loaded\n",
    "- `n_b` is the main PyPSA network model related to `base_network`\n",
    "- `n_b.buses` is the geodataframe related to the substations\n",
    "- `n_b.lines` is the geodataframe related to the lines\n",
    "\n",
    "The package `hvplot` is used to show the model."
   ]
  },
  {
   "cell_type": "code",
   "execution_count": null,
   "metadata": {},
   "outputs": [],
   "source": [
    "# base_network PyPSA model\n",
    "n_b = pypsa.Network(network_path_b)\n",
    "\n",
    "# lines dataframe\n",
    "lines_b = n_b.lines\n",
    "lines_b['geometry'] = lines_b['geometry'].apply(loads)\n",
    "lines_b = gpd.GeoDataFrame(lines_b, crs='epsg:4326')\n",
    "\n",
    "# buses dataframe\n",
    "buses_b = n_b.buses\n",
    "buses_b[\"geometry\"] = gpd.points_from_xy(buses_b.lon, buses_b.lat)\n",
    "buses_b = gpd.GeoDataFrame(buses_b, crs='epsg:4326')\n",
    "\n",
    "# hvplot\n",
    "buses_b.hvplot(\n",
    "    geo=True,\n",
    "    size = 10,  # buses[\"tag_area\"]**(0.5)/10,\n",
    "    frame_height=750,\n",
    "    alpha=0.4,\n",
    "    tiles='CartoLight',\n",
    "    hover_cols=['bus_id'],\n",
    "    color = 'orange'  \n",
    ") * lines_b.hvplot(\n",
    "    geo=True,\n",
    "    alpha=0.4,\n",
    "    hover_cols=['line_id']\n",
    ").opts(\n",
    "    active_tools=['pan', 'wheel_zoom']\n",
    ")"
   ]
  },
  {
   "cell_type": "markdown",
   "metadata": {},
   "source": [
    "## Plot network of add_electricity\n",
    "\n",
    "`add_electricity` adds generators and load to the `base_network` model, as such no differences are expected with respect to the output model of `base_network`\n",
    "\n",
    "Similarly to the previous cases:\n",
    "- `n_a` is the PyPSA network model\n",
    "- `n_a.lines` is the lines dataframe\n",
    "- `n_a.buses` is the buses dataframe"
   ]
  },
  {
   "cell_type": "code",
   "execution_count": null,
   "metadata": {},
   "outputs": [],
   "source": [
    "n_a = pypsa.Network(network_path_a)\n",
    "\n",
    "# lines dataframe\n",
    "lines_a = n_a.lines\n",
    "lines_a['geometry'] = lines_a['geometry'].apply(loads)\n",
    "lines_a = gpd.GeoDataFrame(lines_a, crs='epsg:4326')\n",
    "\n",
    "# buses dataframe\n",
    "buses_a = n_a.buses\n",
    "buses_a[\"geometry\"] = gpd.points_from_xy(buses_a.lon, buses_a.lat)\n",
    "buses_a = gpd.GeoDataFrame(buses_a, crs='epsg:4326')\n",
    "\n",
    "# hvplot\n",
    "buses_a.hvplot(\n",
    "    geo=True,\n",
    "    size = 10,  # buses[\"tag_area\"]**(0.5)/10,\n",
    "    frame_height=750,\n",
    "    alpha=0.4,\n",
    "    tiles='CartoLight',\n",
    "    hover_cols=['bus_id'],\n",
    "    color = 'orange'  \n",
    ") * lines_a.hvplot(\n",
    "    geo=True,\n",
    "    alpha=0.4,\n",
    "    hover_cols=['line_id']\n",
    ").opts(\n",
    "    active_tools=['pan', 'wheel_zoom']\n",
    ")"
   ]
  },
  {
   "cell_type": "markdown",
   "metadata": {},
   "source": [
    "## Plot network of simplify_network\n",
    "\n",
    "`simplify_network` modifies the structure of the network obtained from `add_electricity` to remove dead-hends and group disconnected nodes that are not connected with the main network.\n",
    "The differences between the networks by `simplify_network` and `add_electricity` can be easily scouted by comparing the hvplots of the previous cell and the following.\n",
    "\n",
    "Similarly to the previous cases:\n",
    "- `n_s` is the PyPSA network model\n",
    "- `n_s.lines` is the lines dataframe\n",
    "- `n_s.buses` is the buses dataframe"
   ]
  },
  {
   "cell_type": "code",
   "execution_count": null,
   "metadata": {},
   "outputs": [],
   "source": [
    "n_s = pypsa.Network(network_path_s)\n",
    "\n",
    "# lines dataframe\n",
    "lines_s = n_s.lines\n",
    "lines_s['geometry'] = lines_s['geometry'].apply(loads)\n",
    "lines_s = gpd.GeoDataFrame(lines_s, crs='epsg:4326')\n",
    "\n",
    "# buses dataframe\n",
    "buses_s = n_s.buses\n",
    "buses_s[\"geometry\"] = gpd.points_from_xy(buses_s.lon, buses_s.lat)\n",
    "buses_s = gpd.GeoDataFrame(buses_s, crs='epsg:4326')\n",
    "\n",
    "# hvplot\n",
    "buses_s.hvplot(\n",
    "    geo=True,\n",
    "    size = 10,  # buses[\"tag_area\"]**(0.5)/10,\n",
    "    frame_height=750,\n",
    "    alpha=0.4,\n",
    "    tiles='CartoLight',\n",
    "    hover_cols=['bus_id'],\n",
    "    color = 'orange'  \n",
    ") * lines_s.hvplot(\n",
    "    geo=True,\n",
    "    alpha=0.4,\n",
    "    hover_cols=['line_id']\n",
    ").opts(\n",
    "    active_tools=['pan', 'wheel_zoom']\n",
    ")"
   ]
  },
  {
   "cell_type": "markdown",
   "metadata": {},
   "source": [
    "## Plot network of cluster_network\n",
    "\n",
    "`cluster_network` modifies the structure of the network obtained from `simplify_network` to aggregate close nodes and reduce the size of the problem as specified by the configuration file ``config.yaml``.\n",
    "The differences between the networks by `cluster_network` and `simplify_network` can be easily scouted by comparing the hvplots of the previous cell and the following.\n",
    "\n",
    "Similarly to the previous cases:\n",
    "- `n_c` is the PyPSA network model\n",
    "- `n_c.lines` is the lines dataframe\n",
    "- `n_c.buses` is the buses dataframe"
   ]
  },
  {
   "cell_type": "code",
   "execution_count": null,
   "metadata": {},
   "outputs": [],
   "source": [
    "n_c = pypsa.Network(network_path_c)\n",
    "\n",
    "# lines dataframe\n",
    "lines_c = n_c.lines\n",
    "lines_c['geometry'] = lines_c.apply(lambda x: LineString([buses_c.loc[x[\"bus0\"], \"geometry\"], buses_c.loc[x[\"bus1\"], \"geometry\"]]), axis=1)\n",
    "lines_c = gpd.GeoDataFrame(lines_c, crs='epsg:4326')\n",
    "\n",
    "# buses dataframe\n",
    "buses_c = n_c.buses\n",
    "buses_c[\"geometry\"] = gpd.points_from_xy(buses_c.x, buses_c.y)\n",
    "buses_c = gpd.GeoDataFrame(buses_c, crs='epsg:4326')\n",
    "\n",
    "# hvplot\n",
    "buses_c.hvplot(\n",
    "    geo=True,\n",
    "    size = 10,  # buses[\"tag_area\"]**(0.5)/10,\n",
    "    frame_height=750,\n",
    "    alpha=0.4,\n",
    "    tiles='CartoLight',\n",
    "    hover_cols=['bus_id'],\n",
    "    color = 'orange'  \n",
    ") * lines_c.hvplot(\n",
    "    geo=True,\n",
    "    alpha=0.4,\n",
    "    hover_cols=['line_id']\n",
    ").opts(\n",
    "    active_tools=['pan', 'wheel_zoom']\n",
    ")"
   ]
  }
 ],
 "metadata": {
  "interpreter": {
   "hash": "93061c673ce33a785d7c590269df2a13242973b51d41b0d96d8b2a166e219992"
  },
  "kernelspec": {
   "display_name": "toast",
   "language": "python",
   "name": "python3"
  },
  "language_info": {
   "codemirror_mode": {
    "name": "ipython",
    "version": 3
   },
   "file_extension": ".py",
   "mimetype": "text/x-python",
   "name": "python",
   "nbconvert_exporter": "python",
   "pygments_lexer": "ipython3",
   "version": "3.9.7"
  }
 },
 "nbformat": 4,
 "nbformat_minor": 4
}
