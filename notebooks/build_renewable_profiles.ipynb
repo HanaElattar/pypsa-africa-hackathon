{
 "cells": [
  {
   "cell_type": "markdown",
   "metadata": {},
   "source": [
    "# Exploring `build_renewable_profiles.py` outputs\n",
    "\n",
    "This jupyter notebook analyse the `build_renewable_profiles.py` **outputs**. Outputs are for instance the timeseries of wind or solar power plants.\n",
    "\n",
    "The `pypsa-africa/Snakefile` explicitly list in the **rule** what goes into the function `build_renewable_profiles.py` and what goes out (`build_renewable_profiles_{technology}.nc`). So to create the renewable timeseries, we need to provide:\n",
    "- the base_network\n",
    "- natura raster, areas where renewables are excluded i.e. areas under protection (generated in `build_natura_raster`)\n",
    "- copernicus, global land cover data (classifies land data)\n",
    "- gebco, bathemetry data (deepness of sea)\n",
    "- cutout, environmental data timeseries such as wind speed and irradiation\n",
    "```\n",
    "rule build_renewable_profiles:\n",
    "    input:\n",
    "        base_network=\"networks/base.nc\",\n",
    "        natura=\"resources/natura.tiff\",\n",
    "        copernicus=\"data/raw/copernicus/PROBAV_LC100_global_v3.0.1_2019-nrt_Discrete-Classification-map_EPSG-4326.tif\",\n",
    "        gebco=\"data/raw/gebco/GEBCO_2021_TID.nc\",\n",
    "        country_shapes='resources/country_shapes.geojson',\n",
    "        offshore_shapes='resources/offshore_shapes.geojson',\n",
    "        regions=lambda w: (\"resources/regions_onshore.geojson\"\n",
    "                                   if w.technology in ('onwind', 'solar', \"hydro\")\n",
    "                                   else \"resources/regions_offshore.geojson\"),\n",
    "        cutout=lambda w: \"cutouts/\" + config[\"renewable\"][w.technology]['cutout'] + \".nc\",\n",
    "    output: profile=\"resources/profile_{technology}.nc\",\n",
    "    log: \"logs/build_renewable_profile_{technology}.log\"\n",
    "    benchmark: \"benchmarks/build_renewable_profiles_{technology}\"\n",
    "    threads: ATLITE_NPROCESSES\n",
    "    resources: mem=ATLITE_NPROCESSES * 5000\n",
    "    script: \"scripts/build_renewable_profiles.py\"\n",
    "```\n",
    "\n",
    "\n",
    "Before analysing the outputs of add_electricity.py check that:\n",
    "- `pypsa-africa` environment (/kernel) in jupyter notebook  is active and updated\n",
    "- root folder where pypsa-africa is installed is named \"pypsa-africa\"\n",
    "- or rename the below `_sets_path_to_root(\"<folder_name>\")` accordingly"
   ]
  },
  {
   "cell_type": "code",
   "execution_count": null,
   "metadata": {},
   "outputs": [],
   "source": [
    "import os\n",
    "import sys\n",
    "sys.path.append('../')  # to import helpers\n",
    "from scripts._helpers import _sets_path_to_root\n",
    "_sets_path_to_root(\"pypsa-africa\")"
   ]
  },
  {
   "cell_type": "markdown",
   "metadata": {},
   "source": [
    "A jupyter notebook requires the user to import all they need. So we need to import all the required dependencies from the `pypsa-africa` environment:"
   ]
  },
  {
   "cell_type": "code",
   "execution_count": null,
   "metadata": {},
   "outputs": [],
   "source": [
    "import atlite\n",
    "import cartopy.crs as ccrs\n",
    "import xarray as xr\n",
    "import geopandas as gpd\n",
    "import holoviews as hv\n",
    "import pandas as pd\n",
    "import matplotlib.pyplot as plt\n",
    "import numpy as np\n",
    "import requests\n",
    "import pypsa\n",
    "import shutil\n",
    "from rasterio.plot import show\n",
    "from atlite.gis import shape_availability, ExclusionContainer\n",
    "\n",
    "\n",
    "plt.rcParams['figure.figsize'] = [7, 7]\n",
    "%matplotlib inline"
   ]
  },
  {
   "cell_type": "markdown",
   "metadata": {},
   "source": [
    "## Generate profiles (if not already available)"
   ]
  },
  {
   "cell_type": "markdown",
   "metadata": {},
   "source": [
    "If you don't have the renewable profiles such as:\n",
    "- `resources/profile_solar.nc`\n",
    "- `resources/profile_onwind.nc`\n",
    "- `resources/profile_offwind-ac.nc`\n",
    "\n",
    "you could try to generate them from the terminal. In this case set the path so that you are located at ~/pypsa-africa. Once you are there, use the command:\n",
    "\n",
    "```\n",
    "snakemake -j 1 resources/profile_{technology}.nc\n",
    "```\n",
    "\n",
    "replace {technology} for the timeseries of interest."
   ]
  },
  {
   "cell_type": "markdown",
   "metadata": {},
   "source": [
    "## Let's open the profiles\n",
    "The `build_renewable_profiles` for each technology are stored in the `resources` folder. We read first the path and open then with xarray the .nc file. As you can see there is quite a lot data available.  What you should note is that only the `potential` is grided (can be shown in a nice raster on a map). From the `profiles` we can only retrieve timeseries data without mapping it."
   ]
  },
  {
   "cell_type": "code",
   "execution_count": null,
   "metadata": {},
   "outputs": [],
   "source": [
    "res_t_path = os.path.realpath(\"resources\")+\"/profile_solar.nc\"\n",
    "res_t = xr.open_dataset(res_t_path)"
   ]
  },
  {
   "cell_type": "code",
   "execution_count": null,
   "metadata": {},
   "outputs": [],
   "source": [
    "res_t"
   ]
  },
  {
   "cell_type": "markdown",
   "metadata": {},
   "source": [
    "### The renewable potential in [MW] per cutout."
   ]
  },
  {
   "cell_type": "code",
   "execution_count": null,
   "metadata": {},
   "outputs": [],
   "source": [
    "res_t[\"potential\"].plot(vmin=0, vmax=res_t.potential[:].max())"
   ]
  },
  {
   "cell_type": "markdown",
   "metadata": {},
   "source": [
    "Let's zoom-in. For that purpose we needs the boundaries, in this case of Nigeria. With `geopandas` we retrieve the geographic shapes (in vector format) for Nigeria and read the shape boundaries."
   ]
  },
  {
   "cell_type": "code",
   "execution_count": null,
   "metadata": {},
   "outputs": [],
   "source": [
    "world = gpd.read_file(gpd.datasets.get_path('naturalearth_lowres'))\n",
    "africa = world.query('continent == \"Africa\"')\n",
    "countries = [\"Nigeria\"] # \"Niger\"]\n",
    "shapes = world[world.name.isin(countries)].set_index('name')\n",
    "\n",
    "\n",
    "import math\n",
    "\n",
    "# For showing cutouts in Africa\n",
    "# shapes = africa\n",
    "shapes.plot();\n",
    "print(shapes.total_bounds)\n",
    "latmin, lonmin, latmax, lonmax = shapes.total_bounds\n",
    "\n",
    "#latmin, lonmin, latmax, lonmax = math.floor(latmin), math.ceil(lonmin), math.floor(latmax), math.ceil(lonmax)"
   ]
  },
  {
   "cell_type": "markdown",
   "metadata": {},
   "source": [
    "Now we need to add the boundaries to the plot. Note that we also adjusted the y-scale to better show the difference accross the regions."
   ]
  },
  {
   "cell_type": "code",
   "execution_count": null,
   "metadata": {},
   "outputs": [],
   "source": [
    "res_t = res_t.sel(x=np.arange(latmin,latmax,0.01), y=np.arange(lonmin,lonmax,0.01), method=\"nearest\")"
   ]
  },
  {
   "cell_type": "code",
   "execution_count": null,
   "metadata": {},
   "outputs": [],
   "source": [
    "res_t[\"potential\"].plot(vmin=1820, vmax=res_t.potential[:].max())\n",
    "# ax.set_xlim(0,20)\n",
    "# ax.set_ylim(0,10)"
   ]
  },
  {
   "cell_type": "markdown",
   "metadata": {},
   "source": [
    "## Timeseries\n",
    "Timeseris plots are helpful to analyse the seasonality and general variability. Below we show how you could plot some of these."
   ]
  },
  {
   "cell_type": "code",
   "execution_count": null,
   "metadata": {},
   "outputs": [],
   "source": [
    "res_t['profile'].sum(dim='bus').plot()"
   ]
  },
  {
   "cell_type": "code",
   "execution_count": null,
   "metadata": {},
   "outputs": [],
   "source": [
    "res_t['profile'].sel(bus=\"1\", time=slice(\"2013-06-01\", \"2013-06-4\")).plot()"
   ]
  },
  {
   "cell_type": "code",
   "execution_count": null,
   "metadata": {},
   "outputs": [],
   "source": [
    "res_t[\"profile\"].isel(bus=sum(range(10)), time=range(0,1000)).plot()"
   ]
  },
  {
   "cell_type": "markdown",
   "metadata": {},
   "source": [
    "## Open hydro profile and plot"
   ]
  },
  {
   "cell_type": "code",
   "execution_count": null,
   "metadata": {},
   "outputs": [],
   "source": [
    "res_t_path_h = os.path.realpath(\"resources\")+\"/profile_hydro.nc\"\n",
    "res_h = xr.open_dataset(res_t_path_h)"
   ]
  },
  {
   "cell_type": "code",
   "execution_count": null,
   "metadata": {},
   "outputs": [],
   "source": [
    "res_h.inflow.plot.line(x=\"time\")"
   ]
  },
  {
   "cell_type": "code",
   "execution_count": null,
   "metadata": {},
   "outputs": [],
   "source": []
  }
 ],
 "metadata": {
  "@webio": {
   "lastCommId": null,
   "lastKernelId": null
  },
  "kernelspec": {
   "display_name": "pypsa-africa",
   "language": "python",
   "name": "pypsa-africa"
  },
  "language_info": {
   "codemirror_mode": {
    "name": "ipython",
    "version": 3
   },
   "file_extension": ".py",
   "mimetype": "text/x-python",
   "name": "python",
   "nbconvert_exporter": "python",
   "pygments_lexer": "ipython3",
   "version": "3.9.7"
  }
 },
 "nbformat": 4,
 "nbformat_minor": 4
}
