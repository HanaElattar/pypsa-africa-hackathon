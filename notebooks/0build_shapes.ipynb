{
 "cells": [
  {
   "cell_type": "markdown",
   "metadata": {},
   "source": [
    "# Exploring `build_shapes.py` outputs\n",
    "\n",
    "### Jupyter notebook needs to be improves"
   ]
  },
  {
   "cell_type": "code",
   "execution_count": null,
   "metadata": {},
   "outputs": [],
   "source": [
    "import xarray as xr\n",
    "import geopandas as gpd\n",
    "import pandas as pd\n",
    "import matplotlib.pyplot as plt\n",
    "import numpy as np\n",
    "import requests\n",
    "import pypsa\n",
    "import shutil\n",
    "from rasterio.plot import show\n",
    "\n",
    "import os\n",
    "import sys\n",
    "sys.path.append('../')  # to import helpers\n",
    "from scripts._helpers import _sets_path_to_root\n",
    "_sets_path_to_root(\"pypsa-africa\")"
   ]
  },
  {
   "cell_type": "code",
   "execution_count": null,
   "metadata": {},
   "outputs": [],
   "source": [
    "continent = gpd.read_file('resources/country_shapes.geojson')\n",
    "off_shore = gpd.read_file('resources/offshore_shapes.geojson')\n",
    "off_shore_old = gpd.read_file('resources/offshore_shapes.geojson')\n",
    "gadm = gpd.read_file('resources/gadm_shapes.geojson')\n",
    "\n",
    "ax = continent.plot(figsize=(10,10))\n",
    "off_shore.plot(ax=ax)"
   ]
  },
  {
   "cell_type": "code",
   "execution_count": null,
   "metadata": {},
   "outputs": [],
   "source": [
    "off_shore_old"
   ]
  },
  {
   "cell_type": "code",
   "execution_count": null,
   "metadata": {},
   "outputs": [],
   "source": [
    "off_shore2 = off_shore[off_shore.name == \"NG\"]\n",
    "off_shore2.plot()"
   ]
  },
  {
   "cell_type": "code",
   "execution_count": null,
   "metadata": {},
   "outputs": [],
   "source": [
    "off_shore"
   ]
  },
  {
   "cell_type": "code",
   "execution_count": null,
   "metadata": {},
   "outputs": [],
   "source": [
    "ax2= gadm.plot(cmap='OrRd', figsize=(20, 20), legend=True) #column=\"pop\", \n",
    "off_shore.plot(ax=ax2, label=\"offshore\")\n",
    "# plt.savefig(\"gadm_pop.pdf\")"
   ]
  },
  {
   "cell_type": "code",
   "execution_count": null,
   "metadata": {},
   "outputs": [],
   "source": [
    "ax3= gadm.plot(column=\"pop\", cmap='OrRd', figsize=(20, 20), legend=True)\n",
    "off_shore.plot(ax=ax2, label=\"offshore\")\n",
    "# plt.savefig(\"gadm_gdp.pdf\")"
   ]
  },
  {
   "cell_type": "code",
   "execution_count": null,
   "metadata": {},
   "outputs": [],
   "source": [
    "gadm[gadm[\"country\"]==\"NG\"]"
   ]
  },
  {
   "cell_type": "code",
   "execution_count": null,
   "metadata": {},
   "outputs": [],
   "source": [
    "gadm[gadm.country==\"NG\"].sum()"
   ]
  },
  {
   "cell_type": "code",
   "execution_count": null,
   "metadata": {},
   "outputs": [],
   "source": [
    "g1 = off_shore.loc[0, \"geometry\"]\n",
    "g2 = off_shore.loc[1, \"geometry\"]\n",
    "g3 = g1.union(g2)\n",
    "g3"
   ]
  },
  {
   "cell_type": "code",
   "execution_count": null,
   "metadata": {},
   "outputs": [],
   "source": [
    "g1"
   ]
  },
  {
   "cell_type": "code",
   "execution_count": null,
   "metadata": {},
   "outputs": [],
   "source": [
    "g2"
   ]
  },
  {
   "cell_type": "code",
   "execution_count": null,
   "metadata": {},
   "outputs": [],
   "source": [
    "off_shore2 = off_shore.copy()\n",
    "off_shore2 = off_shore2[off_shore2.name ==\"NG\"]"
   ]
  },
  {
   "cell_type": "code",
   "execution_count": null,
   "metadata": {},
   "outputs": [],
   "source": [
    "off_shore2.plot()"
   ]
  },
  {
   "cell_type": "code",
   "execution_count": null,
   "metadata": {},
   "outputs": [],
   "source": [
    "off_shore2.loc[1, \"geometry\"]"
   ]
  },
  {
   "cell_type": "code",
   "execution_count": null,
   "metadata": {},
   "outputs": [],
   "source": [
    "(off_shore.name == \"MA\").sum()"
   ]
  },
  {
   "cell_type": "code",
   "execution_count": null,
   "metadata": {},
   "outputs": [],
   "source": [
    "ret_df = off_shore.copy()\n",
    "off_shore.plot()\n",
    "\n",
    "for c_code in [\"SD\", \"KE\"]:\n",
    "    selection = (ret_df.name == c_code)\n",
    "    n_offshore_shapes = selection.sum()\n",
    "\n",
    "    if n_offshore_shapes > 1:\n",
    "        # when multiple shapes per country, then merge polygons\n",
    "        \n",
    "        geom = ret_df[selection].geometry.unary_union\n",
    "        print(\"TO DROP: \", ret_df[selection].index)\n",
    "        ret_df.drop(ret_df[selection].index, inplace=True)\n",
    "        ret_df.iloc[-1] = [c_code, geom]\n",
    "ret_df.plot()\n",
    "        "
   ]
  },
  {
   "cell_type": "code",
   "execution_count": null,
   "metadata": {},
   "outputs": [],
   "source": [
    "ret_df"
   ]
  },
  {
   "cell_type": "code",
   "execution_count": null,
   "metadata": {},
   "outputs": [],
   "source": []
  }
 ],
 "metadata": {
  "interpreter": {
   "hash": "64a9945f8f137ed15f7097a1dbedf9f1ce29494f0e33cb4fc5724026c999b930"
  },
  "kernelspec": {
   "display_name": "pypsa-africa",
   "language": "python",
   "name": "pypsa-africa"
  },
  "language_info": {
   "codemirror_mode": {
    "name": "ipython",
    "version": 3
   },
   "file_extension": ".py",
   "mimetype": "text/x-python",
   "name": "python",
   "nbconvert_exporter": "python",
   "pygments_lexer": "ipython3",
   "version": "3.9.7"
  }
 },
 "nbformat": 4,
 "nbformat_minor": 4
}
