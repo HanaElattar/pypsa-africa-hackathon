{
 "cells": [
  {
   "cell_type": "code",
   "execution_count": null,
   "metadata": {},
   "outputs": [],
   "source": [
    "import xarray as xr\r\n",
    "import geopandas as gpd\r\n",
    "import pandas as pd\r\n",
    "import matplotlib.pyplot as plt\r\n",
    "import numpy as np\r\n",
    "import requests\r\n",
    "import pypsa\r\n",
    "import shutil\r\n",
    "from rasterio.plot import show\r\n",
    "from shapely.geometry import LineString, Point\r\n",
    "from shapely.wkt import loads\r\n",
    "\r\n",
    "import os\r\n",
    "import sys\r\n",
    "sys.path.append('../')  # to import helpers\r\n",
    "from scripts._helpers import _sets_path_to_root\r\n",
    "_sets_path_to_root(\"pypsa-africa\")"
   ]
  },
  {
   "cell_type": "code",
   "execution_count": null,
   "metadata": {},
   "outputs": [],
   "source": [
    "# load shapes\r\n",
    "continent = gpd.read_file('resources/country_shapes.geojson')\r\n",
    "off_shore = gpd.read_file('resources/offshore_shapes.geojson')"
   ]
  },
  {
   "cell_type": "code",
   "execution_count": null,
   "metadata": {},
   "outputs": [],
   "source": [
    "# plot output download_osm_data\r\n",
    "df_substations_osm_download = gpd.read_file(os.getcwd()+\"/data/raw/africa_all_raw_substations.geojson\")\r\n",
    "df_lines_osm_download = gpd.read_file(os.getcwd()+\"/data/raw/africa_all_raw_lines.geojson\")\r\n",
    "\r\n",
    "ax = continent.plot(figsize=(10,10))\r\n",
    "off_shore.plot(ax=ax)\r\n",
    "df_substations_osm_download.plot(ax=ax, color=\"orange\")\r\n",
    "df_lines_osm_download.plot(ax=ax, color=\"yellow\")"
   ]
  },
  {
   "cell_type": "code",
   "execution_count": null,
   "metadata": {},
   "outputs": [],
   "source": [
    "# plot output osm_data_cleaning\r\n",
    "df_substations_osm_clean = gpd.read_file(os.getcwd()+\"/data/clean/africa_all_substations.geojson\")\r\n",
    "df_lines_osm_clean = gpd.read_file(os.getcwd()+\"/data/clean/africa_all_lines.geojson\")\r\n",
    "\r\n",
    "ax = continent.plot(figsize=(10,10))\r\n",
    "off_shore.plot(ax=ax)\r\n",
    "df_substations_osm_clean.plot(ax=ax, color=\"orange\")\r\n",
    "df_lines_osm_clean.plot(ax=ax, color=\"yellow\")"
   ]
  },
  {
   "cell_type": "code",
   "execution_count": null,
   "metadata": {},
   "outputs": [],
   "source": [
    "os.getcwd()+\"/data/osm/africa_all_lines_build_network.csv\""
   ]
  },
  {
   "cell_type": "code",
   "execution_count": null,
   "metadata": {},
   "outputs": [],
   "source": [
    "df_substations_osm_build_network_pd"
   ]
  },
  {
   "cell_type": "code",
   "execution_count": null,
   "metadata": {},
   "outputs": [],
   "source": [
    "# plot output build_osm_network\r\n",
    "df_substations_osm_build_network_pd = pd.read_csv(os.getcwd()+\"/data/base_network/africa_all_buses_build_network.csv\")\r\n",
    "df_lines_osm_build_network_pd = pd.read_csv(os.getcwd()+\"/data/base_network/africa_all_lines_build_network.csv\")\r\n",
    "\r\n",
    "df_substations_osm_build_network_pd[\"geometry\"] = gpd.points_from_xy(df_substations_osm_build_network_pd.lon, df_substations_osm_build_network_pd.lat)\r\n",
    "#df_lines_osm_build_network_pd.dropna(subset=\"geometry\", inplace=True)\r\n",
    "df_lines_osm_build_network_pd[\"geometry\"] = df_lines_osm_build_network_pd[\"geometry\"].map(loads)\r\n",
    "\r\n",
    "df_substations_osm_build_network = gpd.GeoDataFrame(geometry=df_substations_osm_build_network_pd.geometry, crs='epsg:4326')\r\n",
    "df_lines_osm_build_network = gpd.GeoDataFrame(geometry=df_lines_osm_build_network_pd.geometry, crs='epsg:4326')\r\n",
    "\r\n",
    "ax = continent.plot(figsize=(10,10))\r\n",
    "off_shore.plot(ax=ax)\r\n",
    "df_substations_osm_build_network.plot(ax=ax, color=\"orange\")\r\n",
    "df_lines_osm_build_network.plot(ax=ax, color=\"yellow\")"
   ]
  },
  {
   "cell_type": "code",
   "execution_count": null,
   "metadata": {},
   "outputs": [],
   "source": [
    "# plot output base_network\r\n",
    "n = pypsa.Network(os.getcwd() + \"/networks/base.nc\")\r\n",
    "\r\n",
    "lines_raw = n.lines.copy()\r\n",
    "lines_raw[\"geometry\"] = lines_raw[\"geometry\"].map(loads)\r\n",
    "# [LineString([Point(x.bus0_lon, x.bus0_lat), Point(x.bus1_lon, x.bus1_lat)]) for index, x in lines_raw.iterrows() \r\n",
    "#     if (x.bus0_lat is not None) and (x.bus0_lon is not None) and (x.bus1_lat is not None) and (x.bus1_lon is not None)]\r\n",
    "lines = gpd.GeoDataFrame(geometry=lines_raw.geometry, crs='epsg:4326')\r\n",
    "\r\n",
    "buses_raw = n.buses.copy()\r\n",
    "buses_raw[\"geometry\"] = gpd.points_from_xy(buses_raw.lon, buses_raw.lat)\r\n",
    "buses = gpd.GeoDataFrame(geometry=buses_raw.geometry, crs='epsg:4326')\r\n",
    "\r\n",
    "continent = gpd.read_file('resources/country_shapes.geojson')\r\n",
    "off_shore = gpd.read_file('resources/offshore_shapes.geojson')\r\n",
    "\r\n",
    "ax = continent.plot(figsize=(10,10))\r\n",
    "off_shore.plot(ax=ax)\r\n",
    "buses.plot(ax=ax, color = \"orange\")\r\n",
    "lines.plot(ax=ax, color = \"yellow\")\r\n"
   ]
  },
  {
   "cell_type": "code",
   "execution_count": null,
   "metadata": {},
   "outputs": [],
   "source": []
  }
 ],
 "metadata": {
  "interpreter": {
   "hash": "64a9945f8f137ed15f7097a1dbedf9f1ce29494f0e33cb4fc5724026c999b930"
  },
  "kernelspec": {
   "display_name": "Python 3.9.6 64-bit ('toast': conda)",
   "name": "python3"
  },
  "language_info": {
   "codemirror_mode": {
    "name": "ipython",
    "version": 3
   },
   "file_extension": ".py",
   "mimetype": "text/x-python",
   "name": "python",
   "nbconvert_exporter": "python",
   "pygments_lexer": "ipython3",
   "version": "3.9.6"
  }
 },
 "nbformat": 4,
 "nbformat_minor": 2
}
