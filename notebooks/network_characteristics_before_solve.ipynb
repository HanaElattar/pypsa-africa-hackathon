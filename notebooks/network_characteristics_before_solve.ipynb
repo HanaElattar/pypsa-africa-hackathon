{
 "cells": [
  {
   "cell_type": "markdown",
   "metadata": {},
   "source": [
    "# Description of the network and installed capacities before the optimization"
   ]
  },
  {
   "cell_type": "code",
   "execution_count": null,
   "metadata": {},
   "outputs": [],
   "source": [
    "import logging\n",
    "import os\n",
    "\n",
    "import pypsa\n",
    "import yaml\n",
    "import pandas as pd\n",
    "import geopandas as gpd\n",
    "import geoviews as gv\n",
    "import hvplot.pandas\n",
    "import numpy as np\n",
    "import scipy as sp\n",
    "import networkx as nx\n",
    "\n",
    "# plotting stuff\n",
    "import matplotlib.pyplot as plt\n",
    "plt.style.use(\"bmh\")\n",
    "import seaborn as sns  ###\n",
    "import cartopy.crs as ccrs\n",
    "sns.set(style='darkgrid')\n",
    "\n",
    "from scipy.sparse import csgraph\n",
    "from itertools import product\n",
    "\n",
    "from shapely.geometry import Point, LineString\n",
    "import shapely, shapely.prepared, shapely.wkt\n",
    "\n",
    "logger = logging.getLogger(__name__)\n",
    "\n",
    "pd.set_option('display.max_columns', None)\n",
    "pd.set_option('display.max_colwidth', 70)\n",
    "\n",
    "import sys\n",
    "sys.path.append('../')  # to import helpers\n",
    "from scripts._helpers import _sets_path_to_root\n",
    "_sets_path_to_root(\"pypsa-africa\")"
   ]
  },
  {
   "cell_type": "markdown",
   "metadata": {},
   "source": [
    "## load network before optimization"
   ]
  },
  {
   "cell_type": "code",
   "execution_count": null,
   "metadata": {},
   "outputs": [],
   "source": [
    "input_solve_network = os.getcwd() + '/networks/elec_s_10_ec_lv0.3_Co2L-3H.nc'\n",
    "\n",
    "n_input = pypsa.Network(input_solve_network)"
   ]
  },
  {
   "cell_type": "markdown",
   "metadata": {},
   "source": [
    "## Overview of the inputs and installed capacities"
   ]
  },
  {
   "cell_type": "markdown",
   "metadata": {},
   "source": [
    "### Number of components by network type"
   ]
  },
  {
   "cell_type": "code",
   "execution_count": null,
   "metadata": {},
   "outputs": [],
   "source": [
    "for c in n_input.iterate_components(list(n_input.components.keys())[2:]):\n",
    "    print(\"Component '{}' has {} entries\".format(c.name,len(c.df)))"
   ]
  },
  {
   "cell_type": "markdown",
   "metadata": {},
   "source": [
    "### Overview of the characteristics of the network\n",
    "Below we describe the main characteristics of the network are drawn:\n",
    "- bus0: the first ending of the line\n",
    "- bus1: the second ending of the line\n",
    "- s_nom: the nominal capacity of the line\n",
    "- capital_cost: the investment cost of the line\n",
    "- s_nom_extendable: (True/False) binary value stating whether the line capacity can be upgraded"
   ]
  },
  {
   "cell_type": "code",
   "execution_count": null,
   "metadata": {},
   "outputs": [],
   "source": [
    "n_input.lines[['bus0', 'bus1', 's_nom', 'capital_cost', 's_nom_extendable']]"
   ]
  },
  {
   "cell_type": "markdown",
   "metadata": {},
   "source": [
    "### Overview of the installed generation by carrier\n",
    "Below we describe the main installed capacities (p_nom_opt), average specific capital cost (capital_cost) and average marginal cost (marginal_cost) by carrier and bus\n",
    "- p_nom_opt: nominal installed capacity\n",
    "- capital_cost: investment cost of the technology\n",
    "- marginal_cost: marginal cost of the technology\n",
    "- p_nom_extendable: (True/False) binary variable stating whether the capacity of the asset can be changed"
   ]
  },
  {
   "cell_type": "code",
   "execution_count": null,
   "metadata": {},
   "outputs": [],
   "source": [
    "gen_cap = n_input.generators.groupby(['bus', 'carrier'])[\n",
    "    ['p_nom_opt', 'capital_cost', 'marginal_cost', 'p_nom_extendable']\n",
    "    ].agg({'p_nom_opt': 'sum', 'capital_cost': 'mean', 'marginal_cost': 'mean', 'p_nom_extendable': 'sum'})\n",
    "gen_cap"
   ]
  },
  {
   "cell_type": "markdown",
   "metadata": {},
   "source": [
    "### Average specific energy production by node and carrier\n",
    "In this picture, we detail the specific energy production by bus and carrier; the output is a panda Series\n",
    "In the first column (first index) the bus name is shown; in the second column (second index), the carrier is specified and finally the energy quantity is detailed in the last column"
   ]
  },
  {
   "cell_type": "code",
   "execution_count": null,
   "metadata": {},
   "outputs": [],
   "source": [
    "n_input.generators_t.p_max_pu.sum().rename('en_pu')"
   ]
  },
  {
   "cell_type": "markdown",
   "metadata": {},
   "source": [
    "### Plot of the demand by bus\n",
    "In this cells, the total demand by bus is created and denoted as `load_serie`, then it is plotted to show the location of the demand.\n",
    "In the plot, the size of the dot denotes the total demand and the size of the lines in the network denotes the total network capacity between the nodes."
   ]
  },
  {
   "cell_type": "code",
   "execution_count": null,
   "metadata": {},
   "outputs": [],
   "source": [
    "# Creation of the load series by bus\n",
    "load_serie = n_input.loads_t.p_set.sum().rename(\"load\").rename_axis(\"bus\")"
   ]
  },
  {
   "cell_type": "code",
   "execution_count": null,
   "metadata": {},
   "outputs": [],
   "source": [
    "# plot the load serie\n",
    "\n",
    "fig,ax = plt.subplots(\n",
    "        figsize=(10,10),\n",
    "        subplot_kw={\"projection\":ccrs.PlateCarree()} #PlateCarree(default), Mercator, Orthographic\n",
    ")\n",
    "\n",
    "n_input.plot(margin=0.1, \n",
    "        ax=None, \n",
    "        geomap=True, #'10m' leads to a beautiful high resolution map \n",
    "        projection= None, \n",
    "        bus_colors='cadetblue', \n",
    "        bus_alpha=1, \n",
    "        bus_sizes=load_serie*.0000003, #n.loads_t.p_set.sum().rename(\"load\").rename_axis(\"bus\")*.0000003, \n",
    "        bus_cmap=None, \n",
    "        line_colors='rosybrown', \n",
    "        link_colors='darkseagreen', #loading\n",
    "        transformer_colors='orange', \n",
    "        line_widths=n_input.lines.s_nom/3e2, \n",
    "        link_widths=1.5, \n",
    "        transformer_widths=1.5, \n",
    "        line_cmap=None, \n",
    "        link_cmap=None, #plt.cm.virdis (colordmap for line loading)\n",
    "        transformer_cmap=None, \n",
    "        flow=None, \n",
    "        branch_components=None, \n",
    "        layouter=None, \n",
    "        title='Generator Map', \n",
    "        boundaries=None, \n",
    "        geometry=False, \n",
    "        jitter=None, \n",
    "        color_geomap=True)#None or True\n",
    "\n",
    "ax.axis('off');"
   ]
  }
 ],
 "metadata": {
  "interpreter": {
   "hash": "80b8e479329add50790c5c5f77c522cbd54126228b383995b70e0610cb78cfa9"
  },
  "kernelspec": {
   "display_name": "Python 3.9.6 64-bit ('toast': conda)",
   "language": "python",
   "name": "python3"
  },
  "language_info": {
   "codemirror_mode": {
    "name": "ipython",
    "version": 3
   },
   "file_extension": ".py",
   "mimetype": "text/x-python",
   "name": "python",
   "nbconvert_exporter": "python",
   "pygments_lexer": "ipython3",
   "version": "3.9.6"
  }
 },
 "nbformat": 4,
 "nbformat_minor": 2
}
