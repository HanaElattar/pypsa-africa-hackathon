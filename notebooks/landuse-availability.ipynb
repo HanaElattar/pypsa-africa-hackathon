{
 "cells": [
  {
   "cell_type": "markdown",
   "metadata": {},
   "source": [
    "# Calculate Landuse Availabilities\n",
    "\n",
    "This example shows how `atlite` can deal with landuse restrictions. The script is adjusted from the excellent `atlite` examples that can be found here https://github.com/PyPSA/atlite/tree/master/examples"
   ]
  },
  {
   "cell_type": "code",
   "execution_count": null,
   "metadata": {},
   "outputs": [],
   "source": [
    "import atlite\n",
    "import xarray as xr\n",
    "import geopandas as gpd\n",
    "import matplotlib.pyplot as plt\n",
    "import numpy as np\n",
    "import requests\n",
    "import shutil\n",
    "from rasterio.plot import show\n",
    "from atlite.gis import shape_availability, ExclusionContainer\n",
    "\n",
    "import os\n",
    "import sys\n",
    "sys.path.append('../')  # to import helpers\n",
    "from scripts._helpers import _sets_path_to_root\n",
    "_sets_path_to_root(\"pypsa-africa\")\n",
    "\n",
    "\n",
    "# IMPORTANT: RUN SCRIPT FROM THIS SCRIPTS DIRECTORY i.e data_exploration/ TODO: make more robust\n",
    "# os.chdir(os.path.dirname(os.path.abspath(__file__)))\n",
    "sys.path.append(\"./../scripts\")\n",
    "\n",
    "plt.rcParams['figure.figsize'] = [7, 7]"
   ]
  },
  {
   "cell_type": "markdown",
   "metadata": {},
   "source": [
    "With `geopandas` we retrieve the geographic shapes (in vector format) for Nigeria and Niger."
   ]
  },
  {
   "cell_type": "code",
   "execution_count": null,
   "metadata": {},
   "outputs": [],
   "source": [
    "world = gpd.read_file(gpd.datasets.get_path('naturalearth_lowres'))\n",
    "africa = world.query('continent == \"Africa\"')\n",
    "countries = [\"Nigeria\", \"Niger\"]\n",
    "shapes = world[world.name.isin(countries)].set_index('name')\n",
    "\n",
    "# For showing cutouts in Africa\n",
    "# shapes = africa\n",
    "shapes.plot();"
   ]
  },
  {
   "cell_type": "markdown",
   "metadata": {},
   "source": [
    "We create an `atlite.Cutout` which covers the whole regions and builds the backbone for our analysis. Later, it will enable to retrieve the needed weather data. "
   ]
  },
  {
   "cell_type": "code",
   "execution_count": null,
   "metadata": {},
   "outputs": [],
   "source": [
    "existing_cutout_path = os.path.realpath(\"cutouts\")+\"/africa-2013-era5\"  # data for whole Africa\n",
    "bounds = shapes.cascaded_union.buffer(1).bounds\n",
    "cutout = atlite.Cutout(existing_cutout_path, module='era5', bounds=bounds, time=slice('2013-01-01', '2013-01-02'))"
   ]
  },
  {
   "cell_type": "markdown",
   "metadata": {},
   "source": [
    "Let's see how the grid cells and the regional shapes overlap. "
   ]
  },
  {
   "cell_type": "code",
   "execution_count": null,
   "metadata": {},
   "outputs": [],
   "source": [
    "fig, ax = plt.subplots(figsize=(7,7))\n",
    "\n",
    "# Plotting requirements\n",
    "xlim = [shapes.total_bounds[0], shapes.total_bounds[2]]\n",
    "ylim = [shapes.total_bounds[1], shapes.total_bounds[3]]\n",
    "ax.set_xlim(xlim)\n",
    "ax.set_ylim(ylim)\n",
    "\n",
    "shapes.plot(ax=ax)\n",
    "cutout.grid.plot(ax=ax, edgecolor='grey', color='None')"
   ]
  },
  {
   "cell_type": "markdown",
   "metadata": {},
   "source": [
    "## Dataset to constraint the availbility\n",
    "\n",
    "The following dataset is here applied containing forest rasters in Africa (and many more things).\n",
    "\n",
    "- Copernicus Global Land Service Dataset refered in the following as Copernicus data\n",
    "\n",
    "Marcel Buchhorn, Bruno Smets, Luc Bertels, Bert De Roo, Myroslava Lesiv, Nandin-Erdene Tsendbazar, Martin Herold, & Steffen Fritz. (2020). Copernicus Global Land Service: Land Cover 100m: collection 3: epoch 2018: Globe (V3.0.1) [Data set]. Zenodo. https://doi.org/10.5281/zenodo.3518038\n",
    "Contains 23 classes from forests to build area. "
   ]
  },
  {
   "cell_type": "code",
   "execution_count": null,
   "metadata": {},
   "outputs": [],
   "source": [
    "def download_copernicus(update=False, out_logging=True):\n",
    "    \"\"\"\n",
    "    Download copernicus (land coverage data) tiff file from zenodo: https://zenodo.org/record/3518038#.YRGtMjoo_mE\n",
    "    The file will be stored in ~/pypsa-africa/data/landcover as `PROBAV_LC100_global_v3.0.1_2018-conso_Forest-Type-layer_EPSG-4326.tif`\n",
    "\n",
    "    Parameters\n",
    "    ----------\n",
    "    update : bool \n",
    "        Update = true, forces re-download of files\n",
    "\n",
    "    \"\"\"\n",
    "    input_file = \"PROBAV_LC100_global_v3.0.1_2018-conso_Forest-Type-layer_EPSG-4326.tif\"\n",
    "    copernicus_url = \"https://zenodo.org/record/3518038/files/PROBAV_LC100_global_v3.0.1_2018-conso_Forest-Type-layer_EPSG-4326.tif?download=1\"\n",
    "\n",
    "    input_filepath = os.path.join(\n",
    "        os.getcwd(), \"data\", \"raw\", \"landcover\", input_file\n",
    "    )\n",
    "\n",
    "    if not os.path.exists(input_filepath) or update is True:\n",
    "        if out_logging:\n",
    "            print(f\"{input_file} does not exist, downloading to {input_filepath}\")\n",
    "        #  create data/osm directory\n",
    "        os.makedirs(os.path.dirname(input_filepath), exist_ok=True)\n",
    "\n",
    "        with requests.get(copernicus_url, stream=True) as r:\n",
    "            with open(input_filepath, \"wb\") as f:\n",
    "                shutil.copyfileobj(r.raw, f)\n",
    "    \n",
    "    return\n",
    "\n",
    "download_copernicus()"
   ]
  },
  {
   "cell_type": "markdown",
   "metadata": {},
   "source": [
    "The [Copernicus Global Land Service](https://zenodo.org/record/3518038#.YRIbFToo-EB) database provides a global 100 m x 100 m raster which, for each raster cell, indicates the type of landuse (forest, urban, industrial). In total there are 23 classes.\n",
    "\n",
    "For calculating the availability per cutout weather cells, an `ExclusionContainer` must be defined beforehand. It serves as a container for all rasters and geometries we want to exclude (or possibly include). \n",
    "\n",
    "In many cases, rasters and geometries have different projections and resolutions. Therefore, the `ExclusionContainer` is initialized by a CRS and a resolution which suits as a basis for all added rasters and geometries. Per default the CRS is 3035 and the resoultion 100, which leads set a raster of 100 meter resolution. All rasters and geometries will be converted to this `(crs, res)` config if they don't match it. \n",
    "\n",
    "Some extra functionality which needs to be adjusted for the Copernicus data:\n",
    "When adding a raster to the `ExclusionContainer` you can specify which codes (integers) to exclude. \n",
    "By setting `invert=True`, you can also restrict the **inclusion** to a set of codes. Further you can buffer around codes (see the docs for detail). Here we are going to exclude the first twenty landuse codes. "
   ]
  },
  {
   "cell_type": "code",
   "execution_count": null,
   "metadata": {},
   "outputs": [],
   "source": [
    "# Data = Forest Type Layer (0-5)\n",
    "input_file = \"PROBAV_LC100_global_v3.0.1_2018-conso_Forest-Type-layer_EPSG-4326.tif\"\n",
    "input_filepath = os.path.join(\n",
    "    os.getcwd(), \"data\", \"raw\", \"landcover\", input_file\n",
    ")\n",
    "CORINE = input_filepath\n",
    "excluder = ExclusionContainer()\n",
    "excluder.add_raster(CORINE)"
   ]
  },
  {
   "cell_type": "markdown",
   "metadata": {},
   "source": [
    "For the demonstration we want to see how the landuse availability behaves within one specific shape, e.g. Nigeria. \n",
    "\n",
    "Note that, since the excluder is in `crs=3035`, we convert to geometry of Nigeria to `excluder.crs` for plotting it..."
   ]
  },
  {
   "cell_type": "code",
   "execution_count": null,
   "metadata": {},
   "outputs": [],
   "source": [
    "nigeria = shapes.loc[['Nigeria']].geometry.to_crs(excluder.crs)\n",
    "masked, transform = shape_availability(nigeria, excluder)"
   ]
  },
  {
   "cell_type": "markdown",
   "metadata": {},
   "source": [
    "...and use the `shape_availability` function of `atlite` to calculate a mask for the `ExclusionContainer` excluder. "
   ]
  },
  {
   "cell_type": "code",
   "execution_count": null,
   "metadata": {},
   "outputs": [],
   "source": [
    "eligible_share = masked.sum() * excluder.res**2 / nigeria.geometry.item().area"
   ]
  },
  {
   "cell_type": "markdown",
   "metadata": {},
   "source": [
    "The `masked` object is a numpy array. Eligile raster cells have a 1 and excluded cells a 0. Note that this data still lives in the projection of `excluder`. We use the `rasterio.plot.show` function for plotting"
   ]
  },
  {
   "cell_type": "code",
   "execution_count": null,
   "metadata": {},
   "outputs": [],
   "source": [
    "fig, ax = plt.subplots()\n",
    "ax = show(masked, transform=transform, cmap='Greens', ax=ax)\n",
    "nigeria.plot(ax=ax, edgecolor='k', color='None')\n",
    "ax.set_title(f'Eligible area (green) {eligible_share * 100:2.2f}%');"
   ]
  },
  {
   "cell_type": "markdown",
   "metadata": {},
   "source": [
    "How does is look when we add our cutout grid to the plot? How do the weather cells intersect with the available area? "
   ]
  },
  {
   "cell_type": "code",
   "execution_count": null,
   "metadata": {},
   "outputs": [],
   "source": [
    "fig, ax = plt.subplots()\n",
    "\n",
    "# Plotting requirements\n",
    "xlim = [shapes.total_bounds[0], shapes.total_bounds[2]]\n",
    "ylim = [shapes.total_bounds[1], shapes.total_bounds[3]]\n",
    "ax.set_xlim(xlim)\n",
    "ax.set_ylim(ylim)\n",
    "\n",
    "ax = show(masked, transform=transform, cmap='Greens', ax=ax)\n",
    "nigeria.plot(ax=ax, edgecolor='k', color='None')\n",
    "cutout.grid.to_crs(excluder.crs).plot(edgecolor='grey', color='None', ax=ax, ls=':')\n",
    "ax.set_title(f'Eligible area (green) {eligible_share * 100:2.2f}%');"
   ]
  },
  {
   "cell_type": "markdown",
   "metadata": {},
   "source": [
    "We see that the weather cells are much larger than the raster cells. `GDAL` provides a fast reprojection function for averaging fine-grained to coarse-grained rasters. `Atlite` automates this calculation for all geometries in `shapes` when calling the `cutout.availabilitymatrix` function. Let's see how this function performs. (Note that the steps before are not necessary for this calculation.)\n",
    "\n",
    "**INFO**: *For large sets of shapes set nprocesses to a number > 1 for parallelization.*"
   ]
  },
  {
   "cell_type": "code",
   "execution_count": null,
   "metadata": {},
   "outputs": [],
   "source": [
    "A = cutout.availabilitymatrix(shapes, excluder)\n",
    "A"
   ]
  },
  {
   "cell_type": "markdown",
   "metadata": {},
   "source": [
    "`A` is an DataArray with 3 dimensions (`shape`, `x`, `y`) and very sparse data. It indicates the relative overlap of weather cell `(x, y)` with geometry `shape` while excluding the area specified by the `excluder`. \n",
    "\n",
    "How does the availability look for our example of Nigeria?"
   ]
  },
  {
   "cell_type": "code",
   "execution_count": null,
   "metadata": {},
   "outputs": [],
   "source": [
    "# TODO: Plot worked however was somehow scaled to Africa\n",
    "\n",
    "fig, ax = plt.subplots(figsize=(7,7))\n",
    "\n",
    "# Plotting requirements\n",
    "xlim = [shapes.total_bounds[0], shapes.total_bounds[2]]\n",
    "ylim = [shapes.total_bounds[1], shapes.total_bounds[3]]\n",
    "ax.set_xlim(xlim)\n",
    "ax.set_ylim(ylim)\n",
    "\n",
    "A.sel(name='Nigeria').plot(cmap='Greens')\n",
    "shapes.loc[['Nigeria']].plot(ax=ax, edgecolor='k', color='None')\n",
    "cutout.grid.to_crs(excluder.crs).plot(ax=ax, color='None', edgecolor='grey', ls=':')"
   ]
  },
  {
   "cell_type": "markdown",
   "metadata": {},
   "source": [
    "Note that now the projection is in `cutout.crs`. In the south, where most of the areas were excluded, the availability is lower than 0.5. That means less than the half of these weather cells and their potentials can be exploited. "
   ]
  }
 ],
 "metadata": {
  "@webio": {
   "lastCommId": null,
   "lastKernelId": null
  },
  "kernelspec": {
   "display_name": "toast",
   "language": "python",
   "name": "toast"
  },
  "language_info": {
   "codemirror_mode": {
    "name": "ipython",
    "version": 3
   },
   "file_extension": ".py",
   "mimetype": "text/x-python",
   "name": "python",
   "nbconvert_exporter": "python",
   "pygments_lexer": "ipython3",
   "version": "3.9.6"
  }
 },
 "nbformat": 4,
 "nbformat_minor": 4
}
