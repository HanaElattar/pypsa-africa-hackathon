{
 "cells": [
  {
   "cell_type": "markdown",
   "metadata": {},
   "source": [
    "# Exploring `build_bus_regions` outputs\n",
    "\n",
    "### Jupyter notebook needs to be improved"
   ]
  },
  {
   "cell_type": "code",
   "execution_count": null,
   "metadata": {},
   "outputs": [],
   "source": [
    "import xarray as xr\n",
    "import geopandas as gpd\n",
    "import pandas as pd\n",
    "import matplotlib.pyplot as plt\n",
    "import numpy as np\n",
    "import requests\n",
    "import pypsa\n",
    "import shutil\n",
    "from rasterio.plot import show\n",
    "\n",
    "import os\n",
    "import sys\n",
    "sys.path.append('../')  # to import helpers\n",
    "from scripts._helpers import _sets_path_to_root\n",
    "_sets_path_to_root(\"pypsa-africa\")"
   ]
  },
  {
   "cell_type": "markdown",
   "metadata": {},
   "source": [
    "# Input"
   ]
  },
  {
   "cell_type": "code",
   "execution_count": null,
   "metadata": {},
   "outputs": [],
   "source": [
    "# Load network\n",
    "network_path = os.getcwd() + \"/networks/base.nc\"\n",
    "n = pypsa.Network(network_path)\n",
    "n"
   ]
  },
  {
   "cell_type": "code",
   "execution_count": null,
   "metadata": {},
   "outputs": [],
   "source": [
    "buses = n.buses\n",
    "# Adding geometries from x and y coordinates\n",
    "buses[\"geometry\"] = gpd.points_from_xy(buses.lon, buses.lat)\n",
    "buses = gpd.GeoDataFrame(buses, crs='epsg:4326')\n",
    "\n",
    "continent = gpd.read_file('resources/country_shapes.geojson')\n",
    "off_shore = gpd.read_file('resources/offshore_shapes.geojson')\n",
    "\n",
    "ax = continent.plot(figsize=(10,10))\n",
    "off_shore.plot(ax=ax)\n",
    "buses.plot(ax=ax, color = \"orange\", markersize = 1)"
   ]
  },
  {
   "cell_type": "code",
   "execution_count": null,
   "metadata": {},
   "outputs": [],
   "source": [
    "buses[buses.country==\"NG\"]"
   ]
  },
  {
   "cell_type": "markdown",
   "metadata": {},
   "source": [
    "# Output"
   ]
  },
  {
   "cell_type": "code",
   "execution_count": null,
   "metadata": {},
   "outputs": [],
   "source": [
    "continent = gpd.read_file('resources/regions_onshore.geojson')\n",
    "off_shore = gpd.read_file('resources/regions_offshore.geojson')\n",
    "\n",
    "ax = continent.plot(figsize=(10,10))\n",
    "off_shore.plot(ax=ax, color=\"red\")"
   ]
  },
  {
   "cell_type": "code",
   "execution_count": null,
   "metadata": {},
   "outputs": [],
   "source": [
    "c_b = n.buses.country == \"NG\"\n",
    "n.buses.substation_off\n",
    "b = (n.buses.substation_off & c_b)\n",
    "b.sum()"
   ]
  },
  {
   "cell_type": "code",
   "execution_count": null,
   "metadata": {},
   "outputs": [],
   "source": [
    "c_b.sum()"
   ]
  },
  {
   "cell_type": "code",
   "execution_count": null,
   "metadata": {},
   "outputs": [],
   "source": [
    "n.buses.groupby(\"country\").sum()"
   ]
  },
  {
   "cell_type": "code",
   "execution_count": null,
   "metadata": {},
   "outputs": [],
   "source": [
    "from shapely.geometry import LineString, Point\n",
    "\n",
    "lines = n.lines[n.lines.country == \"NG\"].copy()\n",
    "# lines = n.lines.copy()\n",
    "lines[\"geometry\"] = [LineString([Point(x.bus0_lon, x.bus0_lat), Point(x.bus1_lon, x.bus1_lat)]) for index, x in lines.iterrows() \n",
    "    if (x.bus0_lat is not None) and (x.bus0_lon is not None) and (x.bus1_lat is not None) and (x.bus1_lon is not None)]\n",
    "lines = gpd.GeoDataFrame(geometry=lines.geometry, crs='epsg:4326')\n",
    "\n",
    "continent = gpd.read_file('resources/country_shapes.geojson')\n",
    "off_shore = gpd.read_file('resources/offshore_shapes.geojson')\n",
    "\n",
    "ax = continent.plot(figsize=(10,10))\n",
    "off_shore.plot(ax=ax)\n",
    "c_code = \"CD\"\n",
    "# lines[lines.country==c_code].plot(ax=ax, color=\"yellow\")\n",
    "# buses[buses.country==c_code].plot(ax=ax, color = \"orange\", markersize = 1)\n",
    "lines.plot(ax=ax, color=\"yellow\")\n",
    "buses.plot(ax=ax, color = \"orange\", markersize = 1)"
   ]
  },
  {
   "cell_type": "code",
   "execution_count": null,
   "metadata": {},
   "outputs": [],
   "source": [
    "lines.country.unique()"
   ]
  },
  {
   "cell_type": "code",
   "execution_count": null,
   "metadata": {},
   "outputs": [],
   "source": []
  }
 ],
 "metadata": {
  "interpreter": {
   "hash": "64a9945f8f137ed15f7097a1dbedf9f1ce29494f0e33cb4fc5724026c999b930"
  },
  "kernelspec": {
   "display_name": "pypsa-africa",
   "language": "python",
   "name": "pypsa-africa"
  },
  "language_info": {
   "codemirror_mode": {
    "name": "ipython",
    "version": 3
   },
   "file_extension": ".py",
   "mimetype": "text/x-python",
   "name": "python",
   "nbconvert_exporter": "python",
   "pygments_lexer": "ipython3",
   "version": "3.9.7"
  }
 },
 "nbformat": 4,
 "nbformat_minor": 4
}
