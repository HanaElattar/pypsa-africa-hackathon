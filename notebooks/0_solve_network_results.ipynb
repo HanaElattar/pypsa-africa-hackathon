{
 "cells": [
  {
   "cell_type": "markdown",
   "metadata": {},
   "source": [
    "# Plotting PyPSA results\n",
    "\n",
    "### Jupyter scripts need to be improved\n"
   ]
  },
  {
   "cell_type": "code",
   "execution_count": null,
   "metadata": {},
   "outputs": [],
   "source": [
    "import logging\n",
    "import os\n",
    "\n",
    "import pypsa\n",
    "import yaml\n",
    "import pandas as pd\n",
    "import geopandas as gpd\n",
    "import geoviews as gv\n",
    "import hvplot.pandas\n",
    "import numpy as np\n",
    "import scipy as sp\n",
    "import networkx as nx\n",
    "\n",
    "# plotting stuff\n",
    "import matplotlib.pyplot as plt\n",
    "plt.style.use(\"bmh\")\n",
    "import seaborn as sns  ###\n",
    "import cartopy.crs as ccrs\n",
    "sns.set(style='darkgrid')\n",
    "\n",
    "from scipy.sparse import csgraph\n",
    "from itertools import product\n",
    "\n",
    "from shapely.geometry import Point, LineString\n",
    "import shapely, shapely.prepared, shapely.wkt\n",
    "\n",
    "logger = logging.getLogger(__name__)\n",
    "\n",
    "pd.set_option('display.max_columns', None)\n",
    "pd.set_option('display.max_colwidth', 70)\n",
    "\n",
    "import sys\n",
    "sys.path.append('../')  # to import helpers\n",
    "from scripts._helpers import _sets_path_to_root\n",
    "_sets_path_to_root(\"pypsa-africa\")\n",
    "\n",
    "max_node_size = 1.0  # maximum size of a node for plotting purposes [used in plots]"
   ]
  },
  {
   "cell_type": "code",
   "execution_count": null,
   "metadata": {},
   "outputs": [],
   "source": [
    "# utility function for nice plotting\n",
    "\n",
    "def normalize_node_size(values, max_node_size=max_node_size):\n",
    "    return values/values.max()*max_node_size"
   ]
  },
  {
   "cell_type": "markdown",
   "metadata": {},
   "source": [
    "# Load all networks"
   ]
  },
  {
   "cell_type": "code",
   "execution_count": null,
   "metadata": {},
   "outputs": [],
   "source": [
    "# add_electricity_network = os.getcwd() + '/networks/elec.nc'\n",
    "# clustered_network = os.getcwd() + '/networks/elec_s_10.nc'\n",
    "solved_network = os.getcwd() + '/results/networks/elec_s_10_ec_lv0.3_Co2L-3H.nc'\n",
    "\n",
    "# n_add_el = pypsa.Network(add_electricity_network)\n",
    "# n_cluster = pypsa.Network(clustered_network)\n",
    "n_solve = pypsa.Network(solved_network)"
   ]
  },
  {
   "cell_type": "markdown",
   "metadata": {},
   "source": [
    "# Solved network"
   ]
  },
  {
   "cell_type": "code",
   "execution_count": null,
   "metadata": {},
   "outputs": [],
   "source": [
    "n = n_solve"
   ]
  },
  {
   "cell_type": "code",
   "execution_count": null,
   "metadata": {},
   "outputs": [],
   "source": [
    "n.global_constraints"
   ]
  },
  {
   "cell_type": "code",
   "execution_count": null,
   "metadata": {},
   "outputs": [],
   "source": [
    "# EURO/MWh\n",
    "n.objective/n.loads_t.p.sum().sum()"
   ]
  },
  {
   "cell_type": "markdown",
   "metadata": {},
   "source": [
    "### Spatial temporal resolution"
   ]
  },
  {
   "cell_type": "code",
   "execution_count": null,
   "metadata": {},
   "outputs": [],
   "source": [
    "n.plot()"
   ]
  },
  {
   "cell_type": "code",
   "execution_count": null,
   "metadata": {},
   "outputs": [],
   "source": [
    "#temporal resolution - timesteps\n",
    "len(n.snapshots)"
   ]
  },
  {
   "cell_type": "markdown",
   "metadata": {},
   "source": [
    "### Overview components"
   ]
  },
  {
   "cell_type": "code",
   "execution_count": null,
   "metadata": {},
   "outputs": [],
   "source": [
    "for c in n.iterate_components(list(n.components.keys())[2:]):\n",
    "    print(\"Component '{}' has {} entries\".format(c.name,len(c.df)))"
   ]
  },
  {
   "cell_type": "markdown",
   "metadata": {},
   "source": [
    "### Energy balance"
   ]
  },
  {
   "cell_type": "code",
   "execution_count": null,
   "metadata": {},
   "outputs": [],
   "source": [
    "n.stores_t.p.sum()"
   ]
  },
  {
   "cell_type": "code",
   "execution_count": null,
   "metadata": {},
   "outputs": [],
   "source": [
    "# Difference between total load and generation\n",
    "# losses = n.stores_t\n",
    "n.generators_t.p.sum().sum() - n.loads_t.p.sum().sum() # - substract storage losses"
   ]
  },
  {
   "cell_type": "markdown",
   "metadata": {},
   "source": [
    "### Total installed generator capacity"
   ]
  },
  {
   "cell_type": "code",
   "execution_count": null,
   "metadata": {},
   "outputs": [],
   "source": [
    "gen_cap = n.generators.groupby(['carrier']).p_nom_opt.sum()\n",
    "gen_cap"
   ]
  },
  {
   "cell_type": "code",
   "execution_count": null,
   "metadata": {},
   "outputs": [],
   "source": [
    "n.stores_t.p"
   ]
  },
  {
   "cell_type": "code",
   "execution_count": null,
   "metadata": {},
   "outputs": [],
   "source": [
    "n.generators_t.p_max_pu.groupby(n.generators.carrier, axis=1).mean().plot()"
   ]
  },
  {
   "cell_type": "code",
   "execution_count": null,
   "metadata": {},
   "outputs": [],
   "source": [
    "# If 0, all renewable capacity potential is used\n",
    "n.generators.p_nom_max.sum() - n.generators.p_nom_opt.sum()"
   ]
  },
  {
   "cell_type": "code",
   "execution_count": null,
   "metadata": {},
   "outputs": [],
   "source": [
    "n.loads_t.p.sum().sum()"
   ]
  },
  {
   "cell_type": "code",
   "execution_count": null,
   "metadata": {},
   "outputs": [],
   "source": [
    "n.generators_t.p.sum().sum()"
   ]
  },
  {
   "cell_type": "code",
   "execution_count": null,
   "metadata": {},
   "outputs": [],
   "source": [
    "n.generators.iloc[:,:].groupby(['bus','carrier']).p_nom_opt.sum()*.0000003"
   ]
  },
  {
   "cell_type": "code",
   "execution_count": null,
   "metadata": {},
   "outputs": [],
   "source": [
    "fig,ax = plt.subplots(\n",
    "        figsize=(10,10),\n",
    "        subplot_kw={\"projection\":ccrs.PlateCarree()} #PlateCarree(default), Mercator, Orthographic\n",
    ")\n",
    "\n",
    "#loading = (n3.lines_t.p0.abs().mean().sort_index() / (n3.lines.s_nom_opt*n.lines.s_max_pu).sort_index()).fillna(0.)\n",
    "\n",
    "n.plot(margin=0.1, \n",
    "        ax=None, \n",
    "        geomap=True, #'10m' leads to a beautiful high resolution map \n",
    "        projection= None, \n",
    "        bus_colors='cadetblue', \n",
    "        bus_alpha=1, \n",
    "        bus_sizes=normalize_node_size(n.generators.iloc[:,:].groupby(['bus','carrier']).p_nom_opt.sum()), \n",
    "        bus_cmap=None, \n",
    "        line_colors='rosybrown', \n",
    "        link_colors='darkseagreen', #loading\n",
    "        transformer_colors='orange', \n",
    "        line_widths=n.lines.s_nom_opt/3e2, \n",
    "        link_widths=1.5, \n",
    "        transformer_widths=1.5, \n",
    "        line_cmap=None, \n",
    "        link_cmap=None, #plt.cm.virdis (colordmap for line loading)\n",
    "        transformer_cmap=None, \n",
    "        flow=None, \n",
    "        branch_components=None, \n",
    "        layouter=None, \n",
    "        title='Generator Map', \n",
    "        boundaries=None, \n",
    "        geometry=False, \n",
    "        jitter=None, \n",
    "        color_geomap=True)#None or True\n",
    "\n",
    "ax.axis('off');"
   ]
  },
  {
   "cell_type": "markdown",
   "metadata": {},
   "source": [
    "### Demand"
   ]
  },
  {
   "cell_type": "code",
   "execution_count": null,
   "metadata": {},
   "outputs": [],
   "source": [
    "type(n.generators.iloc[:,:].groupby(['bus']).p_nom_opt.sum())"
   ]
  },
  {
   "cell_type": "code",
   "execution_count": null,
   "metadata": {},
   "outputs": [],
   "source": [
    "n.loads_t.p.loc[\"2013-12-20\":\"2013-12-27\"].plot()"
   ]
  },
  {
   "cell_type": "code",
   "execution_count": null,
   "metadata": {},
   "outputs": [],
   "source": [
    "type(n.loads_t.p_set.sum())"
   ]
  },
  {
   "cell_type": "code",
   "execution_count": null,
   "metadata": {},
   "outputs": [],
   "source": [
    "a = n.loads_t.p_set.sum().rename(\"load\").rename_axis(\"bus\")\n",
    "a.rename(\"load\", inplace=True)\n",
    "a.rename_axis(\"bus\", inplace=True)\n",
    "a"
   ]
  },
  {
   "cell_type": "code",
   "execution_count": null,
   "metadata": {},
   "outputs": [],
   "source": [
    "n.loads_t.p_set.sum().rename(\"load\").rename_axis(\"bus\")"
   ]
  },
  {
   "cell_type": "code",
   "execution_count": null,
   "metadata": {},
   "outputs": [],
   "source": [
    "n.generators.iloc[:,:].groupby(['bus']).p_nom_opt.sum()"
   ]
  },
  {
   "cell_type": "code",
   "execution_count": null,
   "metadata": {},
   "outputs": [],
   "source": [
    "fig,ax = plt.subplots(\n",
    "        figsize=(10,10),\n",
    "        subplot_kw={\"projection\":ccrs.PlateCarree()} #PlateCarree(default), Mercator, Orthographic\n",
    ")\n",
    "\n",
    "#loading = (n3.lines_t.p0.abs().mean().sort_index() / (n3.lines.s_nom_opt*n.lines.s_max_pu).sort_index()).fillna(0.)\n",
    "\n",
    "n.plot(margin=0.1, \n",
    "        ax=None, \n",
    "        geomap=True, #'10m' leads to a beautiful high resolution map \n",
    "        projection= None, \n",
    "        bus_colors='cadetblue', \n",
    "        bus_alpha=1, \n",
    "        bus_sizes=normalize_node_size(n.loads_t.p_set.sum().rename(\"load\").rename_axis(\"bus\")), #n.loads_t.p_set.sum().rename(\"load\").rename_axis(\"bus\")*.0000003, \n",
    "        bus_cmap=None, \n",
    "        line_colors='rosybrown', \n",
    "        link_colors='darkseagreen', #loading\n",
    "        transformer_colors='orange', \n",
    "        line_widths=n.lines.s_nom_opt/3e2, \n",
    "        link_widths=1.5, \n",
    "        transformer_widths=1.5, \n",
    "        line_cmap=None, \n",
    "        link_cmap=None, #plt.cm.virdis (colordmap for line loading)\n",
    "        transformer_cmap=None, \n",
    "        flow=None, \n",
    "        branch_components=None, \n",
    "        layouter=None, \n",
    "        title='Generator Map', \n",
    "        boundaries=None, \n",
    "        geometry=False, \n",
    "        jitter=None, \n",
    "        color_geomap=True)#None or True\n",
    "\n",
    "ax.axis('off');"
   ]
  },
  {
   "cell_type": "code",
   "execution_count": null,
   "metadata": {},
   "outputs": [],
   "source": [
    "# backup\n",
    "gen_serie = n.generators.iloc[:,:].groupby(['bus', 'carrier']).p_nom_opt.sum()\n",
    "load_serie = n.loads_t.p_set.sum().rename(\"load\").rename_axis(\"bus\")\n",
    "\n",
    "load_serie = pd.Series(load_serie.values, index=pd.MultiIndex.from_tuples([(id, 'AC load') for id in load_serie.index]))\n",
    "\n",
    "tot_serie = pd.concat([gen_serie, load_serie]) #.groupby(['bus', 'carrier']).sum()\n",
    "\n",
    "pd.concat([gen_serie, load_serie])"
   ]
  },
  {
   "cell_type": "markdown",
   "metadata": {},
   "source": [
    "### Plot of Average Marginal Price"
   ]
  },
  {
   "cell_type": "code",
   "execution_count": null,
   "metadata": {},
   "outputs": [],
   "source": [
    "now = n.snapshots[4] ##one specific time\n",
    "\n",
    "fig,ax = plt.subplots(1,1,subplot_kw={\"projection\":ccrs.PlateCarree()})\n",
    "fig.set_size_inches(6,4)\n",
    "\n",
    "n.plot(ax=ax,line_widths=pd.Series(0.5,n.lines.index))\n",
    "plt.hexbin(n.buses.x, n.buses.y, \n",
    "           gridsize=20,\n",
    "           #C=n.buses_t.marginal_price.loc[now], #at one time (previous set up by scigrid)\n",
    "           C=n.buses_t.marginal_price.sum()/len(n.snapshots[:]), #Marginal price averaged over the whole year (My version) \n",
    "                                                                 #- shows in which regions electricity will be cheap and where el. intensive companies should be placed.\n",
    "           cmap=plt.cm.jet)\n",
    "\n",
    "#for some reason the colorbar only works with graphs plt.plot\n",
    "#and must be attached plt.colorbar\n",
    "\n",
    "cb = plt.colorbar()\n",
    "cb.set_label('Locational Marginal Price (EUR/MWh)')"
   ]
  },
  {
   "cell_type": "markdown",
   "metadata": {},
   "source": [
    "### Storage"
   ]
  },
  {
   "cell_type": "code",
   "execution_count": null,
   "metadata": {},
   "outputs": [],
   "source": [
    "n.stores_t.e.loc[\"2013-12-20\":\"2013-12-27\"].sum(axis=1).plot()"
   ]
  },
  {
   "cell_type": "code",
   "execution_count": null,
   "metadata": {},
   "outputs": [],
   "source": [
    "n.links.iloc[:].groupby(['carrier']).p_nom_opt.sum()"
   ]
  },
  {
   "cell_type": "code",
   "execution_count": null,
   "metadata": {},
   "outputs": [],
   "source": []
  }
 ],
 "metadata": {
  "interpreter": {
   "hash": "93061c673ce33a785d7c590269df2a13242973b51d41b0d96d8b2a166e219992"
  },
  "kernelspec": {
   "display_name": "pypsa-africa",
   "language": "python",
   "name": "python3"
  },
  "language_info": {
   "codemirror_mode": {
    "name": "ipython",
    "version": 3
   },
   "file_extension": ".py",
   "mimetype": "text/x-python",
   "name": "python",
   "nbconvert_exporter": "python",
   "pygments_lexer": "ipython3",
   "version": "3.9.7"
  }
 },
 "nbformat": 4,
 "nbformat_minor": 4
}
