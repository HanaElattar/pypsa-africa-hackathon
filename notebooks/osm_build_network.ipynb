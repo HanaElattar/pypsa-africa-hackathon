{
 "cells": [
  {
   "cell_type": "markdown",
   "id": "5b7df5f4",
   "metadata": {},
   "source": [
    "This notebook is for snapping of substations to lines"
   ]
  },
  {
   "cell_type": "code",
   "execution_count": null,
   "id": "0b83529c",
   "metadata": {},
   "outputs": [],
   "source": [
    "import os\n",
    "import matplotlib.pyplot as plt \n",
    "import geopandas as gpd\n",
    "#import geoplot\n",
    "import pandas as pd\n",
    "import numpy as np\n",
    "from shapely.geometry import LineString\n",
    "from shapely.geometry import Point\n",
    "\n",
    "import sys\n",
    "sys.path.append('../')  # to import helpers\n",
    "from scripts._helpers import _sets_path_to_root\n",
    "_sets_path_to_root(\"pypsa-africa\")"
   ]
  },
  {
   "cell_type": "markdown",
   "id": "f1b79a8d",
   "metadata": {},
   "source": [
    "# Africa shape data"
   ]
  },
  {
   "cell_type": "code",
   "execution_count": null,
   "id": "315fe692",
   "metadata": {},
   "outputs": [],
   "source": [
    "world = gpd.read_file(gpd.datasets.get_path('naturalearth_lowres'))\n",
    "africa = world.query('continent == \"Africa\"')\n",
    "nigeriaplot = world.query('name == \"Nigeria\"')\n",
    "#world"
   ]
  },
  {
   "cell_type": "markdown",
   "id": "296a05a9",
   "metadata": {},
   "source": [
    "# Load data"
   ]
  },
  {
   "cell_type": "code",
   "execution_count": null,
   "id": "19806837",
   "metadata": {},
   "outputs": [],
   "source": [
    "# pathg = os.path.realpath(\"data\")+'/africa_all_generators.geojson' # Generators are not required in base_network\n",
    "paths = os.path.realpath(\"data/clean\")+'/africa_all_buses_clean.geojson'\n",
    "pathl = os.path.realpath(\"data/clean\")+'/africa_all_lines_clean.geojson'\n",
    "\n",
    "# generators = gpd.read_file(pathg).set_crs(epsg=4326, inplace=True)\n",
    "substations = gpd.read_file(paths).set_crs(epsg=4326, inplace=True)\n",
    "lines = gpd.read_file(pathl).set_crs(epsg=4326, inplace=True)"
   ]
  },
  {
   "cell_type": "code",
   "execution_count": null,
   "id": "9debc4a8",
   "metadata": {},
   "outputs": [],
   "source": [
    "print(os.path.realpath(\"data/clean\"))"
   ]
  },
  {
   "cell_type": "code",
   "execution_count": null,
   "id": "28b43147",
   "metadata": {},
   "outputs": [],
   "source": [
    "# Filter only Nigeria\n",
    "lines_ng = lines[lines.loc[:,\"country\"] == \"nigeria\"].copy()\n",
    "substations_ng = substations[substations.loc[:,\"country\"] == \"nigeria\"].copy()"
   ]
  },
  {
   "cell_type": "code",
   "execution_count": null,
   "id": "6a201961",
   "metadata": {},
   "outputs": [],
   "source": [
    "# Assign to every line a start and end point\n",
    "\n",
    "lines_ng[\"bounds\"] = lines_ng[\"geometry\"].boundary # create start and end point\n",
    "# splits into coordinates\n",
    "lines_ng[\"bus0_lon\"] = lines_ng[\"bounds\"].bounds.iloc[:,0]\n",
    "lines_ng[\"bus0_lat\"] = lines_ng[\"bounds\"].bounds.iloc[:,1]\n",
    "lines_ng[\"bus1_lon\"] = lines_ng[\"bounds\"].bounds.iloc[:,2]\n",
    "lines_ng[\"bus1_lat\"] = lines_ng[\"bounds\"].bounds.iloc[:,3]\n",
    "\n",
    "lines_ng['bus_0_coors']=lines_ng[\"bounds\"].apply(lambda mp: mp[0])\n",
    "lines_ng['bus_1_coors']=lines_ng[\"bounds\"].apply(lambda mp: mp[1])"
   ]
  },
  {
   "cell_type": "code",
   "execution_count": null,
   "id": "7c03ea6c",
   "metadata": {},
   "outputs": [],
   "source": [
    "#lines_ng[lines_ng[\"length\"] > 10000].sort_values(\"length\").describe()\n",
    "#substations_ng"
   ]
  },
  {
   "cell_type": "markdown",
   "id": "c38efcef",
   "metadata": {},
   "source": [
    "# Case 1: Create bus dataframe from line.csv (not using existing substation dataframe)"
   ]
  },
  {
   "cell_type": "markdown",
   "id": "740f470d",
   "metadata": {},
   "source": [
    "### Create bus_id for each line ending"
   ]
  },
  {
   "cell_type": "code",
   "execution_count": null,
   "id": "992c82c7",
   "metadata": {},
   "outputs": [],
   "source": [
    "bus_s = gpd.GeoDataFrame(columns = substations_ng.columns)\n",
    "bus_e = gpd.GeoDataFrame(columns = substations_ng.columns)"
   ]
  },
  {
   "cell_type": "code",
   "execution_count": null,
   "id": "93bcbaea",
   "metadata": {},
   "outputs": [],
   "source": [
    "# Read information from line.csv\n",
    "bus_s[[\"voltage\", \"lon\", \"lat\", \"geometry\", \"country\"]] = lines_ng[[\"voltage\", \"bus0_lon\", \"bus0_lat\", \"bus_0_coors\", \"country\"]] # line start points\n",
    "bus_e[[\"voltage\", \"lon\", \"lat\", \"geometry\", \"country\"]] = lines_ng[[\"voltage\", \"bus1_lon\", \"bus1_lat\", \"bus_1_coors\", \"country\"]] # line end points\n",
    "bus_all = bus_s.append(bus_e).reset_index(drop=True)"
   ]
  },
  {
   "cell_type": "code",
   "execution_count": null,
   "id": "b00b9516",
   "metadata": {},
   "outputs": [],
   "source": [
    "# Assign index to bus_id \n",
    "bus_all.loc[:,\"bus_id\"] = bus_all.index\n",
    "bus_all"
   ]
  },
  {
   "cell_type": "markdown",
   "id": "6eb522cb",
   "metadata": {},
   "source": [
    "### V1. Create station_id at same bus location\n",
    "\n",
    "- We saw that buses are not connected exactly at one point, they are usually connected to a substation \"area\" (analysed on maps)\n",
    "- Create station_id at exactly the same location might therefore be not always correct\n",
    "- Though as you can see below, it might be still sometime the case. Examples are **station 4** (2 lines with the same voltage connect at the same point) and **station 23** (4 lines with two different voltages connect at the same point)\n",
    "\n",
    "#TODO: Filter out the generator lines - defined as going from generator to the next station which is connected to a load. Excluding generator lines make proably sense because they are not transmission expansion relevant. For now we simplify and include generator lines.\n"
   ]
  },
  {
   "cell_type": "code",
   "execution_count": null,
   "id": "a3c682aa",
   "metadata": {},
   "outputs": [],
   "source": [
    "# If same location/geometry make station\n",
    "bus_all_v1 = bus_all\n",
    "bus_all_v1[\"station_id\"] = bus_all_v1.groupby([\"lon\",\"lat\"]).ngroup()\n",
    "\n",
    "## INFO, case nigeria\n",
    "# bus_id 0:899\n",
    "# station_id 0:791\n",
    "# Means, only a few bus_id's at same location\n",
    "bus_all_v1"
   ]
  },
  {
   "cell_type": "code",
   "execution_count": null,
   "id": "06feee80",
   "metadata": {},
   "outputs": [],
   "source": [
    "# Add station_id to line dataframe\n",
    "n_row = int(bus_all.shape[0]/2)  # row length\n",
    "lines_ng_v1 = lines_ng.reset_index(drop=True)\n",
    "lines_ng_v1['bus0'] = bus_all.loc[0:(n_row-1), [\"bus_id\"]]\n",
    "lines_ng_v1['bus1'] = bus_all.loc[(n_row):, [\"bus_id\"]].reset_index(drop=True)"
   ]
  },
  {
   "cell_type": "code",
   "execution_count": null,
   "id": "aa47bf9f",
   "metadata": {},
   "outputs": [],
   "source": [
    "# display(lines_ng_v1)\n",
    "# display(bus_all_v1)"
   ]
  },
  {
   "cell_type": "code",
   "execution_count": null,
   "id": "e93c7ce1",
   "metadata": {},
   "outputs": [],
   "source": [
    "# Removing the NaN \n",
    "bus_all_v1[\"dc\"] = \"False\"\n",
    "bus_all_v1[\"symbol\"] = \"False\"\n",
    "bus_all_v1[\"under_construction\"] = \"False\"\n",
    "bus_all_v1[\"tag_substation\"] = \"False\"\n",
    "bus_all_v1[\"tag_area\"] = \"False\"\n"
   ]
  },
  {
   "cell_type": "code",
   "execution_count": null,
   "id": "724f0476",
   "metadata": {},
   "outputs": [],
   "source": [
    "\n",
    "## Generate Files for base_network (CSV) \n",
    "\n",
    "### lines\n",
    "outputfile_partial = os.path.join(os.getcwd(), \"data\", \"base_network\", \"africa_all\" + \"_lines\" + \"_build_network\") # Output file directory\n",
    "\n",
    "if not os.path.exists(outputfile_partial):\n",
    "    os.makedirs(os.path.dirname(outputfile_partial), exist_ok=True) #  create clean directoryif not already exist\n",
    "\n",
    "lines_ng_v1.to_csv(outputfile_partial + \".csv\")  # Generate CSV\n",
    "\n",
    "\n",
    "#### buses\n",
    "outputfile_partial = os.path.join(os.getcwd(), \"data\", \"base_network\", \"africa_all\" + \"_buses\" + \"_build_network\") # Output file directory\n",
    "\n",
    "if not os.path.exists(outputfile_partial):\n",
    "    os.makedirs(os.path.dirname(outputfile_partial), exist_ok=True) #  create clean directoryif not already exist\n",
    "    \n",
    "bus_all_v1.to_csv(outputfile_partial + \".csv\")  # Generate CSV"
   ]
  },
  {
   "cell_type": "markdown",
   "id": "317c068c",
   "metadata": {},
   "source": [
    "# Inference (Quick and Dirty) - No Guarantee"
   ]
  },
  {
   "cell_type": "code",
   "execution_count": null,
   "id": "543ca7cc",
   "metadata": {},
   "outputs": [],
   "source": [
    "cdf = bus_all_v1.to_crs(\"EPSG:3857\")"
   ]
  },
  {
   "cell_type": "code",
   "execution_count": null,
   "id": "3c92683b",
   "metadata": {},
   "outputs": [],
   "source": [
    "from itertools import combinations\n",
    "series = cdf.geometry\n",
    "max_distance = 100\n",
    "\n",
    "points_within = []\n",
    "for i1,i2 in combinations(range(0,series.shape[0]-1),2):  #Iterate over all pairs/combinations of indices\n",
    "    if 0<series[i1].distance(series[i2])<=max_distance:\n",
    "        points_within.append([i1,i2])"
   ]
  },
  {
   "cell_type": "code",
   "execution_count": null,
   "id": "b8f6d396",
   "metadata": {},
   "outputs": [],
   "source": [
    "# points_within\n",
    "for points in points_within:\n",
    "    fi = points[0]\n",
    "    si = points[1]\n",
    "    bus_all_v1.at[si, 'station_id'] = bus_all_v1.iloc[fi]['station_id']\n",
    "\n",
    "\n",
    "    "
   ]
  },
  {
   "cell_type": "code",
   "execution_count": null,
   "id": "556f8d1e",
   "metadata": {},
   "outputs": [],
   "source": [
    "bus_all_v1"
   ]
  },
  {
   "cell_type": "code",
   "execution_count": null,
   "id": "f9918a43",
   "metadata": {},
   "outputs": [],
   "source": [
    "bus_all_v1.groupby(['station_id']).count()"
   ]
  },
  {
   "cell_type": "markdown",
   "id": "62d178bb",
   "metadata": {},
   "source": [
    "# Inference (Probably a better method) - For the Archives"
   ]
  },
  {
   "cell_type": "markdown",
   "id": "377f3c5f",
   "metadata": {},
   "source": [
    "This method will be implemented once cleaning is completed. See method in Powermap for how it is supposed to be done in the correct way"
   ]
  },
  {
   "cell_type": "code",
   "execution_count": null,
   "id": "c47383de",
   "metadata": {},
   "outputs": [],
   "source": [
    "x = cdf.buffer(100)\n",
    "neighbours = cdf.intersection(x)\n",
    "display(neighbours)\n",
    "# print all the nearby points\n",
    "# display(x)"
   ]
  },
  {
   "cell_type": "code",
   "execution_count": null,
   "id": "348aa138",
   "metadata": {},
   "outputs": [],
   "source": []
  },
  {
   "cell_type": "code",
   "execution_count": null,
   "id": "9449ea8c",
   "metadata": {},
   "outputs": [],
   "source": []
  },
  {
   "cell_type": "code",
   "execution_count": null,
   "id": "8ed652de",
   "metadata": {},
   "outputs": [],
   "source": []
  }
 ],
 "metadata": {
  "interpreter": {
   "hash": "d9c13fc6442bf1b8f9598850facaf8fef6fb0663206d3863adab308b8c559389"
  },
  "kernelspec": {
   "display_name": "Python 3.7.10 64-bit ('pypsa-africa': conda)",
   "name": "python3"
  },
  "language_info": {
   "codemirror_mode": {
    "name": "ipython",
    "version": 3
   },
   "file_extension": ".py",
   "mimetype": "text/x-python",
   "name": "python",
   "nbconvert_exporter": "python",
   "pygments_lexer": "ipython3",
   "version": "3.7.10"
  }
 },
 "nbformat": 4,
 "nbformat_minor": 5
}
