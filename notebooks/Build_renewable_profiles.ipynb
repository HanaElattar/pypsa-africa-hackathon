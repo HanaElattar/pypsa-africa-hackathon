{
 "cells": [
  {
   "cell_type": "markdown",
   "metadata": {},
   "source": [
    "# Exploring `build_renewable_profiles` outputs\n",
    "\n",
    "The code below initialise the to be used packages. Further, `_sets_path_to_root` makes sure that we set the path to your pypsa-africa folder which we need for reading files. Please, also make sure you set up the `toast` environment which is shared as `environment-max.yml` in the envs folder."
   ]
  },
  {
   "cell_type": "code",
   "execution_count": null,
   "metadata": {},
   "outputs": [],
   "source": [
    "import atlite\n",
    "import cartopy.crs as ccrs\n",
    "import xarray as xr\n",
    "import geopandas as gpd\n",
    "import holoviews as hv\n",
    "import pandas as pd\n",
    "import matplotlib.pyplot as plt\n",
    "import numpy as np\n",
    "import requests\n",
    "import pypsa\n",
    "import shutil\n",
    "from rasterio.plot import show\n",
    "from atlite.gis import shape_availability, ExclusionContainer\n",
    "\n",
    "import os\n",
    "import sys\n",
    "sys.path.append('../')  # to import helpers\n",
    "from scripts._helpers import _sets_path_to_root\n",
    "_sets_path_to_root(\"pypsa-africa\")\n",
    "\n",
    "\n",
    "plt.rcParams['figure.figsize'] = [7, 7]\n",
    "%matplotlib inline"
   ]
  },
  {
   "cell_type": "markdown",
   "metadata": {},
   "source": [
    "## Let's open the profiles\n",
    "The `build_renewable_profiles` for each technology are stored in the `resources` folder. We read first the path and open then with xarray the .nc file. As you can see there is quite a lot data available.  What you should note is that only the `potential` is grided (can be shown in a nice raster on a map). From the `profiles` we can only retrieve timeseries data without mapping it."
   ]
  },
  {
   "cell_type": "code",
   "execution_count": null,
   "metadata": {},
   "outputs": [],
   "source": [
    "res_t_path = os.path.realpath(\"resources\")+\"/profile_solar.nc\"\n",
    "res_t = xr.open_dataset(res_t_path)"
   ]
  },
  {
   "cell_type": "code",
   "execution_count": null,
   "metadata": {},
   "outputs": [],
   "source": [
    "res_t"
   ]
  },
  {
   "cell_type": "markdown",
   "metadata": {},
   "source": [
    "### The renewable potential in [MW] per cutout."
   ]
  },
  {
   "cell_type": "code",
   "execution_count": null,
   "metadata": {},
   "outputs": [],
   "source": [
    "res_t[\"potential\"].plot(vmin=1820, vmax=res_t.potential[:].max())"
   ]
  },
  {
   "cell_type": "markdown",
   "metadata": {},
   "source": [
    "Let's zoom-in. For that purpose we needs the boundaries, in this case of Nigeria. With `geopandas` we retrieve the geographic shapes (in vector format) for Nigeria and read the shape boundaries."
   ]
  },
  {
   "cell_type": "code",
   "execution_count": null,
   "metadata": {},
   "outputs": [],
   "source": [
    "world = gpd.read_file(gpd.datasets.get_path('naturalearth_lowres'))\n",
    "africa = world.query('continent == \"Africa\"')\n",
    "countries = [\"Nigeria\"] # \"Niger\"]\n",
    "shapes = world[world.name.isin(countries)].set_index('name')\n",
    "\n",
    "\n",
    "import math\n",
    "\n",
    "# For showing cutouts in Africa\n",
    "# shapes = africa\n",
    "shapes.plot();\n",
    "print(shapes.total_bounds)\n",
    "latmin, lonmin, latmax, lonmax = shapes.total_bounds\n",
    "\n",
    "#latmin, lonmin, latmax, lonmax = math.floor(latmin), math.ceil(lonmin), math.floor(latmax), math.ceil(lonmax)"
   ]
  },
  {
   "cell_type": "markdown",
   "metadata": {},
   "source": [
    "Now we need to add the boundaries to the plot. Note that we also adjusted the y-scale to better show the difference accross the regions."
   ]
  },
  {
   "cell_type": "code",
   "execution_count": null,
   "metadata": {},
   "outputs": [],
   "source": [
    "res_t = res_t.sel(x=np.arange(latmin,latmax,0.01), y=np.arange(lonmin,lonmax,0.01), method=\"nearest\")"
   ]
  },
  {
   "cell_type": "code",
   "execution_count": null,
   "metadata": {},
   "outputs": [],
   "source": [
    "res_t[\"potential\"].plot(vmin=1820, vmax=res_t.potential[:].max())\n",
    "# ax.set_xlim(0,20)\n",
    "# ax.set_ylim(0,10)"
   ]
  },
  {
   "cell_type": "markdown",
   "metadata": {},
   "source": [
    "## Timeseries\n",
    "Timeseris plots are helpful to analyse the seasonality and general variability. Below we show how you could plot some of these."
   ]
  },
  {
   "cell_type": "code",
   "execution_count": null,
   "metadata": {},
   "outputs": [],
   "source": [
    "res_t['profile'].sum(dim='bus').plot()"
   ]
  },
  {
   "cell_type": "code",
   "execution_count": null,
   "metadata": {},
   "outputs": [],
   "source": [
    "res_t['profile'].sel(bus=\"4358\", time=slice(\"2013-06-01\", \"2013-06-4\")).plot()"
   ]
  },
  {
   "cell_type": "code",
   "execution_count": null,
   "metadata": {},
   "outputs": [],
   "source": [
    "res_t[\"profile\"].isel(bus=sum(range(10)), time=range(0,1000)).plot()"
   ]
  },
  {
   "cell_type": "code",
   "execution_count": null,
   "metadata": {},
   "outputs": [],
   "source": []
  }
 ],
 "metadata": {
  "@webio": {
   "lastCommId": null,
   "lastKernelId": null
  },
  "kernelspec": {
   "display_name": "toast",
   "language": "python",
   "name": "toast"
  },
  "language_info": {
   "codemirror_mode": {
    "name": "ipython",
    "version": 3
   },
   "file_extension": ".py",
   "mimetype": "text/x-python",
   "name": "python",
   "nbconvert_exporter": "python",
   "pygments_lexer": "ipython3",
   "version": "3.9.6"
  }
 },
 "nbformat": 4,
 "nbformat_minor": 4
}
