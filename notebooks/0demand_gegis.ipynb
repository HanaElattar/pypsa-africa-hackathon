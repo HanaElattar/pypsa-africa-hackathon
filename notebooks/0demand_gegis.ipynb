{
 "cells": [
  {
   "cell_type": "markdown",
   "metadata": {},
   "source": [
    "# Exploring `demand_gegis` outputs\n",
    "\n",
    "### Jupyter notebook needs to be improved\n",
    "\n",
    "The code below initialise the to be used packages. Further, `_sets_path_to_root` makes sure that we set the path to your pypsa-africa folder which we need for reading files. Please, also make sure you set up the `pypsa-africa` environment which is shared as `environment.yml` in the envs folder."
   ]
  },
  {
   "cell_type": "code",
   "execution_count": null,
   "metadata": {},
   "outputs": [],
   "source": [
    "import atlite\n",
    "import cartopy.crs as ccrs\n",
    "import xarray as xr\n",
    "import geopandas as gpd\n",
    "import geoviews as gv\n",
    "import holoviews as hv\n",
    "import pandas as pd\n",
    "import matplotlib.pyplot as plt\n",
    "import numpy as np\n",
    "import requests\n",
    "import pypsa\n",
    "import shutil\n",
    "from rasterio.plot import show\n",
    "from atlite.gis import shape_availability, ExclusionContainer\n",
    "\n",
    "import os\n",
    "import sys\n",
    "sys.path.append('../')  # to import helpers\n",
    "from scripts._helpers import _sets_path_to_root\n",
    "_sets_path_to_root(\"pypsa-africa\")\n",
    "\n",
    "\n",
    "plt.rcParams['figure.figsize'] = [7, 7]\n",
    "%matplotlib inline"
   ]
  },
  {
   "cell_type": "markdown",
   "metadata": {},
   "source": [
    "## Let's open the demand timeseries from GEGIS\n",
    "Demand timeseries are calculated in GEGIS based on paramters such as GDP, population and temperature data. Since each of this parameters can be provided in high resolution, we can derive timeseries with GEGIS for arbitrary regions for multi-years.\n",
    "\n",
    "GEGIS is currently written in Julia. A rewrite to Python can help improving GEGIS and including other factors such as humidity, building area, building archetype information. These information will help the AI to train more accurately regional differences for demand timeseries. Alternative approaches to GEGIS such as botton-up statistical ones can also be developed in parallel.\n"
   ]
  },
  {
   "cell_type": "code",
   "execution_count": null,
   "metadata": {},
   "outputs": [],
   "source": [
    "demand_path = os.path.realpath(\"resources\")+\"/ssp2-2.6/2030/era5_2018/Afric.nc\""
   ]
  },
  {
   "cell_type": "code",
   "execution_count": null,
   "metadata": {},
   "outputs": [],
   "source": [
    "demand_path = os.path.realpath(\"resources\")+\"/ssp2-2.6/2030/era5_2018/Africa.nc\"\n",
    "demand = xr.open_dataset(demand_path)"
   ]
  },
  {
   "cell_type": "code",
   "execution_count": null,
   "metadata": {},
   "outputs": [],
   "source": [
    "demand"
   ]
  },
  {
   "cell_type": "code",
   "execution_count": null,
   "metadata": {},
   "outputs": [],
   "source": [
    "demand[\"Electricity demand\"].sel(region_code=\"SS\", time=slice(\"2018-01-01\", \"2019-01-01\")).plot()"
   ]
  },
  {
   "cell_type": "markdown",
   "metadata": {},
   "source": [
    "# TEST NEW FUNCTION\n",
    "Combine all weather years and predictions to one .nc file.\n",
    "Unsolved challenge, how to concat the .nc files\n",
    "Probably best to wait for a GEGIS Python developments"
   ]
  },
  {
   "cell_type": "markdown",
   "metadata": {},
   "source": [
    "## Reading the path of all .nc files"
   ]
  },
  {
   "cell_type": "code",
   "execution_count": null,
   "metadata": {},
   "outputs": [],
   "source": [
    "path = os.path.realpath(\"resources/ssp2-2.6\")\n",
    "#we shall store all the file names in this list\n",
    "filelist = []\n",
    "\n",
    "for root, dirs, files in os.walk(path):\n",
    "\tfor file in files:\n",
    "        #append the file name to the list\n",
    "\t\tfilelist.append(os.path.join(root,file))\n",
    "\n",
    "#print all the file names\n",
    "str_end = \"Africa.nc\"\n",
    "filelist_filtered = [x for x in filelist if x.endswith(str_end)]\n",
    "filelist_filtered"
   ]
  },
  {
   "cell_type": "code",
   "execution_count": null,
   "metadata": {},
   "outputs": [],
   "source": [
    "# How to concat these nc files to one? Does it make sense"
   ]
  }
 ],
 "metadata": {
  "@webio": {
   "lastCommId": null,
   "lastKernelId": null
  },
  "kernelspec": {
   "display_name": "pypsa-africa",
   "language": "python",
   "name": "pypsa-africa"
  },
  "language_info": {
   "codemirror_mode": {
    "name": "ipython",
    "version": 3
   },
   "file_extension": ".py",
   "mimetype": "text/x-python",
   "name": "python",
   "nbconvert_exporter": "python",
   "pygments_lexer": "ipython3",
   "version": "3.9.7"
  }
 },
 "nbformat": 4,
 "nbformat_minor": 4
}
