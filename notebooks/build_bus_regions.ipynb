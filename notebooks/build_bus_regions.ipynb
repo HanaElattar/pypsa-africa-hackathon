{
 "cells": [
  {
   "cell_type": "code",
   "execution_count": null,
   "metadata": {},
   "outputs": [],
   "source": [
    "import xarray as xr\r\n",
    "import geopandas as gpd\r\n",
    "import pandas as pd\r\n",
    "import matplotlib.pyplot as plt\r\n",
    "import numpy as np\r\n",
    "import requests\r\n",
    "import pypsa\r\n",
    "import shutil\r\n",
    "from rasterio.plot import show\r\n",
    "\r\n",
    "import os\r\n",
    "import sys\r\n",
    "sys.path.append('../')  # to import helpers\r\n",
    "from scripts._helpers import _sets_path_to_root\r\n",
    "_sets_path_to_root(\"pypsa-africa\")"
   ]
  },
  {
   "cell_type": "markdown",
   "metadata": {},
   "source": [
    "# Input"
   ]
  },
  {
   "cell_type": "code",
   "execution_count": null,
   "metadata": {},
   "outputs": [],
   "source": [
    "# Load network\r\n",
    "network_path = os.getcwd() + \"/networks/base.nc\"\r\n",
    "n = pypsa.Network(network_path)\r\n",
    "n"
   ]
  },
  {
   "cell_type": "code",
   "execution_count": null,
   "metadata": {},
   "outputs": [],
   "source": [
    "buses = n.buses\r\n",
    "# Adding geometries from x and y coordinates\r\n",
    "buses[\"geometry\"] = gpd.points_from_xy(buses.lon, buses.lat)\r\n",
    "buses = gpd.GeoDataFrame(buses, crs='epsg:4326')\r\n",
    "\r\n",
    "continent = gpd.read_file('resources/country_shapes.geojson')\r\n",
    "off_shore = gpd.read_file('resources/offshore_shapes.geojson')\r\n",
    "\r\n",
    "ax = continent.plot(figsize=(10,10))\r\n",
    "off_shore.plot(ax=ax)\r\n",
    "buses.plot(ax=ax, color = \"orange\", markersize = 1)"
   ]
  },
  {
   "cell_type": "code",
   "execution_count": null,
   "metadata": {},
   "outputs": [],
   "source": [
    "buses[buses.country==\"NA\"]"
   ]
  },
  {
   "cell_type": "markdown",
   "metadata": {},
   "source": [
    "# Output"
   ]
  },
  {
   "cell_type": "code",
   "execution_count": null,
   "metadata": {},
   "outputs": [],
   "source": [
    "continent = gpd.read_file('resources/regions_onshore.geojson')\r\n",
    "off_shore = gpd.read_file('resources/regions_offshore.geojson')\r\n",
    "\r\n",
    "ax = continent.plot(figsize=(10,10))\r\n",
    "off_shore.plot(ax=ax, color=\"red\")"
   ]
  },
  {
   "cell_type": "code",
   "execution_count": null,
   "metadata": {},
   "outputs": [],
   "source": [
    "c_b = n.buses.country == \"NA\"\r\n",
    "n.buses.substation_off\r\n",
    "b = (n.buses.substation_off & c_b)\r\n",
    "b.sum()"
   ]
  },
  {
   "cell_type": "code",
   "execution_count": null,
   "metadata": {},
   "outputs": [],
   "source": [
    "c_b.sum()"
   ]
  },
  {
   "cell_type": "code",
   "execution_count": null,
   "metadata": {},
   "outputs": [],
   "source": [
    "n.buses.groupby(\"country\").sum()"
   ]
  },
  {
   "cell_type": "code",
   "execution_count": null,
   "metadata": {},
   "outputs": [],
   "source": [
    "lines"
   ]
  },
  {
   "cell_type": "code",
   "execution_count": null,
   "metadata": {},
   "outputs": [],
   "source": [
    "from shapely.geometry import LineString\r\n",
    "\r\n",
    "lines = n.lines\r\n",
    "lines[\"geometry\"] = [LineString([[x.bus0_lat, x.bus0_lon], [x.bus1_lat, x.bus1_lon]]) for index, x in lines.iterrows()]\r\n",
    "lines = gpd.GeoDataFrame(buses, crs='epsg:4326')\r\n",
    "\r\n",
    "continent = gpd.read_file('resources/country_shapes.geojson')\r\n",
    "off_shore = gpd.read_file('resources/offshore_shapes.geojson')\r\n",
    "\r\n",
    "ax = continent.plot(figsize=(10,10))\r\n",
    "off_shore.plot(ax=ax)\r\n",
    "c_code = \"CD\"\r\n",
    "lines[lines.country==c_code].plot(ax=ax, color=\"yellow\")\r\n",
    "buses[buses.country==c_code].plot(ax=ax, color = \"orange\", markersize = 1)"
   ]
  },
  {
   "cell_type": "code",
   "execution_count": null,
   "metadata": {},
   "outputs": [],
   "source": [
    "lines.country.unique()"
   ]
  },
  {
   "cell_type": "code",
   "execution_count": null,
   "metadata": {},
   "outputs": [],
   "source": []
  }
 ],
 "metadata": {
  "interpreter": {
   "hash": "64a9945f8f137ed15f7097a1dbedf9f1ce29494f0e33cb4fc5724026c999b930"
  },
  "kernelspec": {
   "display_name": "toast",
   "language": "python",
   "name": "toast"
  },
  "language_info": {
   "codemirror_mode": {
    "name": "ipython",
    "version": 3
   },
   "file_extension": ".py",
   "mimetype": "text/x-python",
   "name": "python",
   "nbconvert_exporter": "python",
   "pygments_lexer": "ipython3",
   "version": "3.9.6"
  }
 },
 "nbformat": 4,
 "nbformat_minor": 4
}
