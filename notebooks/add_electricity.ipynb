{
 "cells": [
  {
   "cell_type": "markdown",
   "metadata": {},
   "source": [
    "# add_electricity.py\n",
    "\n",
    "This jupyter notebook analyse the `add_electricity.py` **outputs**.\n",
    "\n",
    "The `pypsa-africa/Snakefile` explicitly list in the **rule** what goes into the function `add_electricity.py` and what goes out (`elec.nc`). When inputs are commented out (#) than they are currently not considered. Maybe you want to make them run or develop new features? What can be observed from the inputs is that the script adds electrical generators, existing hydro storage, renewable generator profiles and loads units to a base network topology.\n",
    "\n",
    "```\n",
    "rule add_electricity:\n",
    "    input:\n",
    "        base_network='networks/base.nc',\n",
    "        tech_costs=COSTS,\n",
    "        regions=\"resources/regions_onshore.geojson\",\n",
    "        powerplants='resources/powerplants.csv',\n",
    "        # hydro_capacities='data/bundle/hydro_capacities.csv',\n",
    "        # geth_hydro_capacities='data/geth2015_hydro_capacities.csv',\n",
    "        load='resources/ssp2-2.6/2030/era5_2013/Africa.nc',\n",
    "        gadm_shapes='resources/gadm_shapes.geojson',\n",
    "        **{f\"profile_{tech}\": f\"resources/profile_{tech}.nc\"\n",
    "            for tech in config['renewable']}\n",
    "    output: \"networks/elec.nc\"\n",
    "    log: \"logs/add_electricity.log\"\n",
    "    benchmark: \"benchmarks/add_electricity\"\n",
    "    threads: 1\n",
    "    resources: mem=3000\n",
    "    script: \"scripts/add_electricity.py\"\n",
    "```\n",
    "\n",
    "Before analysing the outputs of add_electricity.py check that:\n",
    "- `pypsa-africa` environment (/kernel) in jupyter notebook  is active and updated\n",
    "- root folder where pypsa-africa is installed is named \"pypsa-africa\"\n",
    "- or rename the below `_sets_path_to_root(\"<folder_name>\")` accordingly"
   ]
  },
  {
   "cell_type": "code",
   "execution_count": null,
   "metadata": {},
   "outputs": [],
   "source": [
    "import sys\n",
    "sys.path.append('../')  # to import helpers\n",
    "from scripts._helpers import _sets_path_to_root\n",
    "_sets_path_to_root(\"pypsa-africa\")"
   ]
  },
  {
   "cell_type": "markdown",
   "metadata": {},
   "source": [
    "A jupyter notebook requires the user to import all they need. So we need to import all the required dependencies from the `pypsa-africa` environment:"
   ]
  },
  {
   "cell_type": "code",
   "execution_count": null,
   "metadata": {},
   "outputs": [],
   "source": [
    "import logging\n",
    "import os\n",
    "\n",
    "import pypsa\n",
    "import yaml\n",
    "import pandas as pd\n",
    "import geopandas as gpd\n",
    "#import geoviews as gv\n",
    "#import hvplot.pandas\n",
    "import numpy as np\n",
    "import scipy as sp\n",
    "import networkx as nx\n",
    "import matplotlib as plt\n",
    "\n",
    "from scipy.sparse import csgraph\n",
    "from itertools import product\n",
    "\n",
    "from shapely.geometry import Point, LineString\n",
    "import shapely, shapely.prepared, shapely.wkt\n",
    "\n",
    "logger = logging.getLogger(__name__)\n",
    "pd.set_option('display.max_columns', None)\n",
    "pd.set_option('display.max_colwidth', 70)"
   ]
  },
  {
   "cell_type": "markdown",
   "metadata": {},
   "source": [
    "## Network analysis\n",
    "\n",
    "Now let's import the output file which should be in i.e. `~/pypsa-africa/networks/elec.nc`. \n",
    "\n",
    "Note: If you don't have the /elec.nc file yet in your folder structure, you could try to generate it from the terminal. In this case set the path so that you are located at `~/pypsa-africa`. Once you are there, use the command:\n",
    "```\n",
    "snakemake -j 1 networks/elec.nc\n",
    "```\n",
    "Note that this is something you can to for any other rule to generate it's outputs `snakemake -j 1 <output of rule>`"
   ]
  },
  {
   "cell_type": "code",
   "execution_count": null,
   "metadata": {},
   "outputs": [],
   "source": [
    "network_path = os.getcwd() + \"/networks/elec.nc\"\n",
    "n = pypsa.Network(network_path)\n",
    "n"
   ]
  },
  {
   "cell_type": "markdown",
   "metadata": {},
   "source": [
    "You might be interested to see what's in the Network Common Data Form or NetCDF (.nc) file. To assess that we use **xarray**"
   ]
  },
  {
   "cell_type": "code",
   "execution_count": null,
   "metadata": {},
   "outputs": [],
   "source": [
    "import xarray as xr\n",
    "\n",
    "path = os.getcwd() + \"/networks/elec.nc\"\n",
    "network_data = xr.open_dataset(path)\n",
    "\n",
    "network_data"
   ]
  },
  {
   "cell_type": "markdown",
   "metadata": {},
   "source": [
    "A quick check of the network topology:"
   ]
  },
  {
   "cell_type": "code",
   "execution_count": null,
   "metadata": {},
   "outputs": [],
   "source": [
    "n.plot()"
   ]
  },
  {
   "cell_type": "markdown",
   "metadata": {},
   "source": [
    "A full list of components are given: https://pypsa.readthedocs.io/en/latest/components.html#\n",
    "We always check the PyPSA documentation to find analyse the components of interest."
   ]
  },
  {
   "cell_type": "code",
   "execution_count": null,
   "metadata": {},
   "outputs": [],
   "source": [
    "n.buses.head(4)"
   ]
  },
  {
   "cell_type": "code",
   "execution_count": null,
   "metadata": {},
   "outputs": [],
   "source": [
    "n.lines.head(2)"
   ]
  },
  {
   "cell_type": "code",
   "execution_count": null,
   "metadata": {},
   "outputs": [],
   "source": [
    "# The maximal available power output\n",
    "n.generators.groupby(\"carrier\").p_nom_max.sum() / 1e3 # converted in [GW]"
   ]
  },
  {
   "cell_type": "code",
   "execution_count": null,
   "metadata": {},
   "outputs": [],
   "source": [
    "# The (by the model) optimised installed power \n",
    "n.generators.groupby(\"carrier\").p_nom_opt.sum() / 1e3  # converted in [GW]"
   ]
  },
  {
   "cell_type": "markdown",
   "metadata": {},
   "source": [
    "### Maximal available wind profile (as p.u.)\n",
    "\n",
    "A time series is of the type of \"series\". See: https://pypsa.readthedocs.io/en/latest/components.html#generator\n",
    "This requires to use `n.generator_t.p_max_pu` instead `n.generator.p_max_pu`"
   ]
  },
  {
   "cell_type": "code",
   "execution_count": null,
   "metadata": {},
   "outputs": [],
   "source": [
    "n.generators_t.p_max_pu.iloc[:,0].plot()"
   ]
  },
  {
   "cell_type": "markdown",
   "metadata": {},
   "source": [
    "# Load timeseries\n"
   ]
  },
  {
   "cell_type": "code",
   "execution_count": null,
   "metadata": {},
   "outputs": [],
   "source": [
    "n.loads_t.p"
   ]
  },
  {
   "cell_type": "code",
   "execution_count": null,
   "metadata": {},
   "outputs": [],
   "source": []
  }
 ],
 "metadata": {
  "interpreter": {
   "hash": "2be7d078420298083e20df3d184bc52c8395c191e49cd18ebae5d161fa25ddc1"
  },
  "kernelspec": {
   "display_name": "pypsa-africa",
   "language": "python",
   "name": "pypsa-africa"
  },
  "language_info": {
   "codemirror_mode": {
    "name": "ipython",
    "version": 3
   },
   "file_extension": ".py",
   "mimetype": "text/x-python",
   "name": "python",
   "nbconvert_exporter": "python",
   "pygments_lexer": "ipython3",
   "version": "3.9.7"
  }
 },
 "nbformat": 4,
 "nbformat_minor": 4
}
