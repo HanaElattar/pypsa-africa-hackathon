{
 "cells": [
  {
   "cell_type": "code",
   "execution_count": null,
   "metadata": {},
   "outputs": [],
   "source": [
    "import logging\n",
    "import os\n",
    "\n",
    "import pypsa\n",
    "import yaml\n",
    "import pandas as pd\n",
    "import geopandas as gpd\n",
    "import geoviews as gv\n",
    "import hvplot.pandas\n",
    "import numpy as np\n",
    "import scipy as sp\n",
    "import networkx as nx\n",
    "import matplotlib as plt\n",
    "\n",
    "from scipy.sparse import csgraph\n",
    "from itertools import product\n",
    "\n",
    "from shapely.geometry import Point, LineString\n",
    "import shapely, shapely.prepared, shapely.wkt\n",
    "\n",
    "logger = logging.getLogger(__name__)\n",
    "\n",
    "pd.set_option('display.max_columns', None)\n",
    "pd.set_option('display.max_colwidth', 70)\n",
    "\n",
    "import sys\n",
    "sys.path.append('../')  # to import helpers\n",
    "from scripts._helpers import _sets_path_to_root\n",
    "_sets_path_to_root(\"pypsa-africa\")"
   ]
  },
  {
   "cell_type": "markdown",
   "metadata": {},
   "source": [
    "## add electricity"
   ]
  },
  {
   "cell_type": "code",
   "execution_count": null,
   "metadata": {},
   "outputs": [],
   "source": [
    "# network_path = os.getcwd() + '/networks/elec.nc'\n",
    "network_path = os.getcwd() + '/networks/base.nc'\n",
    "n = pypsa.Network(network_path)\n",
    "n"
   ]
  },
  {
   "cell_type": "code",
   "execution_count": null,
   "metadata": {},
   "outputs": [],
   "source": [
    "from shapely import wkt\n",
    "\n",
    "lines = n.lines\n",
    "lines['geometry'] = lines['geometry'].apply(wkt.loads)\n",
    "lines = gpd.GeoDataFrame(lines, crs='epsg:4326')\n",
    "\n",
    "buses = n.buses\n",
    "buses[\"geometry\"] = gpd.points_from_xy(buses.lon, buses.lat)\n",
    "buses = gpd.GeoDataFrame(buses, crs='epsg:4326')"
   ]
  },
  {
   "cell_type": "code",
   "execution_count": null,
   "metadata": {},
   "outputs": [],
   "source": [
    "# lines = lines[lines[\"country\"]==\"nigeria\"]\n",
    "# buses = buses[buses[\"country\"]==\"nigeria\"]\n",
    "\n",
    "buses.hvplot(\n",
    "    geo=True,\n",
    "    size = 10,  # buses[\"tag_area\"]**(0.5)/10,\n",
    "    frame_height=750,\n",
    "    alpha=0.4,\n",
    "    tiles='CartoLight',\n",
    "    hover_cols=['bus_id'],\n",
    "    color = 'orange'  \n",
    ") * lines.hvplot(\n",
    "    geo=True,\n",
    "    alpha=0.4,\n",
    "    hover_cols=['line_id']\n",
    ").opts(\n",
    "    active_tools=['pan', 'wheel_zoom']\n",
    ")"
   ]
  },
  {
   "cell_type": "markdown",
   "metadata": {},
   "source": [
    "## Simplify network"
   ]
  },
  {
   "cell_type": "code",
   "execution_count": null,
   "metadata": {},
   "outputs": [],
   "source": [
    "network_path_s = os.getcwd() + '/networks/elec_s.nc'\n",
    "n_s = pypsa.Network(network_path_s)\n",
    "n_s"
   ]
  },
  {
   "cell_type": "code",
   "execution_count": null,
   "metadata": {},
   "outputs": [],
   "source": [
    "from shapely import wkt\n",
    "\n",
    "lines_s = n_s.lines\n",
    "lines_s['geometry'] = lines_s['geometry'].apply(wkt.loads)\n",
    "lines_s = gpd.GeoDataFrame(lines_s, crs='epsg:4326')\n",
    "\n",
    "buses_s = n_s.buses\n",
    "buses_s[\"geometry\"] = gpd.points_from_xy(buses_s.lon, buses_s.lat)\n",
    "buses_s = gpd.GeoDataFrame(buses_s, crs='epsg:4326')\n",
    "\n",
    "buses_s.hvplot(\n",
    "    geo=True,\n",
    "    size = 10,  # buses[\"tag_area\"]**(0.5)/10,\n",
    "    frame_height=750,\n",
    "    alpha=0.4,\n",
    "    tiles='CartoLight',\n",
    "    hover_cols=['bus_id'],\n",
    "    color = 'orange'  \n",
    ") * lines_s.hvplot(\n",
    "    geo=True,\n",
    "    alpha=0.4,\n",
    "    hover_cols=['line_id']\n",
    ").opts(\n",
    "    active_tools=['pan', 'wheel_zoom']\n",
    ")"
   ]
  },
  {
   "cell_type": "markdown",
   "metadata": {},
   "source": [
    "## cluster_network"
   ]
  },
  {
   "cell_type": "code",
   "execution_count": null,
   "metadata": {},
   "outputs": [],
   "source": [
    "network_path_c = os.getcwd() + '/networks/elec_s_50.nc'\n",
    "n_c = pypsa.Network(network_path_c)\n",
    "n_c"
   ]
  },
  {
   "cell_type": "code",
   "execution_count": null,
   "metadata": {},
   "outputs": [],
   "source": [
    "from shapely import wkt\n",
    "from shapely.geometry import LineString\n",
    "\n",
    "buses_c = n_c.buses\n",
    "buses_c[\"geometry\"] = gpd.points_from_xy(buses_c.x, buses_c.y)\n",
    "buses_c = gpd.GeoDataFrame(buses_c, crs='epsg:4326')\n",
    "\n",
    "lines_c = n_c.lines\n",
    "lines_c['geometry'] = lines_c.apply(lambda x: LineString([buses_c.loc[x[\"bus0\"], \"geometry\"], buses_c.loc[x[\"bus1\"], \"geometry\"]]), axis=1)\n",
    "lines_c = gpd.GeoDataFrame(lines_c, crs='epsg:4326')\n",
    "\n",
    "buses_c.hvplot(\n",
    "    geo=True,\n",
    "    size = 10,  # buses[\"tag_area\"]**(0.5)/10,\n",
    "    frame_height=750,\n",
    "    alpha=0.4,\n",
    "    tiles='CartoLight',\n",
    "    hover_cols=['bus_id'],\n",
    "    color = 'orange'  \n",
    ") * lines_c.hvplot(\n",
    "    geo=True,\n",
    "    alpha=0.4,\n",
    "    hover_cols=['line_id']\n",
    ").opts(\n",
    "    active_tools=['pan', 'wheel_zoom']\n",
    ")"
   ]
  }
 ],
 "metadata": {
  "interpreter": {
   "hash": "64a9945f8f137ed15f7097a1dbedf9f1ce29494f0e33cb4fc5724026c999b930"
  },
  "kernelspec": {
   "display_name": "Python 3.9.6 64-bit ('toast': conda)",
   "name": "python3"
  },
  "language_info": {
   "codemirror_mode": {
    "name": "ipython",
    "version": 3
   },
   "file_extension": ".py",
   "mimetype": "text/x-python",
   "name": "python",
   "nbconvert_exporter": "python",
   "pygments_lexer": "ipython3",
   "version": "3.9.6"
  }
 },
 "nbformat": 4,
 "nbformat_minor": 4
}
