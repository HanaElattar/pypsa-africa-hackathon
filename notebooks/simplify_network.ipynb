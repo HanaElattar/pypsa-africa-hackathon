{
 "cells": [
  {
   "cell_type": "code",
   "execution_count": null,
   "metadata": {},
   "outputs": [],
   "source": [
    "import logging\n",
    "import os\n",
    "\n",
    "import pypsa\n",
    "import yaml\n",
    "import pandas as pd\n",
    "import geopandas as gpd\n",
    "#import geoviews as gv\n",
    "import hvplot.pandas\n",
    "import numpy as np\n",
    "import scipy as sp\n",
    "import networkx as nx\n",
    "import matplotlib as plt\n",
    "\n",
    "from scipy.sparse import csgraph\n",
    "from itertools import product\n",
    "\n",
    "from shapely.geometry import Point, LineString\n",
    "import shapely, shapely.prepared, shapely.wkt\n",
    "\n",
    "logger = logging.getLogger(__name__)\n",
    "\n",
    "pd.set_option('display.max_columns', None)\n",
    "pd.set_option('display.max_colwidth', 70)\n",
    "\n",
    "import sys\n",
    "sys.path.append('../')  # to import helpers\n",
    "from scripts._helpers import _sets_path_to_root\n",
    "_sets_path_to_root(\"pypsa-africa\")"
   ]
  },
  {
   "cell_type": "code",
   "execution_count": null,
   "metadata": {},
   "outputs": [],
   "source": [
    "network_path = os.getcwd() + '/networks/elec.nc'\n",
    "n = pypsa.Network(network_path)\n",
    "n"
   ]
  },
  {
   "cell_type": "code",
   "execution_count": null,
   "metadata": {},
   "outputs": [],
   "source": [
    "n.buses"
   ]
  },
  {
   "cell_type": "code",
   "execution_count": null,
   "metadata": {},
   "outputs": [],
   "source": [
    "n.lines"
   ]
  },
  {
   "cell_type": "code",
   "execution_count": null,
   "metadata": {},
   "outputs": [],
   "source": [
    "# Try to make the points 'right'\n",
    "# TODO: issue at n.plot in plot.py of PyPSA\n",
    "\n",
    "# df = n.buses\n",
    "# df[\"geometry\"] = gpd.points_from_xy(df.lon, df.lat)\n",
    "# gdf = gpd.GeoDataFrame(df, crs='epsg:4326')\n",
    "# n.buses = gdf\n",
    "\n",
    "\n",
    "# #import geoplot\n",
    "# import matplotlib.pyplot as plt\n",
    "# import cartopy.crs as ccrs\n",
    "\n",
    "# #Germany shape information\n",
    "# world = gpd.read_file(gpd.datasets.get_path('naturalearth_lowres'))\n",
    "# africa = world.query('continent == \"Africa\"')\n",
    "\n",
    "# #Boundary coordinates for Germany\n",
    "# xlim = ([africa.total_bounds[0],  africa.total_bounds[2]])\n",
    "# ylim = ([africa.total_bounds[1],  africa.total_bounds[3]])\n",
    "\n",
    "# #plot\n",
    "# fig,ax = plt.subplots(1,1,subplot_kw={\"projection\":ccrs.PlateCarree()})\n",
    "# fig.set_size_inches(15,15)\n",
    "# ax = n.plot(ax=ax, boundaries = xlim+ylim, bus_sizes=1, geometry = True)"
   ]
  },
  {
   "cell_type": "code",
   "execution_count": null,
   "metadata": {},
   "outputs": [],
   "source": [
    "from shapely import wkt\n",
    "\n",
    "lines = n.lines\n",
    "lines['geometry'] = lines['geometry'].apply(wkt.loads)\n",
    "lines = gpd.GeoDataFrame(lines, crs='epsg:4326')\n",
    "\n",
    "buses = n.buses\n",
    "buses[\"geometry\"] = gpd.points_from_xy(buses.lon, buses.lat)\n",
    "buses = gpd.GeoDataFrame(buses, crs='epsg:4326')"
   ]
  },
  {
   "cell_type": "code",
   "execution_count": null,
   "metadata": {},
   "outputs": [],
   "source": [
    "lines = lines[lines[\"country\"]==\"nigeria\"]\n",
    "buses = buses[buses[\"country\"]==\"nigeria\"]\n",
    "\n",
    "buses.hvplot(\n",
    "    geo=True,\n",
    "    size = 10,  # buses[\"tag_area\"]**(0.5)/10,\n",
    "    frame_height=750,\n",
    "    alpha=0.4,\n",
    "    tiles='CartoLight',\n",
    "    hover_cols=['bus_id'],\n",
    "    color = 'orange'  \n",
    ") * lines.hvplot(\n",
    "    geo=True,\n",
    "    alpha=0.4,\n",
    "    hover_cols=['line_id']\n",
    ").opts(\n",
    "    active_tools=['pan', 'wheel_zoom']\n",
    ")"
   ]
  },
  {
   "cell_type": "code",
   "execution_count": null,
   "metadata": {},
   "outputs": [],
   "source": []
  },
  {
   "cell_type": "code",
   "execution_count": null,
   "metadata": {},
   "outputs": [],
   "source": []
  },
  {
   "cell_type": "code",
   "execution_count": null,
   "metadata": {},
   "outputs": [],
   "source": []
  },
  {
   "cell_type": "markdown",
   "metadata": {},
   "source": [
    "# TEST AREA - to test single functions"
   ]
  },
  {
   "cell_type": "code",
   "execution_count": null,
   "metadata": {},
   "outputs": [],
   "source": [
    "lines = (\n",
    "        pd.read_csv(\n",
    "            \"data/osm/africa_all_lines_build_network.csv\",\n",
    "            dtype=dict(\n",
    "                line_id=\"str\",\n",
    "                bus0=\"str\",\n",
    "                bus1=\"str\",\n",
    "                underground=\"bool\",\n",
    "                under_construction=\"bool\",\n",
    "            ),\n",
    "        )\n",
    "        .set_index(\"line_id\")\n",
    "        .rename(columns=dict(voltage=\"v_nom\", circuits=\"num_parallel\"))\n",
    "    )\n",
    "\n",
    "lines[\"length\"] /= 1e3  # m to km conversion\n",
    "lines[\"v_nom\"] /= 1e3  # V to kV conversion\n",
    "lines = lines.loc[:, ~lines.columns.str.contains(\"^Unnamed\")]  \n",
    "lines = _rebase_voltage_to_config(lines)\n",
    "\n",
    "#lines"
   ]
  },
  {
   "cell_type": "code",
   "execution_count": null,
   "metadata": {},
   "outputs": [],
   "source": [
    "def _rebase_voltage_to_config(component):\n",
    "    \"\"\"\n",
    "    Rebase the voltage of components to the config.yaml input\n",
    "\n",
    "    Components such as line and buses have voltage levels between\n",
    "    110 kV up to around 850 kV. PyPSA-Africa uses 3 voltages as config input.\n",
    "    This function rebases all inputs to the lower, middle and upper voltage\n",
    "    bound.\n",
    "\n",
    "    Parameters\n",
    "    ----------\n",
    "    component : dataframe\n",
    "    \"\"\"\n",
    "    v_min = 110  # min. filtered value in dataset\n",
    "    v_low = 110\n",
    "    v_mid = 220\n",
    "    v_up = 330\n",
    "    v_low_mid = (v_mid - v_low) / 2 + v_low  # between low and mid voltage\n",
    "    v_mid_up = (v_up - v_mid) / 2 + v_mid  # between mid and upper voltage\n",
    "    component.loc[\n",
    "        (v_min <= component[\"v_nom\"]) & (component[\"v_nom\"] < v_low_mid), \"v_nom\"\n",
    "    ] = v_low\n",
    "    component.loc[\n",
    "        (v_low_mid <= component[\"v_nom\"]) & (component[\"v_nom\"] < v_mid_up), \"v_nom\"\n",
    "    ] = v_mid\n",
    "    component.loc[v_mid_up <= component[\"v_nom\"], \"v_nom\"] = v_up\n",
    "\n",
    "    return component\n"
   ]
  },
  {
   "cell_type": "code",
   "execution_count": null,
   "metadata": {},
   "outputs": [],
   "source": []
  }
 ],
 "metadata": {
  "interpreter": {
   "hash": "b15171277ad2a23259eccee5d251ce121ec07b9b3bf65baa647c86c3ba08fe55"
  },
  "kernelspec": {
   "display_name": "Python 3.8.10 64-bit ('pypsa-eu': conda)",
   "name": "python3"
  },
  "language_info": {
   "codemirror_mode": {
    "name": "ipython",
    "version": 3
   },
   "file_extension": ".py",
   "mimetype": "text/x-python",
   "name": "python",
   "nbconvert_exporter": "python",
   "pygments_lexer": "ipython3",
   "version": "3.8.10"
  }
 },
 "nbformat": 4,
 "nbformat_minor": 4
}
