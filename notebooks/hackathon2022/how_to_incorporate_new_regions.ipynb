{
 "cells": [
  {
   "cell_type": "markdown",
   "metadata": {},
   "source": [
    "# How to incorporate new regions?\n",
    "\n",
    "This notebook aims at providing a preliminary overview about how to add new regions beyond the African continent."
   ]
  },
  {
   "cell_type": "markdown",
   "metadata": {},
   "source": [
    "## 1. The settings\n",
    "\n",
    "First of all, to change the workflow to perform on a different region, the `config.yaml` file shall be modified to the desired countries.\n",
    "\n",
    "For example, to perform the workflow on Turkey, the keyword shall be changed as follows:\n",
    "``` python\n",
    "    countries = [\"TR\"]\n",
    "```\n"
   ]
  },
  {
   "cell_type": "markdown",
   "metadata": {},
   "source": [
    "## 2. Input files\n",
    "\n",
    "### 2.1. Introduction\n",
    "\n",
    "The current input files have been tested on the African countries, thus, for other regions appropriate input data may be missing and may be added or replaced.\n",
    "\n",
    "In particular, in the current workflow some input files needed are automatically downloaded from the original sources by countries according to the list of countries provided by the keyword `countries` in the file `config.yaml`. Some examples are the osm data, downloaded by the rule `download_osm_data` or the GADM shapes, by the rule `build_shapes`.\n",
    "\n",
    "Other data, instead, cannot be automatically downloaded from the original source, instead, we prepared a databundle (zip files) that are automatically downloaded from google drive. **However, this databundle has been tested for Africa and may be incomplete for other regions**. The input data contained in these files are those where attention should be put when the user is interested into investigating different regions\n",
    "\n",
    "The input data that shall be investigate are contained in the folders `data/raw`, `resources` and `cutouts`. In particular, we provide below some comments about what are the files that shall be investigated.\n",
    "\n",
    "Below, we add comments about each folder and the files that shall be addressed:\n",
    "\n",
    "### 2.2. Folder `data/raw`\n",
    "\n",
    "- `data/raw/hydrobasins`: in this folder the data about the shapes of watershed boundaries and basins are provided, but the current file in the databundle is Africa-specific. Data for other regions are available from [HydroBASINS](https://www.hydrosheds.org/page/hydrobasins). These data shall be calibrated when hydro resource is used.\n",
    "\n",
    "### 2.3. Folder `resources`\n",
    "\n",
    "The resources folder contains main inputs for the resource and load estimation.\n",
    "\n",
    "### 2.4. Folder `cutouts`\n",
    "\n",
    " "
   ]
  }
 ],
 "metadata": {
  "language_info": {
   "name": "python"
  },
  "orig_nbformat": 4
 },
 "nbformat": 4,
 "nbformat_minor": 2
}
