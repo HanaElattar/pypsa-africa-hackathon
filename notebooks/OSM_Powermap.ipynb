{
 "cells": [
  {
   "cell_type": "markdown",
   "id": "45debf91",
   "metadata": {},
   "source": [
    "This notebook is for snapping of substations to lines"
   ]
  },
  {
   "cell_type": "code",
   "execution_count": null,
   "id": "eb350664",
   "metadata": {},
   "outputs": [],
   "source": [
    "import os\n",
    "import matplotlib.pyplot as plt \n",
    "import geopandas as gpd\n",
    "import geoplot\n",
    "import pandas as pd\n",
    "import numpy as np\n",
    "import pandas as pd\n",
    "import hvplot.pandas\n",
    "\n",
    "import sys\n",
    "sys.path.append('../')  # to import helpers\n",
    "from scripts._helpers import _sets_path_to_root\n",
    "_sets_path_to_root(\"pypsa-africa\")"
   ]
  },
  {
   "cell_type": "markdown",
   "id": "52a67241",
   "metadata": {},
   "source": [
    "# Africa shape data"
   ]
  },
  {
   "cell_type": "code",
   "execution_count": null,
   "id": "e6f24b4d",
   "metadata": {},
   "outputs": [],
   "source": [
    "world = gpd.read_file(gpd.datasets.get_path('naturalearth_lowres'))\n",
    "africa = world.query('continent == \"Africa\"')\n",
    "nigeriaplot = world.query('name == \"Nigeria\"')\n",
    "#world"
   ]
  },
  {
   "cell_type": "markdown",
   "id": "4f982e28",
   "metadata": {},
   "source": [
    "# Power data"
   ]
  },
  {
   "cell_type": "code",
   "execution_count": null,
   "id": "699899f1",
   "metadata": {},
   "outputs": [],
   "source": [
    "pathg = os.path.realpath(\"data/raw\")+'/africa_all_raw_generators.geojson' # Generators are not required in base_network\n",
    "paths = os.path.realpath(\"data/clean\")+'/africa_all_buses_clean.geojson'\n",
    "pathl = os.path.realpath(\"data/clean\")+'/africa_all_lines_clean.geojson'\n",
    "\n",
    "generators = gpd.read_file(pathg).set_crs(epsg=4326, inplace=True)\n",
    "substations = gpd.read_file(paths).set_crs(epsg=4326, inplace=True)\n",
    "lines = gpd.read_file(pathl).set_crs(epsg=4326, inplace=True)"
   ]
  },
  {
   "cell_type": "code",
   "execution_count": null,
   "id": "24ecd6e5",
   "metadata": {},
   "outputs": [],
   "source": [
    "lines_ng = lines[lines[\"country\"] == \"nigeria\"]\n",
    "substations_ng = substations[substations[\"country\"] == \"nigeria\"]\n",
    "generators_ng = generators[generators[\"Country\"] == \"nigeria\"]"
   ]
  },
  {
   "cell_type": "code",
   "execution_count": null,
   "id": "8c13d53e",
   "metadata": {},
   "outputs": [],
   "source": [
    "# Redact data frames\n",
    "#g_ = generators[['id', 'tags.power', 'geometry', 'Type', 'Country']]\n",
    "b_ = substations[['bus_id', 'symbol', 'geometry', 'country']]\n",
    "l_ = lines[['line_id', 'tag_type', 'geometry', 'country']] #lines\n",
    "l_.rename(columns={\"line_id\": \"id\"}, inplace=\"true\")"
   ]
  },
  {
   "cell_type": "code",
   "execution_count": null,
   "id": "82933399",
   "metadata": {},
   "outputs": [],
   "source": [
    "# NIGERIA AS TEST\n",
    "b_ = b_[b_[\"country\"] == \"nigeria\"]\n",
    "l_ = l_[l_[\"country\"] == \"nigeria\"]\n"
   ]
  },
  {
   "cell_type": "code",
   "execution_count": null,
   "id": "2601fd82",
   "metadata": {},
   "outputs": [],
   "source": [
    "b_"
   ]
  },
  {
   "cell_type": "code",
   "execution_count": null,
   "id": "50e89889",
   "metadata": {},
   "outputs": [],
   "source": [
    "# https://gis.stackexchange.com/questions/48949/epsg-3857-or-4326-for-googlemaps-openstreetmap-and-leaflet\n",
    "# EPSG 3857 for google maps projected coors\n",
    "\n",
    "b_.to_crs(\"EPSG:3857\", inplace=True) # Projecting from ESPG 4326 to 3857\n",
    "\n",
    "pd.set_option('mode.chained_assignment',None) # Disable SetCopyWarning\n",
    "l_.to_crs(\"EPSG:3857\", inplace=True)\n",
    "pd.reset_option(\"mode.chained_assignment\") # Enable SetCopyWarning"
   ]
  },
  {
   "cell_type": "code",
   "execution_count": null,
   "id": "8f7505f8",
   "metadata": {},
   "outputs": [],
   "source": [
    "b_.bounds # Get Non-Existant Bounding Box of Points\n",
    "# (minx, miny, maxx, maxy) = (west, south, east, north) = \n",
    "# west: Lower-left X coordinate\n",
    "# south: Lower-left Y coordinate\n",
    "# east: Upper-right X coordinate\n",
    "# north: Upper-right Y coordinate"
   ]
  },
  {
   "cell_type": "code",
   "execution_count": null,
   "id": "02308171",
   "metadata": {},
   "outputs": [],
   "source": [
    "offset = 100\n",
    "bbox = b_.bounds + [-offset, -offset, offset, offset]\n",
    "bbox # bbox is a square with length 200m"
   ]
  },
  {
   "cell_type": "code",
   "execution_count": null,
   "id": "c4b48f54",
   "metadata": {},
   "outputs": [],
   "source": [
    "l_"
   ]
  },
  {
   "cell_type": "code",
   "execution_count": null,
   "id": "8ed8c911",
   "metadata": {},
   "outputs": [],
   "source": [
    "hits = bbox.apply(lambda row: list(l_.sindex.intersection(row)), axis=1) # list of the lines that overlap that bounding box.\n",
    "hits # Index of lines are not the Ids"
   ]
  },
  {
   "cell_type": "code",
   "execution_count": null,
   "id": "d930f0a1",
   "metadata": {},
   "outputs": [],
   "source": [
    "with pd.option_context('display.max_rows', None, 'display.max_columns', None):\n",
    "    display(pd.DataFrame.from_records([hits.apply(len).value_counts().to_dict()]).transpose())"
   ]
  },
  {
   "cell_type": "code",
   "execution_count": null,
   "id": "a9d8aa86",
   "metadata": {},
   "outputs": [],
   "source": [
    "# Flatten Hits\n",
    "tmp = pd.DataFrame({\n",
    "    # index of points table\n",
    "    \"pt_idx\": np.repeat(hits.index, hits.apply(len)),\n",
    "    # ordinal position of line - access via iloc later\n",
    "    \"line_i\": np.concatenate(hits.values)\n",
    "})\n",
    "tmp"
   ]
  },
  {
   "cell_type": "code",
   "execution_count": null,
   "id": "0927bb86",
   "metadata": {},
   "outputs": [],
   "source": [
    "tmp = tmp.join(l_.reset_index(drop=True), on=\"line_i\")\n",
    "\n",
    "tmp = tmp.join(b_.geometry.rename(\"point\"), on=\"pt_idx\")\n",
    "\n",
    "# tmp = tmp.join(b_.reset_index(drop=True), on=\"pt_idx\")\n",
    "\n",
    "tmp = gpd.GeoDataFrame(tmp, geometry=\"geometry\", crs=b_.crs)\n",
    "tmp"
   ]
  },
  {
   "cell_type": "code",
   "execution_count": null,
   "id": "3b965f04",
   "metadata": {},
   "outputs": [],
   "source": [
    "tmp"
   ]
  },
  {
   "cell_type": "code",
   "execution_count": null,
   "id": "b0e661e0",
   "metadata": {},
   "outputs": [],
   "source": [
    "# TODO : Convert to Google Maps CRS (2D)\n",
    "tmp[\"snap_dist\"] = tmp.geometry.distance(gpd.GeoSeries(tmp.point))"
   ]
  },
  {
   "cell_type": "code",
   "execution_count": null,
   "id": "a0c975fe",
   "metadata": {},
   "outputs": [],
   "source": [
    "tmp"
   ]
  },
  {
   "cell_type": "code",
   "execution_count": null,
   "id": "4877bae0",
   "metadata": {},
   "outputs": [],
   "source": [
    "tolerance = offset\n",
    "# Discard any lines that are greater than tolerance from points\n",
    "tmp = tmp.loc[tmp.snap_dist <= tolerance]\n",
    "# Sort on ascending snap distance, so that closest goes to top\n",
    "tmp = tmp.sort_values(by=[\"snap_dist\"])\n",
    "\n"
   ]
  },
  {
   "cell_type": "code",
   "execution_count": null,
   "id": "46fd37cd",
   "metadata": {},
   "outputs": [],
   "source": [
    "# group by the index of the points and take the first, which is the\n",
    "# closest line \n",
    "closest = tmp.groupby(\"pt_idx\").first()\n",
    "# construct a GeoDataFrame of the closest lines\n",
    "closest = gpd.GeoDataFrame(closest, geometry=\"geometry\")"
   ]
  },
  {
   "cell_type": "code",
   "execution_count": null,
   "id": "77d80fe7",
   "metadata": {},
   "outputs": [],
   "source": [
    "# with pd.option_context('display.max_rows', None, 'display.max_columns', None):\n",
    "    # display(closest)"
   ]
  },
  {
   "cell_type": "code",
   "execution_count": null,
   "id": "cd65d101",
   "metadata": {},
   "outputs": [],
   "source": [
    "# Position of nearest point from start of the line\n",
    "pos = closest.geometry.project(gpd.GeoSeries(closest.point))\n",
    "# Get new point location geometry\n",
    "new_pts = closest.geometry.interpolate(pos)"
   ]
  },
  {
   "cell_type": "code",
   "execution_count": null,
   "id": "120c634a",
   "metadata": {},
   "outputs": [],
   "source": [
    "# pos"
   ]
  },
  {
   "cell_type": "code",
   "execution_count": null,
   "id": "cd124d91",
   "metadata": {},
   "outputs": [],
   "source": [
    "# new_pts"
   ]
  },
  {
   "cell_type": "code",
   "execution_count": null,
   "id": "19820208",
   "metadata": {},
   "outputs": [],
   "source": [
    "#Identify the columns we want to copy from the closest line to the point, such as a line ID.\n",
    "line_columns = 'line_i'\n",
    "# Create a new GeoDataFrame from the columns from the closest line and new point geometries (which will be called \"geometries\")\n",
    "snapped = gpd.GeoDataFrame(\n",
    "closest[line_columns],geometry=new_pts)\n",
    "\n",
    "points = b_\n",
    "\n",
    "# Join back to the original points:\n",
    "updated_points = points.drop(columns=[\"geometry\"]).join(snapped)\n",
    "# You may want to drop any that didn't snap, if so:\n",
    "updated_points = updated_points.dropna(subset=[\"geometry\"])"
   ]
  },
  {
   "cell_type": "code",
   "execution_count": null,
   "id": "664cae19",
   "metadata": {},
   "outputs": [],
   "source": [
    "# updated_points.to_file('./updates_points.geojson', driver=\"GeoJSON\")  # Generate GeoJson"
   ]
  },
  {
   "cell_type": "markdown",
   "id": "ade5aa8d",
   "metadata": {},
   "source": [
    "# Map"
   ]
  },
  {
   "cell_type": "code",
   "execution_count": null,
   "id": "5f44966e",
   "metadata": {},
   "outputs": [],
   "source": [
    "# ax = geoplot.polyplot(nigeriaplot ,edgecolor='grey', alpha = 0.5, figsize=(20, 20))\n",
    "\n",
    "# points.loc[points['country'] == 'nigeria'].plot(figsize=(20, 20),markersize=10, color='orange',alpha = 0.3, ax=ax)\n",
    "# updated_points.loc[updated_points['country'] == 'nigeria'].plot(figsize=(20, 20),markersize=10, color='green',alpha = 0.3, ax=ax)\n",
    "# # generators.loc[generators['country'] == 'nigeria'].plot(figsize=(20, 20),markersize=25, color='blue',alpha = 0.3, ax=ax)\n",
    "# lines.loc[lines['country'] == 'nigeria'].plot(figsize=(20, 20),markersize=25, color='red',alpha = 0.3, ax=ax)\n",
    "\n",
    "\n",
    "# #plt.savefig('africa_transmission_and substations_110.png')"
   ]
  },
  {
   "cell_type": "code",
   "execution_count": null,
   "id": "4a10636c",
   "metadata": {},
   "outputs": [],
   "source": [
    "# substation_df = pd.read_csv(\n",
    "#     \"./data/clean/africa_all_buses_clean.csv\",\n",
    "#     index_col=0\n",
    "# )\n",
    "\n",
    "# substation_df.hvplot.points(\n",
    "#     'x',\n",
    "#     'y',\n",
    "#     geo=True,\n",
    "#     size = substation_df[\"tags_area\"]**(0.5)/10,\n",
    "#     frame_height=500,\n",
    "#     alpha=0.4,\n",
    "#     tiles='CartoLight',\n",
    "#     hover_cols=['bus_id'],\n",
    "#     c='tags_country'\n",
    "# ).opts(\n",
    "#     active_tools=['pan', 'wheel_zoom']\n",
    "# )"
   ]
  },
  {
   "cell_type": "code",
   "execution_count": null,
   "id": "e286c74d",
   "metadata": {},
   "outputs": [],
   "source": [
    "substations_ng.hvplot(\n",
    "    geo=True,\n",
    "    size = substations[\"tag_area\"]**(0.5)/10,\n",
    "    frame_height=750,\n",
    "    alpha=0.4,\n",
    "    tiles='CartoLight',\n",
    "    hover_cols=['bus_id'],\n",
    "    color = 'orange'  \n",
    ") * lines_ng.hvplot(\n",
    "    geo=True,\n",
    "    alpha=0.4,\n",
    "    hover_cols=['line_id']\n",
    ") * generators_ng.hvplot(\n",
    "    geo=True,\n",
    "    alpha=0.4,\n",
    "    color = 'green'\n",
    ").opts(\n",
    "    active_tools=['pan', 'wheel_zoom']\n",
    ")"
   ]
  }
 ],
 "metadata": {
  "interpreter": {
   "hash": "d9c13fc6442bf1b8f9598850facaf8fef6fb0663206d3863adab308b8c559389"
  },
  "kernelspec": {
   "display_name": "Python 3.7.10 64-bit ('pypsa-africa': conda)",
   "name": "python3"
  },
  "language_info": {
   "codemirror_mode": {
    "name": "ipython",
    "version": 3
   },
   "file_extension": ".py",
   "mimetype": "text/x-python",
   "name": "python",
   "nbconvert_exporter": "python",
   "pygments_lexer": "ipython3",
   "version": "3.7.10"
  }
 },
 "nbformat": 4,
 "nbformat_minor": 5
}
