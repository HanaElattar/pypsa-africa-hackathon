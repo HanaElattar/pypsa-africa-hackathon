{
 "cells": [
  {
   "cell_type": "markdown",
   "metadata": {},
   "source": [
    "# Exploring `build_cutouts` outputs\n",
    "\n",
    "This jupyter notebook analyse the `base_network.py` **outputs**. Cutouts are returning wind, solar and run-off river relevant timeseries that are created with the Atlite tool (wind speeds, solar iradiation, etc.). We recommend going through [Atlite's notebooks](https://github.com/PyPSA/atlite/tree/master/examples) to learn more about it's fantastic capabilities.\n",
    "\n",
    "The `pypsa-africa/Snakefile` explicitly list in the **rule** what goes into the function `build_cutouts.py` and what goes out (`networks/{cutout}.nc`). So to create the i.e. wind speed timeseries, we only need to provide shapes of the area of interest as input and automatically can create outputs.\n",
    "\n",
    "```\n",
    "if config['enable'].get('build_cutout', False):\n",
    "    rule build_cutout:\n",
    "        input:\n",
    "            regions_onshore=\"resources/regions_onshore.geojson\",\n",
    "            regions_offshore=\"resources/regions_offshore.geojson\"\n",
    "        output: \"cutouts/{cutout}.nc\"\n",
    "        log: \"logs/build_cutout/{cutout}.log\"\n",
    "        benchmark: \"benchmarks/build_cutout_{cutout}\"\n",
    "        threads: ATLITE_NPROCESSES\n",
    "        resources: mem=ATLITE_NPROCESSES * 1000\n",
    "        script: \"scripts/build_cutout.py\"\n",
    "```\n",
    "\n",
    "Before analysing the outputs of add_electricity.py check that:\n",
    "- `pypsa-africa` environment (/kernel) in jupyter notebook  is active and updated\n",
    "- root folder where pypsa-africa is installed is named \"pypsa-africa\"\n",
    "- or rename the below `_sets_path_to_root(\"<folder_name>\")` accordingly"
   ]
  },
  {
   "cell_type": "code",
   "execution_count": null,
   "metadata": {},
   "outputs": [],
   "source": [
    "import os\n",
    "import sys\n",
    "sys.path.append('../')  # to import helpers\n",
    "from scripts._helpers import _sets_path_to_root\n",
    "_sets_path_to_root(\"pypsa-africa\")"
   ]
  },
  {
   "cell_type": "markdown",
   "metadata": {},
   "source": [
    "A jupyter notebook requires the user to import all they need. So we need to import all the required dependencies from the `pypsa-africa` environment:"
   ]
  },
  {
   "cell_type": "code",
   "execution_count": null,
   "metadata": {},
   "outputs": [],
   "source": [
    "import atlite\n",
    "import cartopy.crs as ccrs\n",
    "import xarray as xr\n",
    "import geopandas as gpd\n",
    "import geoviews as gv\n",
    "import holoviews as hv\n",
    "import pandas as pd\n",
    "import matplotlib.pyplot as plt\n",
    "import numpy as np\n",
    "import requests\n",
    "import pypsa\n",
    "import shutil\n",
    "from rasterio.plot import show\n",
    "from atlite.gis import shape_availability, ExclusionContainer\n",
    "\n",
    "plt.rcParams['figure.figsize'] = [7, 7]\n",
    "%matplotlib inline"
   ]
  },
  {
   "cell_type": "markdown",
   "metadata": {},
   "source": [
    "## Create a cutout (takes quite a while)\n",
    "If you don't have already an cutout for instance `pypsa-africa/cutouts/africa-2013-era5.nc` in your folder you need to create one (or download one through our google cloud). Note: That we only provide the cutout for whole Africa at the moment. If another regions is of interest you need to do the following:\n",
    "\n",
    "- Go through the Atlite example: https://github.com/PyPSA/atlite/blob/master/examples/create_cutout.ipynb (as described there, we need to setup some stuff to download cutouts)\n",
    "- Copy and rename the `config_default.yaml` to `config.yaml`\n",
    "- Change the `config.yaml` if needed:\n",
    "\n",
    "```\n",
    "atlite:\n",
    "  nprocesses: 4\n",
    "  cutouts:\n",
    "    africa-2013-era5:         # This can be renamed for instance mena-2013-era5\n",
    "      module: era5            # dataset\n",
    "      dx: 0.3                 # raster/ cutout resolution \n",
    "      dy: 0.3                 # raster/ cutout resolution\n",
    "      time: [\"2013\", \"2013\"]  # weather year of interest. 2013 is default. \n",
    "```\n",
    "- provide the input shapes of the **Snakefile rule** for the region of interest. Make sure that for instance `regions_onshore.geojson` contains the data of Middle-East if you want to create a cutout of this area **and** this file need to be located in `pypsa-africa/resources` according to the Snakefile rule:\n",
    "```    \n",
    "    input:\n",
    "            regions_onshore=\"resources/regions_onshore.geojson\",\n",
    "            regions_offshore=\"resources/regions_offshore.geojson\"\n",
    "```\n",
    "- execute the following command when located at `~/pypsa-africa`:\n",
    "```\n",
    "    snakemake -j 1 cutouts/africa-2013-era5.nc\n",
    "    or\n",
    "    snakemake -j 1 cutouts/mena-2013-era5.nc\n",
    "```\n",
    ", depending on which name you defined in the `config.yaml` **and** in the `Snakefile`"
   ]
  },
  {
   "cell_type": "markdown",
   "metadata": {},
   "source": [
    "## Let's open the cutouts = weather/environment cells\n",
    "Cutouts in Atlite are rasterized weather and environment cells. They are produced in the `build_cutouts.py` and lead to the output `africa-2013-era5.nc` which is stored in the `pypsa-africa/cutouts` folder. We read first the path and open then the .nc file with xarray. As you can see from the ploted content below there is quite a lot data available. All data variabes are grided (x,y) and most of them even over time. Let's have a look."
   ]
  },
  {
   "cell_type": "code",
   "execution_count": null,
   "metadata": {},
   "outputs": [],
   "source": [
    "weather_cell_path = os.path.realpath(\"cutouts\")+\"/africa-2013-era5.nc\"\n",
    "weather_cell = xr.open_dataset(weather_cell_path)"
   ]
  },
  {
   "cell_type": "code",
   "execution_count": null,
   "metadata": {},
   "outputs": [],
   "source": [
    "weather_cell"
   ]
  },
  {
   "cell_type": "markdown",
   "metadata": {},
   "source": [
    "## Assessing the height profile\n",
    "\n",
    "Assessing the smooth map below, you might recognise that the maximum value is 3438m. But actually the highest mountain in Africa is the Mount Kilimanjaro with an elevation of 5,895m. So what's going wrong? Nothing. As you might remember from the Atlite examples, each cutout cell is about 20 x 20km depending where you are in the world. All values in the cells are averaged therefore the 3438m instead of showing the highest mountain. \n",
    "\n",
    "FYI, if the underlying grided dataset is high enough, i.e. in 1x1m resolution, and we would replace in the 20x20km cutout the mean() for a max() the map below would probably show the Kilimanjaro peak."
   ]
  },
  {
   "cell_type": "code",
   "execution_count": null,
   "metadata": {},
   "outputs": [],
   "source": [
    "print(\"Maximial elevation in the dataset = \", weather_cell[\"height\"].max())"
   ]
  },
  {
   "cell_type": "code",
   "execution_count": null,
   "metadata": {},
   "outputs": [],
   "source": [
    "weather_cell[\"height\"].plot()"
   ]
  },
  {
   "cell_type": "markdown",
   "metadata": {},
   "source": [
    "## Create animation for (x,y,time) data\n",
    "This works surprisingly easy with the hvplot and holomap.\n",
    "\n",
    "- First, we create an interactive plot. We pick for that purpose the first 24 hours of the year and assess the `influx_diffuse` from the xarray variables. You can change by hand the timestamp.\n",
    "\n",
    "- Second, we let the interactive plot convert in an animation with a cetain frames per second (fps) ratio. An fps ratio of 1 is equal to one picture in one second. 10 fps are 10 pictures in one second and therefore much faster. \n",
    "\n",
    "FYI, did you know that videos are nothing else then a lot of pictures? If the fps is too low we consider that as flickering. For most human eyes a smooth video is between 30 - 60 fps. https://www.healthline.com/health/human-eye-fps#how-vision-works"
   ]
  },
  {
   "cell_type": "code",
   "execution_count": null,
   "metadata": {},
   "outputs": [],
   "source": [
    "hv.extension('matplotlib')\n",
    "ds = hv.Dataset(weather_cell[\"influx_diffuse\"].isel(time = range(6,10))) #range 3 can be replaced by time=2\n",
    "images = ds.to(\n",
    "                hv.Image, ['x', 'y']\n",
    "              ).options(fig_inches=(10, 5), colorbar=True, cmap='oranges', projection=ccrs.PlateCarree())\n",
    "\n",
    "# hv.help(hv.Image) #  To see full documentation"
   ]
  },
  {
   "cell_type": "code",
   "execution_count": null,
   "metadata": {},
   "outputs": [],
   "source": [
    "images"
   ]
  },
  {
   "cell_type": "code",
   "execution_count": null,
   "metadata": {},
   "outputs": [],
   "source": [
    "images * gv.feature.borders * gv.feature.coastline"
   ]
  },
  {
   "cell_type": "code",
   "execution_count": null,
   "metadata": {},
   "outputs": [],
   "source": [
    "%%output holomap='mp4', fps=10\n",
    "images * gv.feature.borders * gv.feature.coastline"
   ]
  },
  {
   "cell_type": "markdown",
   "metadata": {},
   "source": [
    "Now the interactive plots of each variable:"
   ]
  },
  {
   "cell_type": "code",
   "execution_count": null,
   "metadata": {},
   "outputs": [],
   "source": [
    "# TODO: Bug y,x axis labels are missing, y2 is cut. \n",
    "# Reason for the bug is the geoviews (gv) and holoviews (hv) interaction. \n",
    "# The hv plot alone had no borders/shape lines. \n",
    "# We implemented gv to deal with it.\n",
    "\n",
    "variables = [\"wnd100m\", \"roughness\", \"influx_toa\", \"influx_direct\", \"influx_diffuse\", \"albedo\", \"temperature\", \"soil temperature\", \"runoff\"]\n",
    "color_maps = [\"blues\", \"greys\", \"oranges\", \"oranges\", \"oranges\", \"viridis\", \"reds\", \"purples\", \"greens\"]\n",
    "i = 0\n",
    "\n",
    "for variable in variables:\n",
    "    i = i+1\n",
    "    ds = hv.Dataset(weather_cell[variable].isel(time=range(6,30,12)))\n",
    "    images = ds.to(hv.Image, ['x', 'y']).options(fig_inches=(10, 5), colorbar=True, cmap=color_maps[i-1])\n",
    "    display(images * gv.feature.borders * gv.feature.coastline)\n",
    "    "
   ]
  },
  {
   "cell_type": "markdown",
   "metadata": {},
   "source": [
    "# Full year animation (runs quite some time < 30min)"
   ]
  },
  {
   "cell_type": "code",
   "execution_count": null,
   "metadata": {},
   "outputs": [],
   "source": [
    "\n",
    "variables = [\"wnd100m\", \"influx_direct\", \"temperature\"] \n",
    "color_maps = [\"blues\", \"oranges\", \"coolwarm\"]\n",
    "i = 0\n",
    "\n",
    "for variable in variables:\n",
    "    i = i+1\n",
    "    ds = hv.Dataset(weather_cell[variable].isel(time=range(24*100,24*130,1)))\n",
    "    images = ds.to(hv.Image, ['x', 'y']).options(fig_inches=(10, 5), colorbar=True, cmap=color_maps[i-1])\n",
    "    hv.save(images, f'{variable}_animation.mp4', fps=30)  # Changes the outputfile name automatically, fps=4 equals 1 day per second in our case   "
   ]
  },
  {
   "cell_type": "code",
   "execution_count": null,
   "metadata": {},
   "outputs": [],
   "source": []
  }
 ],
 "metadata": {
  "@webio": {
   "lastCommId": null,
   "lastKernelId": null
  },
  "kernelspec": {
   "display_name": "pypsa-africa",
   "language": "python",
   "name": "pypsa-africa"
  },
  "language_info": {
   "codemirror_mode": {
    "name": "ipython",
    "version": 3
   },
   "file_extension": ".py",
   "mimetype": "text/x-python",
   "name": "python",
   "nbconvert_exporter": "python",
   "pygments_lexer": "ipython3",
   "version": "3.9.7"
  }
 },
 "nbformat": 4,
 "nbformat_minor": 4
}
