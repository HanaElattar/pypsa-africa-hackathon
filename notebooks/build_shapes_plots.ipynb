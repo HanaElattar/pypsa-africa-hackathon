{
 "cells": [
  {
   "cell_type": "code",
   "execution_count": null,
   "metadata": {},
   "outputs": [],
   "source": [
    "import xarray as xr\r\n",
    "import geopandas as gpd\r\n",
    "import pandas as pd\r\n",
    "import matplotlib.pyplot as plt\r\n",
    "import numpy as np\r\n",
    "import requests\r\n",
    "import pypsa\r\n",
    "import shutil\r\n",
    "from rasterio.plot import show\r\n",
    "\r\n",
    "import os\r\n",
    "import sys\r\n",
    "sys.path.append('../')  # to import helpers\r\n",
    "from scripts._helpers import _sets_path_to_root\r\n",
    "_sets_path_to_root(\"pypsa-africa\")"
   ]
  },
  {
   "cell_type": "code",
   "execution_count": null,
   "metadata": {},
   "outputs": [],
   "source": [
    "continent = gpd.read_file('resources/country_shapes.geojson')\r\n",
    "off_shore = gpd.read_file('resources/offshore_shapes.geojson')\r\n",
    "off_shore_old = gpd.read_file('resources/offshore_shapes_old.geojson')\r\n",
    "gadm = gpd.read_file('resources/gadm_shapes.geojson')\r\n",
    "\r\n",
    "ax = continent.plot(figsize=(10,10))\r\n",
    "off_shore.plot(ax=ax)"
   ]
  },
  {
   "cell_type": "code",
   "execution_count": null,
   "metadata": {},
   "outputs": [],
   "source": [
    "off_shore_old"
   ]
  },
  {
   "cell_type": "code",
   "execution_count": null,
   "metadata": {},
   "outputs": [],
   "source": [
    "off_shore2 = off_shore[off_shore.name == \"GH\"]\r\n",
    "off_shore2.plot()"
   ]
  },
  {
   "cell_type": "code",
   "execution_count": null,
   "metadata": {},
   "outputs": [],
   "source": [
    "off_shore"
   ]
  },
  {
   "cell_type": "code",
   "execution_count": null,
   "metadata": {},
   "outputs": [],
   "source": [
    "ax2= gadm.plot(cmap='OrRd', figsize=(20, 20), legend=True) #column=\"pop\", \r\n",
    "off_shore.plot(ax=ax2, label=\"offshore\")\r\n",
    "# plt.savefig(\"gadm_pop.pdf\")"
   ]
  },
  {
   "cell_type": "code",
   "execution_count": null,
   "metadata": {},
   "outputs": [],
   "source": [
    "ax3= gadm.plot(column=\"pop\", cmap='OrRd', figsize=(20, 20), legend=True)\r\n",
    "off_shore.plot(ax=ax2, label=\"offshore\")\r\n",
    "# plt.savefig(\"gadm_gdp.pdf\")"
   ]
  },
  {
   "cell_type": "code",
   "execution_count": null,
   "metadata": {},
   "outputs": [],
   "source": [
    "gadm[gadm[\"country\"]==\"KE\"]"
   ]
  },
  {
   "cell_type": "code",
   "execution_count": null,
   "metadata": {},
   "outputs": [],
   "source": [
    "gadm[gadm.country==\"ET\"].sum()"
   ]
  },
  {
   "cell_type": "code",
   "execution_count": null,
   "metadata": {},
   "outputs": [],
   "source": [
    "g1 = off_shore.loc[0, \"geometry\"]\r\n",
    "g2 = off_shore.loc[1, \"geometry\"]\r\n",
    "g3 = g1.union(g2)\r\n",
    "g3"
   ]
  },
  {
   "cell_type": "code",
   "execution_count": null,
   "metadata": {},
   "outputs": [],
   "source": [
    "g1"
   ]
  },
  {
   "cell_type": "code",
   "execution_count": null,
   "metadata": {},
   "outputs": [],
   "source": [
    "g2"
   ]
  },
  {
   "cell_type": "code",
   "execution_count": null,
   "metadata": {},
   "outputs": [],
   "source": [
    "off_shore2 = off_shore.copy()\r\n",
    "off_shore2 = off_shore2[off_shore2.name ==\"KE\"]"
   ]
  },
  {
   "cell_type": "code",
   "execution_count": null,
   "metadata": {},
   "outputs": [],
   "source": [
    "off_shore2.plot()"
   ]
  },
  {
   "cell_type": "code",
   "execution_count": null,
   "metadata": {},
   "outputs": [],
   "source": [
    "off_shore2.loc[1, \"geometry\"]"
   ]
  },
  {
   "cell_type": "code",
   "execution_count": null,
   "metadata": {},
   "outputs": [],
   "source": [
    "(off_shore.name == \"MA\").sum()"
   ]
  },
  {
   "cell_type": "code",
   "execution_count": null,
   "metadata": {},
   "outputs": [],
   "source": [
    "ret_df = off_shore.copy()\r\n",
    "off_shore.plot()\r\n",
    "\r\n",
    "for c_code in [\"SD\", \"KE\"]:\r\n",
    "    selection = (ret_df.name == c_code)\r\n",
    "    n_offshore_shapes = selection.sum()\r\n",
    "\r\n",
    "    if n_offshore_shapes > 1:\r\n",
    "        # when multiple shapes per country, then merge polygons\r\n",
    "        \r\n",
    "        geom = ret_df[selection].geometry.unary_union\r\n",
    "        print(\"TO DROP: \", ret_df[selection].index)\r\n",
    "        ret_df.drop(ret_df[selection].index, inplace=True)\r\n",
    "        ret_df.iloc[-1] = [c_code, geom]\r\n",
    "ret_df.plot()\r\n",
    "        "
   ]
  },
  {
   "cell_type": "code",
   "execution_count": null,
   "metadata": {},
   "outputs": [],
   "source": [
    "ret_df"
   ]
  }
 ],
 "metadata": {
  "interpreter": {
   "hash": "64a9945f8f137ed15f7097a1dbedf9f1ce29494f0e33cb4fc5724026c999b930"
  },
  "kernelspec": {
   "display_name": "Python 3.9.6 64-bit ('toast': conda)",
   "name": "python3"
  },
  "language_info": {
   "codemirror_mode": {
    "name": "ipython",
    "version": 3
   },
   "file_extension": ".py",
   "mimetype": "text/x-python",
   "name": "python",
   "nbconvert_exporter": "python",
   "pygments_lexer": "ipython3",
   "version": "3.9.6"
  }
 },
 "nbformat": 4,
 "nbformat_minor": 2
}
