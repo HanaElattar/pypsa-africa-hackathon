{
 "cells": [
  {
   "cell_type": "markdown",
   "id": "d126fa70",
   "metadata": {},
   "source": [
    "This notebook is for snapping of substations to lines"
   ]
  },
  {
   "cell_type": "markdown",
   "id": "8b536192-7511-4437-97c8-6b2e8a1ece9a",
   "metadata": {},
   "source": [
    "# Explores osm_build_network\n",
    "\n",
    "### Jupyter notebook needs to be improved (content and structure?). \n",
    "\n",
    "It seems also geoplot need to be added to the environment. How to: \n",
    "- One need to deinstall the whole environment locally and install everything from scratch from the environment.yaml. Thereby the environment.yaml needs now `geoplot`.\n",
    "- Subsequently, one need to test if there are any conflicts using geoplot in the other scripts (geoplot might be in conflict with other packages)"
   ]
  },
  {
   "cell_type": "code",
   "execution_count": null,
   "id": "27f1cbd9",
   "metadata": {},
   "outputs": [],
   "source": [
    "import os\n",
    "import matplotlib.pyplot as plt \n",
    "import geopandas as gpd\n",
    "import geoplot\n",
    "import pandas as pd\n",
    "import numpy as np\n",
    "import pandas as pd\n",
    "import hvplot.pandas\n",
    "\n",
    "import sys\n",
    "sys.path.append('../')  # to import helpers\n",
    "from scripts._helpers import _sets_path_to_root\n",
    "_sets_path_to_root(\"pypsa-africa\")"
   ]
  },
  {
   "cell_type": "markdown",
   "id": "e966533f",
   "metadata": {},
   "source": [
    "# Africa shape data"
   ]
  },
  {
   "cell_type": "code",
   "execution_count": null,
   "id": "cbb849e4",
   "metadata": {},
   "outputs": [],
   "source": [
    "world = gpd.read_file(gpd.datasets.get_path('naturalearth_lowres'))\n",
    "africa = world.query('continent == \"Africa\"')\n",
    "nigeriaplot = world.query('name == \"Nigeria\"')\n",
    "#world"
   ]
  },
  {
   "cell_type": "markdown",
   "id": "af730b8f",
   "metadata": {},
   "source": [
    "# Power data"
   ]
  },
  {
   "cell_type": "code",
   "execution_count": null,
   "id": "0e4bb702",
   "metadata": {},
   "outputs": [],
   "source": [
    "# choose the option to get your plot\n",
    "#option = 'raw'\n",
    "#option = 'clean'\n",
    "option = 'line2network'\n",
    "\n",
    "\n",
    "if option=='raw':\n",
    "    pathg = os.path.realpath(\"data/raw\")+'/africa_all_raw_generators.geojson'\n",
    "    paths = os.path.realpath(\"data/raw\")+'/africa_all_raw_substations.geojson'\n",
    "    pathl = os.path.realpath(\"data/raw\")+'/africa_all_raw_lines.geojson'\n",
    "    \n",
    "    generators = gpd.read_file(pathg).set_crs(epsg=4326, inplace=True)\n",
    "    substations = gpd.read_file(paths).set_crs(epsg=4326, inplace=True)\n",
    "    lines = gpd.read_file(pathl).set_crs(epsg=4326, inplace=True)\n",
    "    \n",
    "if option=='clean':   \n",
    "    pathg = os.path.realpath(\"data/clean\")+'/africa_all_generators.geojson'\n",
    "    paths = os.path.realpath(\"data/clean\")+'/africa_all_substations.geojson'\n",
    "    pathl = os.path.realpath(\"data/clean\")+'/africa_all_lines.geojson'\n",
    "\n",
    "    generators = gpd.read_file(pathg).set_crs(epsg=4326, inplace=True)\n",
    "    substations = gpd.read_file(paths).set_crs(epsg=4326, inplace=True)\n",
    "    lines = gpd.read_file(pathl).set_crs(epsg=4326, inplace=True)\n",
    "    \n",
    "if option=='line2network': \n",
    "    paths = os.path.realpath(\"data/base_network\")+'/africa_all_buses_build_network.csv'\n",
    "    pathl = os.path.realpath(\"data/base_network\")+'/africa_all_lines_build_network.csv'\n",
    "\n",
    "    substations = gpd.read_file(paths, GEOM_POSSIBLE_NAMES=\"geometry\", KEEP_GEOM_COLUMNS=\"NO\")\n",
    "    substations[\"geometry\"] = gpd.points_from_xy(pd.to_numeric(substations.lon, downcast=\"float\"), pd.to_numeric(substations.lat, downcast=\"float\"))\n",
    "    substations = substations.set_crs(epsg=4326, inplace=True)\n",
    "    lines = gpd.read_file(pathl, GEOM_POSSIBLE_NAMES=\"geometry\", KEEP_GEOM_COLUMNS=\"NO\").set_crs(epsg=4326, inplace=True)"
   ]
  },
  {
   "cell_type": "markdown",
   "id": "2f8e3270-6f44-42c0-a0b4-82cc8e87fe93",
   "metadata": {},
   "source": [
    "# Static plot"
   ]
  },
  {
   "cell_type": "code",
   "execution_count": null,
   "id": "cbb43a53-12ed-4a7c-a25c-532d77616795",
   "metadata": {},
   "outputs": [],
   "source": [
    "ax = geoplot.polyplot(africa ,edgecolor='grey', alpha = 0.5, figsize=(80, 80))\n",
    "\n",
    "if option=='line2network':\n",
    "    lines.plot(figsize=(20, 20),markersize=10, color='green',alpha = 0.3, ax=ax)\n",
    "    substations.plot(figsize=(20, 20),markersize=3, color='blue',alpha = 0.3, ax=ax)\n",
    "\n",
    "else:\n",
    "    generators.plot(figsize=(20, 20),markersize=10, color='orange',alpha = 0.3, ax=ax)\n",
    "    lines.plot(figsize=(20, 20),markersize=10, color='green',alpha = 0.3, ax=ax)\n",
    "    substations.plot(figsize=(20, 20),markersize=3, color='blue',alpha = 0.3, ax=ax)\n",
    "\n",
    "# Example of how to constrain to one country:\n",
    "# lines.loc[lines['country'] == 'nigeria'].plot(figsize=(20, 20),markersize=25, color='red',alpha = 0.3, ax=ax)\n",
    "\n",
    "# #plt.savefig('africa_transmission_and substations_110.png')"
   ]
  },
  {
   "cell_type": "markdown",
   "id": "19798b9e-f490-4ac5-97aa-29371803da23",
   "metadata": {},
   "source": [
    "# Interactive plot"
   ]
  },
  {
   "cell_type": "code",
   "execution_count": null,
   "id": "ad23b230-a040-423a-b73a-f776caa4aa7b",
   "metadata": {},
   "outputs": [],
   "source": [
    "# Choose the country you want to focus\n",
    "country = \"NG\""
   ]
  },
  {
   "cell_type": "code",
   "execution_count": null,
   "id": "302a8f6b-6c05-4c04-9b21-cf1823440796",
   "metadata": {},
   "outputs": [],
   "source": [
    "if option=='line2network':\n",
    "    lines_ng = lines[lines[\"country\"] == country]\n",
    "    substations_ng = substations[substations[\"country\"] == country]\n",
    "\n",
    "else:\n",
    "    lines_ng = lines[lines[\"country\"] == country]\n",
    "    substations_ng = substations[substations[\"country\"] == country]\n",
    "    generators_ng = generators[generators[\"Country\"] == country]"
   ]
  },
  {
   "cell_type": "markdown",
   "id": "5ea4705a",
   "metadata": {},
   "source": [
    "# Map"
   ]
  },
  {
   "cell_type": "code",
   "execution_count": null,
   "id": "3dde5168",
   "metadata": {},
   "outputs": [],
   "source": [
    "# Somehow not working with \"if\"\n",
    "\n",
    "if option=='line2network':\n",
    "    substations_ng.hvplot(\n",
    "        geo=True,\n",
    "        size = 10,\n",
    "        frame_height=750,\n",
    "        alpha=0.4,\n",
    "        tiles='CartoLight',\n",
    "        hover_cols=['bus_id'],\n",
    "        color = 'orange'  \n",
    "    ) * lines_ng.hvplot(\n",
    "        geo=True,\n",
    "        alpha=0.4,\n",
    "        hover_cols=['line_id']\n",
    "    ).opts(\n",
    "        active_tools=['pan', 'wheel_zoom']\n",
    "    )\n",
    "\n",
    "else:\n",
    "    substations_ng.hvplot(\n",
    "    geo=True,\n",
    "    size = 10,\n",
    "    frame_height=750,\n",
    "    alpha=0.4,\n",
    "    tiles='CartoLight',\n",
    "    hover_cols=['bus_id'],\n",
    "    color = 'orange'  \n",
    ") * lines_ng.hvplot(\n",
    "    geo=True,\n",
    "    alpha=0.4,\n",
    "    hover_cols=['line_id']\n",
    ") * generators_ng.hvplot(\n",
    "    geo=True,\n",
    "    alpha=0.4,\n",
    "    color = 'green'\n",
    ").opts(\n",
    "    active_tools=['pan', 'wheel_zoom']\n",
    ")"
   ]
  },
  {
   "cell_type": "code",
   "execution_count": null,
   "id": "c996ddda-20f0-450e-810e-856d9539ffc7",
   "metadata": {},
   "outputs": [],
   "source": [
    "    substations_ng.hvplot(\n",
    "        geo=True,\n",
    "        size = 10,\n",
    "        frame_height=750,\n",
    "        alpha=0.4,\n",
    "        tiles='CartoLight',\n",
    "        hover_cols=['bus_id'],\n",
    "        color = 'orange'  \n",
    "    ) * lines_ng.hvplot(\n",
    "        geo=True,\n",
    "        alpha=0.4,\n",
    "        hover_cols=['line_id']\n",
    "    ).opts(\n",
    "        active_tools=['pan', 'wheel_zoom']\n",
    "    )"
   ]
  },
  {
   "cell_type": "code",
   "execution_count": null,
   "id": "b4934a72-e984-410f-bf42-176fbe0a2d16",
   "metadata": {},
   "outputs": [],
   "source": []
  }
 ],
 "metadata": {
  "interpreter": {
   "hash": "d9c13fc6442bf1b8f9598850facaf8fef6fb0663206d3863adab308b8c559389"
  },
  "kernelspec": {
   "display_name": "pypsa-africa",
   "language": "python",
   "name": "pypsa-africa"
  },
  "language_info": {
   "codemirror_mode": {
    "name": "ipython",
    "version": 3
   },
   "file_extension": ".py",
   "mimetype": "text/x-python",
   "name": "python",
   "nbconvert_exporter": "python",
   "pygments_lexer": "ipython3",
   "version": "3.9.7"
  }
 },
 "nbformat": 4,
 "nbformat_minor": 5
}
