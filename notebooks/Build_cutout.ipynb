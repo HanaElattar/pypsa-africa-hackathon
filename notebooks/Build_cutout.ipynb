{
 "cells": [
  {
   "cell_type": "markdown",
   "metadata": {},
   "source": [
    "# Exploring `build_cutouts` outputs\n",
    "\n",
    "The code below initialise the to be used packages. Further, `_sets_path_to_root` makes sure that we set the path to your pypsa-africa folder which we need for reading files. Please, also make sure you set up the `toast` environment which is shared as `environment-max.yml` in the envs folder."
   ]
  },
  {
   "cell_type": "code",
   "execution_count": null,
   "metadata": {},
   "outputs": [],
   "source": [
    "import atlite\n",
    "import cartopy.crs as ccrs\n",
    "import xarray as xr\n",
    "import geopandas as gpd\n",
    "import geoviews as gv\n",
    "import holoviews as hv\n",
    "import pandas as pd\n",
    "import matplotlib.pyplot as plt\n",
    "import numpy as np\n",
    "import requests\n",
    "import pypsa\n",
    "import shutil\n",
    "from rasterio.plot import show\n",
    "from atlite.gis import shape_availability, ExclusionContainer\n",
    "\n",
    "import os\n",
    "import sys\n",
    "sys.path.append('../')  # to import helpers\n",
    "from scripts._helpers import _sets_path_to_root\n",
    "_sets_path_to_root(\"pypsa-africa\")\n",
    "\n",
    "\n",
    "plt.rcParams['figure.figsize'] = [7, 7]\n",
    "%matplotlib inline"
   ]
  },
  {
   "cell_type": "markdown",
   "metadata": {},
   "source": [
    "## Let's open the cutouts = weather/environment cells\n",
    "Cutouts in Atlite are rasterized weather and environment cells. They are produced in the `build_cutouts.py` and lead to the output `africa-2013-era5.nc` which is stored in the `pypsa-africa/cutouts` folder. We read first the path and open then the .nc file with xarray. As you can see from the ploted content below there is quite a lot data available. All data variabes are grided (x,y) and most of them even over time. Let's have a look."
   ]
  },
  {
   "cell_type": "code",
   "execution_count": null,
   "metadata": {},
   "outputs": [],
   "source": [
    "weather_cell_path = os.path.realpath(\"cutouts\")+\"/africa-2013-era5.nc\"\n",
    "weather_cell = xr.open_dataset(weather_cell_path)"
   ]
  },
  {
   "cell_type": "code",
   "execution_count": null,
   "metadata": {},
   "outputs": [],
   "source": [
    "weather_cell"
   ]
  },
  {
   "cell_type": "markdown",
   "metadata": {},
   "source": [
    "## Assessing the height profile\n",
    "\n",
    "Assessing the smooth map below, you might recognise that the maximum value is 3438m. But actually the highest mountain in Africa is the Mount Kilimanjaro with an elevation of 5,895m. So what's going wrong? Nothing. As you might remember from the Atlite examples, each cutout cell is about 20 x 20km depending where you are in the world. All values in the cells are averaged therefore the 3438m instead of showing the highest mountain. \n",
    "\n",
    "FYI, if the underlying grided dataset is high enough, i.e. in 1x1m resolution, and we would replace in the 20x20km cutout the mean() for a max() the map below would probably show the Kilimanjaro peak."
   ]
  },
  {
   "cell_type": "code",
   "execution_count": null,
   "metadata": {},
   "outputs": [],
   "source": [
    "print(\"Maximial elevation in the dataset = \", weather_cell[\"height\"].max())"
   ]
  },
  {
   "cell_type": "code",
   "execution_count": null,
   "metadata": {},
   "outputs": [],
   "source": [
    "weather_cell[\"height\"].plot()"
   ]
  },
  {
   "cell_type": "markdown",
   "metadata": {},
   "source": [
    "## Create animation for (x,y,time) data\n",
    "This works surprisingly easy with the hvplot and holomap.\n",
    "\n",
    "- First, we create an interactive plot. We pick for that purpose the first 24 hours of the year and assess the `influx_diffuse` from the xarray variables. You can change by hand the timestamp.\n",
    "\n",
    "- Second, we let the interactive plot convert in an animation with a cetain frames per second (fps) ratio. An fps ratio of 1 is equal to one picture in one second. 10 fps are 10 pictures in one second and therefore much faster. \n",
    "\n",
    "FYI, did you know that videos are nothing else then a lot of pictures? If the fps is too low we consider that as flickering. For most human eyes a smooth video is between 30 - 60 fps. https://www.healthline.com/health/human-eye-fps#how-vision-works"
   ]
  },
  {
   "cell_type": "code",
   "execution_count": null,
   "metadata": {},
   "outputs": [],
   "source": [
    "hv.extension('matplotlib')\n",
    "ds = hv.Dataset(weather_cell[\"influx_diffuse\"].isel(time = range(6,10))) #range 3 can be replaced by time=2\n",
    "images = ds.to(\n",
    "                hv.Image, ['x', 'y']\n",
    "              ).options(fig_inches=(10, 5), colorbar=True, cmap='oranges', projection=ccrs.PlateCarree())\n",
    "\n",
    "# hv.help(hv.Image) #  To see full documentation"
   ]
  },
  {
   "cell_type": "code",
   "execution_count": null,
   "metadata": {},
   "outputs": [],
   "source": [
    "images"
   ]
  },
  {
   "cell_type": "code",
   "execution_count": null,
   "metadata": {},
   "outputs": [],
   "source": [
    "images * gv.feature.borders * gv.feature.coastline"
   ]
  },
  {
   "cell_type": "code",
   "execution_count": null,
   "metadata": {},
   "outputs": [],
   "source": [
    "%%output holomap='mp4', fps=10\n",
    "images * gv.feature.borders * gv.feature.coastline"
   ]
  },
  {
   "cell_type": "markdown",
   "metadata": {},
   "source": [
    "Now the interactive plots of each variable:"
   ]
  },
  {
   "cell_type": "code",
   "execution_count": null,
   "metadata": {},
   "outputs": [],
   "source": [
    "# TODO: Bug y,x axis labels are missing, y2 is cut. \n",
    "# Reason for the bug is the geoviews (gv) and holoviews (hv) interaction. \n",
    "# The hv plot alone had no borders/shape lines. \n",
    "# We implemented gv to deal with it.\n",
    "\n",
    "variables = [\"wnd100m\", \"roughness\", \"influx_toa\", \"influx_direct\", \"influx_diffuse\", \"albedo\", \"temperature\", \"soil temperature\", \"runoff\"]\n",
    "color_maps = [\"blues\", \"greys\", \"oranges\", \"oranges\", \"oranges\", \"viridis\", \"reds\", \"purples\", \"greens\"]\n",
    "i = 0\n",
    "\n",
    "for variable in variables:\n",
    "    i = i+1\n",
    "    ds = hv.Dataset(weather_cell[variable].isel(time=range(6,30,12)))\n",
    "    images = ds.to(hv.Image, ['x', 'y']).options(fig_inches=(10, 5), colorbar=True, cmap=color_maps[i-1])\n",
    "    display(images * gv.feature.borders * gv.feature.coastline)\n",
    "    "
   ]
  },
  {
   "cell_type": "markdown",
   "metadata": {},
   "source": [
    "# Full year animation (runs quite some time < 30min)"
   ]
  },
  {
   "cell_type": "code",
   "execution_count": null,
   "metadata": {},
   "outputs": [],
   "source": [
    "\n",
    "variables = [\"wnd100m\", \"influx_direct\", \"temperature\"] \n",
    "color_maps = [\"blues\", \"oranges\", \"coolwarm\"]\n",
    "i = 0\n",
    "\n",
    "for variable in variables:\n",
    "    i = i+1\n",
    "    ds = hv.Dataset(weather_cell[variable].isel(time=range(24*100,24*130,1)))\n",
    "    images = ds.to(hv.Image, ['x', 'y']).options(fig_inches=(10, 5), colorbar=True, cmap=color_maps[i-1])\n",
    "    hv.save(images, f'{variable}_animation.mp4', fps=30)  # Changes the outputfile name automatically, fps=4 equals 1 day per second in our case   "
   ]
  },
  {
   "cell_type": "code",
   "execution_count": null,
   "metadata": {},
   "outputs": [],
   "source": []
  }
 ],
 "metadata": {
  "@webio": {
   "lastCommId": null,
   "lastKernelId": null
  },
  "kernelspec": {
   "display_name": "toast",
   "language": "python",
   "name": "toast"
  },
  "language_info": {
   "codemirror_mode": {
    "name": "ipython",
    "version": 3
   },
   "file_extension": ".py",
   "mimetype": "text/x-python",
   "name": "python",
   "nbconvert_exporter": "python",
   "pygments_lexer": "ipython3",
   "version": "3.9.6"
  }
 },
 "nbformat": 4,
 "nbformat_minor": 4
}
