{
 "cells": [
  {
   "cell_type": "code",
   "execution_count": null,
   "metadata": {},
   "outputs": [],
   "source": [
    "import os, sys, time\n",
    "\n",
    "import requests\n",
    "import shutil\n",
    "\n",
    "# https://gitlab.com/dlr-ve-esy/esy-osmfilter/-/tree/master/\n",
    "from esy.osmfilter import  osm_colors          as CC\n",
    "from esy.osmfilter import run_filter, Node,Way,Relation \n",
    "from esy.osmfilter import export_geojson\n",
    "from contextlib import contextmanager\n",
    "\n",
    "import pandas as pd\n",
    "import numpy as np\n",
    "import geopandas as gpd\n",
    "from shapely.geometry import Point\n",
    "# import logging\n",
    "# logging.basicConfig()\n",
    "# logger=logging.getLogger(__name__)\n",
    "# logger.setLevel(logging.INFO)\n",
    "# logger.setLevel(logging.WARNING)\n"
   ]
  },
  {
   "cell_type": "code",
   "execution_count": null,
   "metadata": {
    "tags": []
   },
   "outputs": [],
   "source": [
    "country_name = 'africa' # TODO: Create dictionary with country_code : country_name pairs\n",
    "country_code = 'AFRICA'\n",
    "# country_name = 'cape-verde'\n",
    "geofabrik_filename=f'{country_name}-latest.osm.pbf' # Filename for geofabrik \n",
    "geofabrik_url = f'https://download.geofabrik.de/africa/{geofabrik_filename}' # https://download.geofabrik.de/africa/nigeria-latest.osm.pbf\n",
    "\n",
    "local_file= os.path.join(\"data\",\"osm\",geofabrik_filename)\n",
    "if not os.path.exists(local_file):\n",
    "    print(f\"{geofabrik_filename} does not exist, downloading to {local_file}\")\n",
    "    os.makedirs(os.path.dirname(local_file), exist_ok=True) # create data/osm directory\n",
    "    with requests.get(geofabrik_url, stream=True) as r:\n",
    "        with open(local_file, 'wb') as f:\n",
    "            shutil.copyfileobj(r.raw, f)\n",
    "\n",
    "# Input filepath\n",
    "PBF_inputfile = os.path.join(os.getcwd(),local_file)\n",
    "\n",
    "# json file for the Data dictionary \n",
    "# json file for the Elements dictionary is automatically written to 'data/osm/Elements'+filename)\n",
    "JSON_outputfile = os.path.join(os.getcwd(),'data','osm',country_name+'_substations.json')\n",
    "\n"
   ]
  },
  {
   "cell_type": "code",
   "execution_count": null,
   "metadata": {},
   "outputs": [],
   "source": [
    "print(PBF_inputfile, JSON_outputfile)"
   ]
  },
  {
   "cell_type": "code",
   "execution_count": null,
   "metadata": {},
   "outputs": [],
   "source": [
    "#see https://dlr-ve-esy.gitlab.io/esy-osmfilter/filter.html for filter structures\n",
    "\n",
    "prefilter = {Node: {\"power\":[\"substation\"]}, Way: {\"power\":[\"substation\"]}, Relation: {\"power\":[\"substation\"]}}\n",
    "blackfilter = [(\"pipeline\",\"substation\"),]\n",
    "whitefilter =[[(\"power\",\"substation\"),],]\n",
    "    \n",
    "elementname=f'{country_code}_substations'\n",
    "\n",
    "[Data,Elements]=run_filter(elementname,PBF_inputfile, JSON_outputfile,prefilter,whitefilter,blackfilter, NewPreFilterData=False, CreateElements=False, LoadElements=True,verbose=False,multiprocess=True)\n",
    "\n",
    "\n",
    "# export the elements to a geojson-file\n",
    "# export_geojson(Elements[elementname]['Way'],Data,filename='test.geojson',jsontype='Line')\n",
    "# convert extract node elements\n",
    "# export_geojson(Elements[elementname]['Node'],Data,filename='test.geojson',jsontype='Point')\n",
    "\n",
    "\n"
   ]
  },
  {
   "cell_type": "code",
   "execution_count": null,
   "metadata": {},
   "outputs": [],
   "source": [
    "import pickle\n",
    "Elements = pickle.load(os.path.join(os.getcwd(),os.path.dirname(JSON_outputfile), 'Elements', 'AFRICA_substations.pickle'))\n",
    "\n",
    "# Elements = osm_pickle.pickleload(Elements,os.path.join(os.getcwd(),os.path.dirname(JSON_outputfile), 'Elements/'))    "
   ]
  },
  {
   "cell_type": "code",
   "execution_count": null,
   "metadata": {},
   "outputs": [],
   "source": [
    "df = pd.json_normalize(Elements[elementname][\"Way\"].values())\n",
    "df = df.dropna(subset=['tags.voltage'])\n",
    "df = df.dropna(axis=1, how='all')\n",
    "\n",
    "display(df)\n",
    "\n"
   ]
  },
  {
   "cell_type": "code",
   "execution_count": null,
   "metadata": {},
   "outputs": [],
   "source": [
    "df1 = pd.json_normalize(Elements[elementname][\"Node\"].values())\n",
    "df1 = df1.dropna(axis=1, how='all')\n",
    "\n",
    "display(df1)\n"
   ]
  },
  {
   "cell_type": "code",
   "execution_count": null,
   "metadata": {},
   "outputs": [],
   "source": [
    "lonlat_column =[]\n",
    "for ref in df[\"refs\"]:\n",
    "    lonlats =[]\n",
    "    for r in ref:\n",
    "        lonlat = Data[\"Node\"][str(r)][\"lonlat\"]\n",
    "        lonlats.append(lonlat)\n",
    "    lonlats = np.array(lonlats)\n",
    "    lonlat = np.mean(lonlats, axis=0)\n",
    "    lonlat_column.append(lonlat)\n",
    "# display(lonlat_column)\n",
    "df[\"lonlat\"] = lonlat_column\n",
    "\n",
    "display(df)\n",
    "    \n",
    "# polygon_column=[]\n",
    "# for poly_list in lonlat_column:\n",
    "#     for p in poly_list:\n",
    "#         print(p)\n",
    "\n",
    "#     print(\"p\")\n",
    "    "
   ]
  },
  {
   "cell_type": "code",
   "execution_count": null,
   "metadata": {},
   "outputs": [],
   "source": [
    "gdf = gpd.GeoDataFrame(f, geometry=[Point(x, y) for x, y in df.lonlat])"
   ]
  },
  {
   "cell_type": "code",
   "execution_count": null,
   "metadata": {},
   "outputs": [],
   "source": [
    "display(gdf)"
   ]
  },
  {
   "cell_type": "code",
   "execution_count": null,
   "metadata": {},
   "outputs": [],
   "source": [
    "gdf = gdf.drop(columns=['lonlat'])\n",
    "gdf = gdf.drop(columns=['refs'])\n",
    "gdf.to_file(f\"./{countr_cod}.geojson\", driver=\"GeoJSON\")  "
   ]
  },
  {
   "cell_type": "code",
   "execution_count": null,
   "metadata": {},
   "outputs": [],
   "source": [
    "world = gpd.read_file(gpd.datasets.get_path('naturalearth_lowres'))\n",
    "#world\n",
    "saudi = world.query('name == \"Saudi Arabia\"')\n",
    "yemen = world.query('name == \"Yemen\"')\n",
    "iraq = world.query('name == \"Iraq\"')\n",
    "oman = world.query('name == \"Oman\"')\n",
    "uae = world.query('name == \"United Arab Emirates\"')\n",
    "jordan = world.query('name == \"Jordan\"')\n",
    "palestine = world.query('name == \"Palestine\"')\n",
    "israel = world.query('name == \"Israel\"')\n",
    "qatar = world.query('name == \"Qatar\"')\n",
    "kuwait = world.query('name == \"Kuwait\"')\n",
    "\n",
    "mena = saudi.append(yemen).append(iraq).append(oman).append(uae).append(jordan).append(palestine).append(israel).append(qatar).append(kuwait)\n",
    "\n",
    "africa = world.query('continent == \"Africa\"').append(mena)\n",
    "#africa.head()"
   ]
  },
  {
   "cell_type": "code",
   "execution_count": null,
   "metadata": {},
   "outputs": [],
   "source": [
    "import geoplot\n",
    "nigeria = gpd.read_file('./my.geojson')\n",
    "# url = 'https://development-data-hub-s3-public.s3.amazonaws.com/ddhfiles/144823/africagrid20170906final.geojson'\n",
    "# africa_network = gpd.read_file(url)\n",
    "ax = nigeria.plot(figsize=(20, 20),alpha = 0.7)\n",
    "geoplot.pointplot(nigeria, edgecolor='gray', ax=ax)\n",
    "geoplot.polyplot(africa, edgecolor='gray', ax=ax)"
   ]
  },
  {
   "cell_type": "code",
   "execution_count": null,
   "metadata": {},
   "outputs": [],
   "source": []
  }
 ],
 "metadata": {
  "kernelspec": {
   "display_name": "Python 3.7.10 64-bit ('pypsa': conda)",
   "name": "python3710jvsc74a57bd09a6789bfb301b77bab315636af11818455845432a243e82ed991667bc6cd3910"
  },
  "language_info": {
   "codemirror_mode": {
    "name": "ipython",
    "version": 3
   },
   "file_extension": ".py",
   "mimetype": "text/x-python",
   "name": "python",
   "nbconvert_exporter": "python",
   "pygments_lexer": "ipython3",
   "version": "3.7.10-final"
  }
 },
 "nbformat": 4,
 "nbformat_minor": 2
}
