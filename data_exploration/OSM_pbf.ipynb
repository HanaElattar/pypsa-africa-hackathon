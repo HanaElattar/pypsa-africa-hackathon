{
 "cells": [
  {
   "cell_type": "code",
   "execution_count": null,
   "metadata": {},
   "outputs": [],
   "source": [
    "import os, sys, time\n",
    "\n",
    "import requests\n",
    "import shutil\n",
    "\n",
    "# https://gitlab.com/dlr-ve-esy/esy-osmfilter/-/tree/master/\n",
    "from esy.osmfilter import  osm_colors          as CC\n",
    "from esy.osmfilter import run_filter, Node,Way,Relation \n",
    "from esy.osmfilter import export_geojson\n",
    "from contextlib import contextmanager\n",
    "\n",
    "# import logging\n",
    "# logging.basicConfig()\n",
    "# logger=logging.getLogger(__name__)\n",
    "# logger.setLevel(logging.INFO)\n",
    "# logger.setLevel(logging.WARNING)\n"
   ]
  },
  {
   "cell_type": "code",
   "execution_count": null,
   "metadata": {
    "tags": []
   },
   "outputs": [],
   "source": [
    "country_name = 'nigeria' # TODO: Create dictionary with country_code : country_name pairs\n",
    "# country_name = 'cape-verde'\n",
    "geofabrik_filename=f'{country_name}-latest.osm.pbf' # Filename for geofabrik \n",
    "geofabrik_url = f'https://download.geofabrik.de/africa/{geofabrik_filename}' # https://download.geofabrik.de/africa/nigeria-latest.osm.pbf\n",
    "\n",
    "local_file= os.path.join(\"data\",\"osm\",geofabrik_filename)\n",
    "if not os.path.exists(local_file):\n",
    "    print(f\"{geofabrik_filename} does not exist, downloading to {local_file}\")\n",
    "    os.makedirs(os.path.dirname(local_file), exist_ok=True) # create data/osm directory\n",
    "    with requests.get(geofabrik_url, stream=True) as r:\n",
    "        with open(local_file, 'wb') as f:\n",
    "            shutil.copyfileobj(r.raw, f)\n",
    "\n",
    "# Input filepath\n",
    "PBF_inputfile = os.path.join(os.getcwd(),local_file)\n",
    "\n",
    "# json file for the Data dictionary \n",
    "# json file for the Elements dictionary is automatically written to 'data/osm/Elements'+filename)\n",
    "JSON_outputfile = os.path.join(os.getcwd(),'data','osm',country_name+'_substations.json')\n",
    "\n",
    "\n",
    "\n",
    "\n",
    "\n",
    "\n"
   ]
  },
  {
   "cell_type": "code",
   "execution_count": null,
   "metadata": {},
   "outputs": [],
   "source": [
    "print(PBF_inputfile, JSON_outputfile)"
   ]
  },
  {
   "cell_type": "code",
   "execution_count": null,
   "metadata": {},
   "outputs": [],
   "source": [
    "#see https://dlr-ve-esy.gitlab.io/esy-osmfilter/filter.html for filter structures\n",
    "\n",
    "prefilter = {Node: {\"power\":[\"substation\"]}, Way: {\"power\":[\"substation\"]}, Relation: {\"power\":[\"substation\"]}}\n",
    "blackfilter = [(\"pipeline\",\"substation\"),]\n",
    "whitefilter =[[(\"power\",\"substation\"),],]\n",
    "    \n",
    "elementname='NG_substations'\n",
    "\n",
    "[Data,Elements]=run_filter(elementname,PBF_inputfile, JSON_outputfile,prefilter,whitefilter,blackfilter, NewPreFilterData=True, CreateElements=True, LoadElements=True,verbose=False,multiprocess=True)\n",
    "\n",
    "\n"
   ]
  },
  {
   "cell_type": "code",
   "execution_count": null,
   "metadata": {},
   "outputs": [],
   "source": [
    "print(Elements)\n",
    "\n",
    "# export the elements to a geojson-file\n",
    "# export_geojson(Elements[elementname]['Way'],Data,filename='test.geojson',jsontype='Line')\n",
    "# convert extract node elements\n",
    "# export_geojson(Elements[elementname]['Node'],Data,filename='test.geojson',jsontype='Point')"
   ]
  },
  {
   "cell_type": "code",
   "execution_count": null,
   "metadata": {},
   "outputs": [],
   "source": []
  }
 ],
 "metadata": {
  "kernelspec": {
   "display_name": "Python 3.7.10 64-bit ('pypsa': conda)",
   "name": "python3710jvsc74a57bd09a6789bfb301b77bab315636af11818455845432a243e82ed991667bc6cd3910"
  },
  "language_info": {
   "codemirror_mode": {
    "name": "ipython",
    "version": 3
   },
   "file_extension": ".py",
   "mimetype": "text/x-python",
   "name": "python",
   "nbconvert_exporter": "python",
   "pygments_lexer": "ipython3",
   "version": "3.7.10-final"
  }
 },
 "nbformat": 4,
 "nbformat_minor": 2
}
