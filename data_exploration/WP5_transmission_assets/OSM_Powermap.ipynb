{
 "cells": [
  {
   "cell_type": "code",
   "execution_count": 1,
   "id": "described-treasure",
   "metadata": {},
   "outputs": [],
   "source": [
    "#Requires to have geopandas installed\n",
    "#Installation https://geopandas.org/getting_started/install.html\n",
    "\n",
    "import matplotlib.pyplot as plt \n",
    "import geopandas as gpd\n",
    "import geoplot\n",
    "import pandas as pd\n",
    "import fiona #;help(fiona.open)\n",
    "import requests\n",
    "from pandas import json_normalize\n",
    "import requests # convert json into dataframe\n",
    "#For OSM \n",
    "import pyrosm\n",
    "import numpy as np\n",
    "from pyrosm import OSM, get_data"
   ]
  },
  {
   "cell_type": "markdown",
   "id": "rolled-sandwich",
   "metadata": {},
   "source": [
    "# Africa shape data"
   ]
  },
  {
   "cell_type": "code",
   "execution_count": 2,
   "id": "swiss-selling",
   "metadata": {},
   "outputs": [],
   "source": [
    "world = gpd.read_file(gpd.datasets.get_path('naturalearth_lowres'))\n",
    "#world"
   ]
  },
  {
   "cell_type": "code",
   "execution_count": 3,
   "id": "appointed-party",
   "metadata": {},
   "outputs": [],
   "source": [
    "saudi = world.query('name == \"Saudi Arabia\"')\n",
    "yemen = world.query('name == \"Yemen\"')\n",
    "iraq = world.query('name == \"Iraq\"')\n",
    "oman = world.query('name == \"Oman\"')\n",
    "uae = world.query('name == \"United Arab Emirates\"')\n",
    "jordan = world.query('name == \"Jordan\"')\n",
    "palestine = world.query('name == \"Palestine\"')\n",
    "israel = world.query('name == \"Israel\"')\n",
    "qatar = world.query('name == \"Qatar\"')\n",
    "kuwait = world.query('name == \"Kuwait\"')\n",
    "\n",
    "mena = saudi.append(yemen).append(iraq).append(oman).append(uae).append(jordan).append(palestine).append(israel).append(qatar).append(kuwait)"
   ]
  },
  {
   "cell_type": "code",
   "execution_count": 4,
   "id": "short-portland",
   "metadata": {},
   "outputs": [],
   "source": [
    "africa = world.query('continent == \"Africa\"').append(mena)\n",
    "#africa.head()"
   ]
  },
  {
   "cell_type": "code",
   "execution_count": 5,
   "id": "several-addiction",
   "metadata": {},
   "outputs": [],
   "source": [
    "#africa.plot()"
   ]
  },
  {
   "cell_type": "code",
   "execution_count": null,
   "metadata": {},
   "outputs": [],
   "source": [
    "nigeriaplot = world.query('name == \"Nigeria\"')"
   ]
  },
  {
   "cell_type": "markdown",
   "id": "answering-killer",
   "metadata": {},
   "source": [
    "# Power data"
   ]
  },
  {
   "cell_type": "code",
   "execution_count": 6,
   "id": "hindu-adult",
   "metadata": {},
   "outputs": [],
   "source": [
    "import os\n",
    "import sys"
   ]
  },
  {
   "cell_type": "code",
   "execution_count": 25,
   "id": "expected-screen",
   "metadata": {},
   "outputs": [],
   "source": [
    "pathg = os.path.realpath(\"data\")+'/africa_all_generators.geojson'\n",
    "paths = os.path.realpath(\"data\")+'/africa_all_substations.geojson'\n",
    "pathl = os.path.realpath(\"data\")+'/africa_all_lines.geojson'\n",
    "\n",
    "generators = gpd.read_file(pathg)\n",
    "points = gpd.read_file(paths)\n",
    "lines = gpd.read_file(pathl)"
   ]
  },
  {
   "cell_type": "code",
   "execution_count": 27,
   "metadata": {},
   "outputs": [
    {
     "output_type": "execute_result",
     "data": {
      "text/plain": [
       "               id  tags.power tags.substation Type   tags.voltage  \\\n",
       "0     414657349.0  substation            None  Way          66000   \n",
       "1     384980469.0  substation    distribution  Way          66000   \n",
       "2     695874654.0  substation      industrial  Way          66000   \n",
       "3     226673305.0  substation    transmission  Way         400000   \n",
       "4     694000747.0  substation    transmission  Way  400000;220000   \n",
       "...           ...         ...             ...  ...            ...   \n",
       "2930  675773526.0  substation    transmission  Way  330000;132000   \n",
       "2931  651771592.0  substation    transmission  Way         132000   \n",
       "2932  665698747.0  substation    transmission  Way         132000   \n",
       "2933  388158569.0  substation    transmission  Way         132000   \n",
       "2934  678605405.0  substation    transmission  Way         132000   \n",
       "\n",
       "             tags.name tags.location   Country                    geometry  \n",
       "0                 None          None   algeria    POINT (7.10330 35.84595)  \n",
       "1                 None          None   algeria    POINT (6.50579 36.25577)  \n",
       "2                 None          None   algeria    POINT (8.58913 31.78098)  \n",
       "3                 None       outdoor   algeria    POINT (3.59359 36.71603)  \n",
       "4                 None          None   algeria    POINT (6.30576 35.49243)  \n",
       "...                ...           ...       ...                         ...  \n",
       "2930  Tokwe Substation       outdoor  zimbabwe  POINT (30.44495 -20.07736)  \n",
       "2931              None       outdoor  zimbabwe  POINT (31.60690 -18.15105)  \n",
       "2932              None       outdoor  zimbabwe  POINT (29.88270 -18.62046)  \n",
       "2933              None       outdoor  zimbabwe  POINT (32.71071 -18.29523)  \n",
       "2934              None       outdoor  zimbabwe  POINT (30.16002 -16.90015)  \n",
       "\n",
       "[2935 rows x 9 columns]"
      ],
      "text/html": "<div>\n<style scoped>\n    .dataframe tbody tr th:only-of-type {\n        vertical-align: middle;\n    }\n\n    .dataframe tbody tr th {\n        vertical-align: top;\n    }\n\n    .dataframe thead th {\n        text-align: right;\n    }\n</style>\n<table border=\"1\" class=\"dataframe\">\n  <thead>\n    <tr style=\"text-align: right;\">\n      <th></th>\n      <th>id</th>\n      <th>tags.power</th>\n      <th>tags.substation</th>\n      <th>Type</th>\n      <th>tags.voltage</th>\n      <th>tags.name</th>\n      <th>tags.location</th>\n      <th>Country</th>\n      <th>geometry</th>\n    </tr>\n  </thead>\n  <tbody>\n    <tr>\n      <th>0</th>\n      <td>414657349.0</td>\n      <td>substation</td>\n      <td>None</td>\n      <td>Way</td>\n      <td>66000</td>\n      <td>None</td>\n      <td>None</td>\n      <td>algeria</td>\n      <td>POINT (7.10330 35.84595)</td>\n    </tr>\n    <tr>\n      <th>1</th>\n      <td>384980469.0</td>\n      <td>substation</td>\n      <td>distribution</td>\n      <td>Way</td>\n      <td>66000</td>\n      <td>None</td>\n      <td>None</td>\n      <td>algeria</td>\n      <td>POINT (6.50579 36.25577)</td>\n    </tr>\n    <tr>\n      <th>2</th>\n      <td>695874654.0</td>\n      <td>substation</td>\n      <td>industrial</td>\n      <td>Way</td>\n      <td>66000</td>\n      <td>None</td>\n      <td>None</td>\n      <td>algeria</td>\n      <td>POINT (8.58913 31.78098)</td>\n    </tr>\n    <tr>\n      <th>3</th>\n      <td>226673305.0</td>\n      <td>substation</td>\n      <td>transmission</td>\n      <td>Way</td>\n      <td>400000</td>\n      <td>None</td>\n      <td>outdoor</td>\n      <td>algeria</td>\n      <td>POINT (3.59359 36.71603)</td>\n    </tr>\n    <tr>\n      <th>4</th>\n      <td>694000747.0</td>\n      <td>substation</td>\n      <td>transmission</td>\n      <td>Way</td>\n      <td>400000;220000</td>\n      <td>None</td>\n      <td>None</td>\n      <td>algeria</td>\n      <td>POINT (6.30576 35.49243)</td>\n    </tr>\n    <tr>\n      <th>...</th>\n      <td>...</td>\n      <td>...</td>\n      <td>...</td>\n      <td>...</td>\n      <td>...</td>\n      <td>...</td>\n      <td>...</td>\n      <td>...</td>\n      <td>...</td>\n    </tr>\n    <tr>\n      <th>2930</th>\n      <td>675773526.0</td>\n      <td>substation</td>\n      <td>transmission</td>\n      <td>Way</td>\n      <td>330000;132000</td>\n      <td>Tokwe Substation</td>\n      <td>outdoor</td>\n      <td>zimbabwe</td>\n      <td>POINT (30.44495 -20.07736)</td>\n    </tr>\n    <tr>\n      <th>2931</th>\n      <td>651771592.0</td>\n      <td>substation</td>\n      <td>transmission</td>\n      <td>Way</td>\n      <td>132000</td>\n      <td>None</td>\n      <td>outdoor</td>\n      <td>zimbabwe</td>\n      <td>POINT (31.60690 -18.15105)</td>\n    </tr>\n    <tr>\n      <th>2932</th>\n      <td>665698747.0</td>\n      <td>substation</td>\n      <td>transmission</td>\n      <td>Way</td>\n      <td>132000</td>\n      <td>None</td>\n      <td>outdoor</td>\n      <td>zimbabwe</td>\n      <td>POINT (29.88270 -18.62046)</td>\n    </tr>\n    <tr>\n      <th>2933</th>\n      <td>388158569.0</td>\n      <td>substation</td>\n      <td>transmission</td>\n      <td>Way</td>\n      <td>132000</td>\n      <td>None</td>\n      <td>outdoor</td>\n      <td>zimbabwe</td>\n      <td>POINT (32.71071 -18.29523)</td>\n    </tr>\n    <tr>\n      <th>2934</th>\n      <td>678605405.0</td>\n      <td>substation</td>\n      <td>transmission</td>\n      <td>Way</td>\n      <td>132000</td>\n      <td>None</td>\n      <td>outdoor</td>\n      <td>zimbabwe</td>\n      <td>POINT (30.16002 -16.90015)</td>\n    </tr>\n  </tbody>\n</table>\n<p>2935 rows × 9 columns</p>\n</div>"
     },
     "metadata": {},
     "execution_count": 27
    }
   ],
   "source": [
    "points"
   ]
  },
  {
   "cell_type": "code",
   "execution_count": 28,
   "metadata": {},
   "outputs": [],
   "source": [
    "offset = 0.001\n",
    "bbox = points.bounds + [-offset, -offset, offset, offset]\n",
    "hits = bbox.apply(lambda row: list(lines.sindex.intersection(row)), axis=1)"
   ]
  },
  {
   "cell_type": "code",
   "execution_count": 29,
   "metadata": {},
   "outputs": [
    {
     "output_type": "execute_result",
     "data": {
      "text/plain": [
       "           minx       miny       maxx       maxy\n",
       "0      7.102302  35.844952   7.104302  35.846952\n",
       "1      6.504790  36.254772   6.506790  36.256772\n",
       "2      8.588131  31.779975   8.590131  31.781975\n",
       "3      3.592586  36.715026   3.594586  36.717026\n",
       "4      6.304758  35.491435   6.306758  35.493435\n",
       "...         ...        ...        ...        ...\n",
       "2930  30.443950 -20.078360  30.445950 -20.076360\n",
       "2931  31.605897 -18.152054  31.607897 -18.150054\n",
       "2932  29.881698 -18.621463  29.883698 -18.619463\n",
       "2933  32.709714 -18.296230  32.711714 -18.294230\n",
       "2934  30.159021 -16.901151  30.161021 -16.899151\n",
       "\n",
       "[2935 rows x 4 columns]"
      ],
      "text/html": "<div>\n<style scoped>\n    .dataframe tbody tr th:only-of-type {\n        vertical-align: middle;\n    }\n\n    .dataframe tbody tr th {\n        vertical-align: top;\n    }\n\n    .dataframe thead th {\n        text-align: right;\n    }\n</style>\n<table border=\"1\" class=\"dataframe\">\n  <thead>\n    <tr style=\"text-align: right;\">\n      <th></th>\n      <th>minx</th>\n      <th>miny</th>\n      <th>maxx</th>\n      <th>maxy</th>\n    </tr>\n  </thead>\n  <tbody>\n    <tr>\n      <th>0</th>\n      <td>7.102302</td>\n      <td>35.844952</td>\n      <td>7.104302</td>\n      <td>35.846952</td>\n    </tr>\n    <tr>\n      <th>1</th>\n      <td>6.504790</td>\n      <td>36.254772</td>\n      <td>6.506790</td>\n      <td>36.256772</td>\n    </tr>\n    <tr>\n      <th>2</th>\n      <td>8.588131</td>\n      <td>31.779975</td>\n      <td>8.590131</td>\n      <td>31.781975</td>\n    </tr>\n    <tr>\n      <th>3</th>\n      <td>3.592586</td>\n      <td>36.715026</td>\n      <td>3.594586</td>\n      <td>36.717026</td>\n    </tr>\n    <tr>\n      <th>4</th>\n      <td>6.304758</td>\n      <td>35.491435</td>\n      <td>6.306758</td>\n      <td>35.493435</td>\n    </tr>\n    <tr>\n      <th>...</th>\n      <td>...</td>\n      <td>...</td>\n      <td>...</td>\n      <td>...</td>\n    </tr>\n    <tr>\n      <th>2930</th>\n      <td>30.443950</td>\n      <td>-20.078360</td>\n      <td>30.445950</td>\n      <td>-20.076360</td>\n    </tr>\n    <tr>\n      <th>2931</th>\n      <td>31.605897</td>\n      <td>-18.152054</td>\n      <td>31.607897</td>\n      <td>-18.150054</td>\n    </tr>\n    <tr>\n      <th>2932</th>\n      <td>29.881698</td>\n      <td>-18.621463</td>\n      <td>29.883698</td>\n      <td>-18.619463</td>\n    </tr>\n    <tr>\n      <th>2933</th>\n      <td>32.709714</td>\n      <td>-18.296230</td>\n      <td>32.711714</td>\n      <td>-18.294230</td>\n    </tr>\n    <tr>\n      <th>2934</th>\n      <td>30.159021</td>\n      <td>-16.901151</td>\n      <td>30.161021</td>\n      <td>-16.899151</td>\n    </tr>\n  </tbody>\n</table>\n<p>2935 rows × 4 columns</p>\n</div>"
     },
     "metadata": {},
     "execution_count": 29
    }
   ],
   "source": [
    "bbox"
   ]
  },
  {
   "cell_type": "code",
   "execution_count": 30,
   "metadata": {},
   "outputs": [
    {
     "output_type": "execute_result",
     "data": {
      "text/plain": [
       "              id tags.power tags.cables tags.voltage tags.wires  \\\n",
       "0      217933340       line           3       220000       None   \n",
       "1      379084622       line        None         None       None   \n",
       "2      217930451       line           3       220000       None   \n",
       "3      226923216       line           3       220000       None   \n",
       "4      382497408       line           3        60000       None   \n",
       "...          ...        ...         ...          ...        ...   \n",
       "21349  490949513       line        None         None       None   \n",
       "21350  240033786       line           3       132000       None   \n",
       "21351  179121072       line           3       330000       None   \n",
       "21352  740677131       line           1       330000       None   \n",
       "21353  657356996       line           3       132000       None   \n",
       "\n",
       "      tags.frequency tags.circuits tags.operator tags.line tags.source Type  \\\n",
       "0               None          None          None      None        None  Way   \n",
       "1               None          None          None      None        None  Way   \n",
       "2               None          None          None      None        None  Way   \n",
       "3               None          None          None      None        None  Way   \n",
       "4               None          None          None      None        None  Way   \n",
       "...              ...           ...           ...       ...         ...  ...   \n",
       "21349           None          None          None      None        None  Way   \n",
       "21350             50          None          None      None        Bing  Way   \n",
       "21351           None          None          None      None        None  Way   \n",
       "21352           None          None          None      None        None  Way   \n",
       "21353             50          None          None      None        None  Way   \n",
       "\n",
       "        Country                                           geometry  \n",
       "0       algeria  LINESTRING (6.02132 31.76176, 6.01900 31.76418...  \n",
       "1       algeria  LINESTRING (3.98331 36.73061, 3.98355 36.72687...  \n",
       "2       algeria  LINESTRING (6.05928 31.78705, 6.05902 31.78666...  \n",
       "3       algeria  LINESTRING (-0.04353 28.42990, -0.04319 28.429...  \n",
       "4       algeria  LINESTRING (3.14027 36.59825, 3.13935 36.59969...  \n",
       "...         ...                                                ...  \n",
       "21349  zimbabwe  LINESTRING (31.74113 -16.93072, 31.74507 -16.9...  \n",
       "21350  zimbabwe  LINESTRING (30.94045 -17.78308, 30.93996 -17.7...  \n",
       "21351  zimbabwe  LINESTRING (28.75848 -16.51714, 28.75887 -16.5...  \n",
       "21352  zimbabwe  LINESTRING (28.50503 -20.23918, 28.50480 -20.2...  \n",
       "21353  zimbabwe  LINESTRING (30.00995 -17.40930, 30.01032 -17.4...  \n",
       "\n",
       "[21354 rows x 13 columns]"
      ],
      "text/html": "<div>\n<style scoped>\n    .dataframe tbody tr th:only-of-type {\n        vertical-align: middle;\n    }\n\n    .dataframe tbody tr th {\n        vertical-align: top;\n    }\n\n    .dataframe thead th {\n        text-align: right;\n    }\n</style>\n<table border=\"1\" class=\"dataframe\">\n  <thead>\n    <tr style=\"text-align: right;\">\n      <th></th>\n      <th>id</th>\n      <th>tags.power</th>\n      <th>tags.cables</th>\n      <th>tags.voltage</th>\n      <th>tags.wires</th>\n      <th>tags.frequency</th>\n      <th>tags.circuits</th>\n      <th>tags.operator</th>\n      <th>tags.line</th>\n      <th>tags.source</th>\n      <th>Type</th>\n      <th>Country</th>\n      <th>geometry</th>\n    </tr>\n  </thead>\n  <tbody>\n    <tr>\n      <th>0</th>\n      <td>217933340</td>\n      <td>line</td>\n      <td>3</td>\n      <td>220000</td>\n      <td>None</td>\n      <td>None</td>\n      <td>None</td>\n      <td>None</td>\n      <td>None</td>\n      <td>None</td>\n      <td>Way</td>\n      <td>algeria</td>\n      <td>LINESTRING (6.02132 31.76176, 6.01900 31.76418...</td>\n    </tr>\n    <tr>\n      <th>1</th>\n      <td>379084622</td>\n      <td>line</td>\n      <td>None</td>\n      <td>None</td>\n      <td>None</td>\n      <td>None</td>\n      <td>None</td>\n      <td>None</td>\n      <td>None</td>\n      <td>None</td>\n      <td>Way</td>\n      <td>algeria</td>\n      <td>LINESTRING (3.98331 36.73061, 3.98355 36.72687...</td>\n    </tr>\n    <tr>\n      <th>2</th>\n      <td>217930451</td>\n      <td>line</td>\n      <td>3</td>\n      <td>220000</td>\n      <td>None</td>\n      <td>None</td>\n      <td>None</td>\n      <td>None</td>\n      <td>None</td>\n      <td>None</td>\n      <td>Way</td>\n      <td>algeria</td>\n      <td>LINESTRING (6.05928 31.78705, 6.05902 31.78666...</td>\n    </tr>\n    <tr>\n      <th>3</th>\n      <td>226923216</td>\n      <td>line</td>\n      <td>3</td>\n      <td>220000</td>\n      <td>None</td>\n      <td>None</td>\n      <td>None</td>\n      <td>None</td>\n      <td>None</td>\n      <td>None</td>\n      <td>Way</td>\n      <td>algeria</td>\n      <td>LINESTRING (-0.04353 28.42990, -0.04319 28.429...</td>\n    </tr>\n    <tr>\n      <th>4</th>\n      <td>382497408</td>\n      <td>line</td>\n      <td>3</td>\n      <td>60000</td>\n      <td>None</td>\n      <td>None</td>\n      <td>None</td>\n      <td>None</td>\n      <td>None</td>\n      <td>None</td>\n      <td>Way</td>\n      <td>algeria</td>\n      <td>LINESTRING (3.14027 36.59825, 3.13935 36.59969...</td>\n    </tr>\n    <tr>\n      <th>...</th>\n      <td>...</td>\n      <td>...</td>\n      <td>...</td>\n      <td>...</td>\n      <td>...</td>\n      <td>...</td>\n      <td>...</td>\n      <td>...</td>\n      <td>...</td>\n      <td>...</td>\n      <td>...</td>\n      <td>...</td>\n      <td>...</td>\n    </tr>\n    <tr>\n      <th>21349</th>\n      <td>490949513</td>\n      <td>line</td>\n      <td>None</td>\n      <td>None</td>\n      <td>None</td>\n      <td>None</td>\n      <td>None</td>\n      <td>None</td>\n      <td>None</td>\n      <td>None</td>\n      <td>Way</td>\n      <td>zimbabwe</td>\n      <td>LINESTRING (31.74113 -16.93072, 31.74507 -16.9...</td>\n    </tr>\n    <tr>\n      <th>21350</th>\n      <td>240033786</td>\n      <td>line</td>\n      <td>3</td>\n      <td>132000</td>\n      <td>None</td>\n      <td>50</td>\n      <td>None</td>\n      <td>None</td>\n      <td>None</td>\n      <td>Bing</td>\n      <td>Way</td>\n      <td>zimbabwe</td>\n      <td>LINESTRING (30.94045 -17.78308, 30.93996 -17.7...</td>\n    </tr>\n    <tr>\n      <th>21351</th>\n      <td>179121072</td>\n      <td>line</td>\n      <td>3</td>\n      <td>330000</td>\n      <td>None</td>\n      <td>None</td>\n      <td>None</td>\n      <td>None</td>\n      <td>None</td>\n      <td>None</td>\n      <td>Way</td>\n      <td>zimbabwe</td>\n      <td>LINESTRING (28.75848 -16.51714, 28.75887 -16.5...</td>\n    </tr>\n    <tr>\n      <th>21352</th>\n      <td>740677131</td>\n      <td>line</td>\n      <td>1</td>\n      <td>330000</td>\n      <td>None</td>\n      <td>None</td>\n      <td>None</td>\n      <td>None</td>\n      <td>None</td>\n      <td>None</td>\n      <td>Way</td>\n      <td>zimbabwe</td>\n      <td>LINESTRING (28.50503 -20.23918, 28.50480 -20.2...</td>\n    </tr>\n    <tr>\n      <th>21353</th>\n      <td>657356996</td>\n      <td>line</td>\n      <td>3</td>\n      <td>132000</td>\n      <td>None</td>\n      <td>50</td>\n      <td>None</td>\n      <td>None</td>\n      <td>None</td>\n      <td>None</td>\n      <td>Way</td>\n      <td>zimbabwe</td>\n      <td>LINESTRING (30.00995 -17.40930, 30.01032 -17.4...</td>\n    </tr>\n  </tbody>\n</table>\n<p>21354 rows × 13 columns</p>\n</div>"
     },
     "metadata": {},
     "execution_count": 30
    }
   ],
   "source": [
    "lines"
   ]
  },
  {
   "cell_type": "code",
   "execution_count": 31,
   "metadata": {},
   "outputs": [
    {
     "output_type": "display_data",
     "data": {
      "text/plain": "0                                 [1548, 1199, 1560, 344]\n1                  [855, 1494, 1382, 259, 562, 1200, 403]\n2                                                   [260]\n3       [15, 1834, 751, 1653, 1826, 1089, 991, 1008, 1...\n4                             [1804, 743, 1362, 225, 508]\n                              ...                        \n2930                  [21318, 21121, 21153, 21196, 21259]\n2931                                [21278, 21348, 21070]\n2932           [21283, 21253, 21271, 21245, 21197, 21301]\n2933                                 [9578, 21232, 21293]\n2934                                              [21181]\nLength: 2935, dtype: object"
     },
     "metadata": {}
    }
   ],
   "source": [
    "display(hits)"
   ]
  },
  {
   "cell_type": "code",
   "execution_count": 39,
   "metadata": {},
   "outputs": [],
   "source": [
    "tmp = pd.DataFrame({\n",
    "    # index of points table\n",
    "    \"pt_idx\": np.repeat(hits.index, hits.apply(len)),\n",
    "    # ordinal position of line - access via iloc later\n",
    "    \"line_i\": np.concatenate(hits.values)\n",
    "})"
   ]
  },
  {
   "cell_type": "code",
   "execution_count": 40,
   "metadata": {},
   "outputs": [
    {
     "output_type": "execute_result",
     "data": {
      "text/plain": [
       "       pt_idx   line_i\n",
       "0           0   1548.0\n",
       "1           0   1199.0\n",
       "2           0   1560.0\n",
       "3           0    344.0\n",
       "4           1    855.0\n",
       "...       ...      ...\n",
       "17809    2932  21301.0\n",
       "17810    2933   9578.0\n",
       "17811    2933  21232.0\n",
       "17812    2933  21293.0\n",
       "17813    2934  21181.0\n",
       "\n",
       "[17814 rows x 2 columns]"
      ],
      "text/html": "<div>\n<style scoped>\n    .dataframe tbody tr th:only-of-type {\n        vertical-align: middle;\n    }\n\n    .dataframe tbody tr th {\n        vertical-align: top;\n    }\n\n    .dataframe thead th {\n        text-align: right;\n    }\n</style>\n<table border=\"1\" class=\"dataframe\">\n  <thead>\n    <tr style=\"text-align: right;\">\n      <th></th>\n      <th>pt_idx</th>\n      <th>line_i</th>\n    </tr>\n  </thead>\n  <tbody>\n    <tr>\n      <th>0</th>\n      <td>0</td>\n      <td>1548.0</td>\n    </tr>\n    <tr>\n      <th>1</th>\n      <td>0</td>\n      <td>1199.0</td>\n    </tr>\n    <tr>\n      <th>2</th>\n      <td>0</td>\n      <td>1560.0</td>\n    </tr>\n    <tr>\n      <th>3</th>\n      <td>0</td>\n      <td>344.0</td>\n    </tr>\n    <tr>\n      <th>4</th>\n      <td>1</td>\n      <td>855.0</td>\n    </tr>\n    <tr>\n      <th>...</th>\n      <td>...</td>\n      <td>...</td>\n    </tr>\n    <tr>\n      <th>17809</th>\n      <td>2932</td>\n      <td>21301.0</td>\n    </tr>\n    <tr>\n      <th>17810</th>\n      <td>2933</td>\n      <td>9578.0</td>\n    </tr>\n    <tr>\n      <th>17811</th>\n      <td>2933</td>\n      <td>21232.0</td>\n    </tr>\n    <tr>\n      <th>17812</th>\n      <td>2933</td>\n      <td>21293.0</td>\n    </tr>\n    <tr>\n      <th>17813</th>\n      <td>2934</td>\n      <td>21181.0</td>\n    </tr>\n  </tbody>\n</table>\n<p>17814 rows × 2 columns</p>\n</div>"
     },
     "metadata": {},
     "execution_count": 40
    }
   ],
   "source": [
    "tmp"
   ]
  },
  {
   "cell_type": "code",
   "execution_count": 41,
   "metadata": {},
   "outputs": [],
   "source": [
    "# Join back to the lines on line_i; we use reset_index() to \n",
    "# give us the ordinal position of each line\n",
    "tmp = tmp.join(lines.reset_index(drop=True), on=\"line_i\")\n",
    "# Join back to the original points to get their geometry\n",
    "# rename the point geometry as \"point\"\n",
    "tmp = tmp.join(points.geometry.rename(\"point\"), on=\"pt_idx\")\n",
    "# Convert back to a GeoDataFrame, so we can do spatial ops\n",
    "tmp = gpd.GeoDataFrame(tmp, geometry=\"geometry\", crs=points.crs)"
   ]
  },
  {
   "cell_type": "code",
   "execution_count": 43,
   "metadata": {},
   "outputs": [
    {
     "output_type": "stream",
     "name": "stderr",
     "text": [
      "ipykernel_launcher:1: UserWarning: Geometry is in a geographic CRS. Results from 'distance' are likely incorrect. Use 'GeoSeries.to_crs()' to re-project geometries to a projected CRS before this operation.\n\n"
     ]
    }
   ],
   "source": [
    "tmp[\"snap_dist\"] = tmp.geometry.distance(gpd.GeoSeries(tmp.point))"
   ]
  },
  {
   "cell_type": "code",
   "execution_count": 47,
   "metadata": {},
   "outputs": [],
   "source": [
    "tolerance = 0.1 # 10km\n",
    "# Discard any lines that are greater than tolerance from points\n",
    "tmp = tmp.loc[tmp.snap_dist <= tolerance]\n",
    "# Sort on ascending snap distance, so that closest goes to top\n",
    "tmp = tmp.sort_values(by=[\"snap_dist\"])\n",
    "\n"
   ]
  },
  {
   "cell_type": "code",
   "execution_count": 49,
   "metadata": {},
   "outputs": [],
   "source": [
    "# group by the index of the points and take the first, which is the\n",
    "# closest line \n",
    "closest = tmp.groupby(\"pt_idx\").first()\n",
    "# construct a GeoDataFrame of the closest lines\n",
    "closest = gpd.GeoDataFrame(closest, geometry=\"geometry\")"
   ]
  },
  {
   "cell_type": "code",
   "execution_count": 52,
   "metadata": {},
   "outputs": [],
   "source": [
    "# Position of nearest point from start of the line\n",
    "pos = closest.geometry.project(gpd.GeoSeries(closest.point))\n",
    "# Get new point location geometry\n",
    "new_pts = closest.geometry.interpolate(pos)"
   ]
  },
  {
   "cell_type": "code",
   "execution_count": 64,
   "metadata": {},
   "outputs": [],
   "source": [
    "#Identify the columns we want to copy from the closest line to the point, such as a line ID.\n",
    "line_columns = 'line_i'\n",
    "# Create a new GeoDataFrame from the columns from the closest line and new point geometries (which will be called \"geometries\")\n",
    "snapped = gpd.GeoDataFrame(\n",
    "closest[line_columns],geometry=new_pts)\n",
    "\n",
    "# Join back to the original points:\n",
    "updated_points = points.drop(columns=[\"geometry\"]).join(snapped)\n",
    "# You may want to drop any that didn't snap, if so:\n",
    "updated_points = updated_points.dropna(subset=[\"geometry\"])"
   ]
  },
  {
   "cell_type": "code",
   "execution_count": 66,
   "metadata": {},
   "outputs": [],
   "source": [
    "updated_points.to_file('./updates_points.geojson', driver=\"GeoJSON\")  # Generate GeoJson"
   ]
  },
  {
   "cell_type": "code",
   "execution_count": null,
   "metadata": {},
   "outputs": [],
   "source": []
  },
  {
   "cell_type": "code",
   "execution_count": null,
   "metadata": {},
   "outputs": [],
   "source": []
  },
  {
   "cell_type": "markdown",
   "id": "conventional-christopher",
   "metadata": {},
   "source": [
    "# Map"
   ]
  },
  {
   "cell_type": "code",
   "execution_count": 72,
   "id": "amber-centre",
   "metadata": {},
   "outputs": [],
   "source": [
    "ax = geoplot.polyplot(nigeriaplot ,edgecolor='grey', alpha = 0.5, figsize=(20, 20))\n",
    "\n",
    "points.loc[points['Country'] == 'nigeria'].plot(figsize=(20, 20),markersize=10, color='orange',alpha = 0.3, ax=ax)\n",
    "updated_points.loc[updated_points['Country'] == 'nigeria'].plot(figsize=(20, 20),markersize=10, color='green',alpha = 0.3, ax=ax)\n",
    "generators.loc[generators['Country'] == 'nigeria'].plot(figsize=(20, 20),markersize=25, color='blue',alpha = 0.3, ax=ax)\n",
    "lines.loc[lines['Country'] == 'nigeria'].plot(figsize=(20, 20),markersize=25, color='red',alpha = 0.3, ax=ax)\n",
    "\n",
    "\n",
    "#plt.savefig('africa_transmission_and substations_110.png')"
   ]
  },
  {
   "cell_type": "code",
   "execution_count": null,
   "id": "immediate-authorization",
   "metadata": {},
   "outputs": [],
   "source": []
  }
 ],
 "metadata": {
  "kernelspec": {
   "name": "python3710jvsc74a57bd09a6789bfb301b77bab315636af11818455845432a243e82ed991667bc6cd3910",
   "display_name": "Python 3.7.10 64-bit ('pypsa': conda)"
  },
  "language_info": {
   "codemirror_mode": {
    "name": "ipython",
    "version": 3
   },
   "file_extension": ".py",
   "mimetype": "text/x-python",
   "name": "python",
   "nbconvert_exporter": "python",
   "pygments_lexer": "ipython3",
   "version": "3.7.10"
  }
 },
 "nbformat": 4,
 "nbformat_minor": 5
}