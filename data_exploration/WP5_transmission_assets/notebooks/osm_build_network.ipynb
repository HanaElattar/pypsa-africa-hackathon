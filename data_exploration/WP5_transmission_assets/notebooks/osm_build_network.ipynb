{
 "cells": [
  {
   "cell_type": "markdown",
   "source": [
    "This notebook is for snapping of substations to lines"
   ],
   "metadata": {}
  },
  {
   "cell_type": "code",
   "execution_count": 1,
   "source": [
    "import os\n",
    "import matplotlib.pyplot as plt \n",
    "import geopandas as gpd\n",
    "#import geoplot\n",
    "import pandas as pd\n",
    "import numpy as np\n",
    "from shapely.geometry import LineString\n",
    "from shapely.geometry import Point"
   ],
   "outputs": [],
   "metadata": {}
  },
  {
   "cell_type": "markdown",
   "source": [
    "# Africa shape data"
   ],
   "metadata": {}
  },
  {
   "cell_type": "code",
   "execution_count": 2,
   "source": [
    "world = gpd.read_file(gpd.datasets.get_path('naturalearth_lowres'))\n",
    "africa = world.query('continent == \"Africa\"')\n",
    "nigeriaplot = world.query('name == \"Nigeria\"')\n",
    "#world"
   ],
   "outputs": [],
   "metadata": {}
  },
  {
   "cell_type": "markdown",
   "source": [
    "# Load data"
   ],
   "metadata": {}
  },
  {
   "cell_type": "code",
   "execution_count": 3,
   "source": [
    "# pathg = os.path.realpath(\"data\")+'/africa_all_generators.geojson' # Generators are not required in base_network\n",
    "paths = os.path.realpath(\"data/clean\")+'/africa_all_buses_clean.geojson'\n",
    "pathl = os.path.realpath(\"data/clean\")+'/africa_all_lines_clean.geojson'\n",
    "\n",
    "# generators = gpd.read_file(pathg).set_crs(epsg=4326, inplace=True)\n",
    "substations = gpd.read_file(paths).set_crs(epsg=4326, inplace=True)\n",
    "lines = gpd.read_file(pathl).set_crs(epsg=4326, inplace=True)"
   ],
   "outputs": [],
   "metadata": {}
  },
  {
   "cell_type": "code",
   "execution_count": 4,
   "source": [
    "# Filter only Nigeria\n",
    "lines_ng = lines[lines.loc[:,\"country\"] == \"nigeria\"].copy()\n",
    "substations_ng = substations[substations.loc[:,\"country\"] == \"nigeria\"].copy()"
   ],
   "outputs": [],
   "metadata": {}
  },
  {
   "cell_type": "code",
   "execution_count": 5,
   "source": [
    "# Assign to every line a start and end point\n",
    "\n",
    "lines_ng[\"bounds\"] = lines_ng[\"geometry\"].boundary # create start and end point\n",
    "# splits into coordinates\n",
    "lines_ng[\"bus0_lon\"] = lines_ng[\"bounds\"].bounds.iloc[:,0]\n",
    "lines_ng[\"bus0_lat\"] = lines_ng[\"bounds\"].bounds.iloc[:,1]\n",
    "lines_ng[\"bus1_lon\"] = lines_ng[\"bounds\"].bounds.iloc[:,2]\n",
    "lines_ng[\"bus1_lat\"] = lines_ng[\"bounds\"].bounds.iloc[:,3]\n",
    "\n",
    "lines_ng['bus_0_coors']=lines_ng[\"bounds\"].apply(lambda mp: mp[0])\n",
    "lines_ng['bus_1_coors']=lines_ng[\"bounds\"].apply(lambda mp: mp[1])"
   ],
   "outputs": [],
   "metadata": {}
  },
  {
   "cell_type": "code",
   "execution_count": 6,
   "source": [
    "#lines_ng[lines_ng[\"length\"] > 10000].sort_values(\"length\").describe()\n",
    "#substations_ng"
   ],
   "outputs": [],
   "metadata": {}
  },
  {
   "cell_type": "markdown",
   "source": [
    "# Case 1: Create bus dataframe from line.csv (not using existing substation dataframe)"
   ],
   "metadata": {}
  },
  {
   "cell_type": "markdown",
   "source": [
    "### Create bus_id for each line ending"
   ],
   "metadata": {}
  },
  {
   "cell_type": "code",
   "execution_count": 7,
   "source": [
    "bus_s = gpd.GeoDataFrame(columns = substations_ng.columns)\n",
    "bus_e = gpd.GeoDataFrame(columns = substations_ng.columns)"
   ],
   "outputs": [],
   "metadata": {}
  },
  {
   "cell_type": "code",
   "execution_count": 8,
   "source": [
    "# Read information from line.csv\n",
    "bus_s[[\"voltage\", \"lon\", \"lat\", \"geometry\", \"country\"]] = lines_ng[[\"voltage\", \"bus0_lon\", \"bus0_lat\", \"bus_0_coors\", \"country\"]] # line start points\n",
    "bus_e[[\"voltage\", \"lon\", \"lat\", \"geometry\", \"country\"]] = lines_ng[[\"voltage\", \"bus1_lon\", \"bus1_lat\", \"bus_1_coors\", \"country\"]] # line end points\n",
    "bus_all = bus_s.append(bus_e).reset_index(drop=True)"
   ],
   "outputs": [],
   "metadata": {}
  },
  {
   "cell_type": "code",
   "execution_count": 9,
   "source": [
    "# Assign index to bus_id \n",
    "bus_all.loc[:,\"bus_id\"] = bus_all.index\n",
    "bus_all"
   ],
   "outputs": [
    {
     "output_type": "execute_result",
     "data": {
      "text/plain": [
       "     bus_id station_id  voltage   dc symbol under_construction tag_substation  \\\n",
       "0         0        NaN   330000  NaN    NaN                NaN            NaN   \n",
       "1         1        NaN   330000  NaN    NaN                NaN            NaN   \n",
       "2         2        NaN   330000  NaN    NaN                NaN            NaN   \n",
       "3         3        NaN   132000  NaN    NaN                NaN            NaN   \n",
       "4         4        NaN   330000  NaN    NaN                NaN            NaN   \n",
       "..      ...        ...      ...  ...    ...                ...            ...   \n",
       "895     895        NaN   132000  NaN    NaN                NaN            NaN   \n",
       "896     896        NaN   330000  NaN    NaN                NaN            NaN   \n",
       "897     897        NaN   132000  NaN    NaN                NaN            NaN   \n",
       "898     898        NaN   132000  NaN    NaN                NaN            NaN   \n",
       "899     899        NaN   330000  NaN    NaN                NaN            NaN   \n",
       "\n",
       "    tag_area       lon       lat  country                 geometry  \n",
       "0        NaN  4.578499  7.801703  nigeria  POINT (4.57850 7.80170)  \n",
       "1        NaN  8.568362  7.626947  nigeria  POINT (8.56931 7.62724)  \n",
       "2        NaN  6.831211  9.972919  nigeria  POINT (6.83446 9.97342)  \n",
       "3        NaN  7.863588  8.805520  nigeria  POINT (7.86359 8.80552)  \n",
       "4        NaN  5.591301  6.409519  nigeria  POINT (5.59130 6.48736)  \n",
       "..       ...       ...       ...      ...                      ...  \n",
       "895      NaN  3.390599  7.112278  nigeria  POINT (3.39060 7.10501)  \n",
       "896      NaN  8.338921  5.071783  nigeria  POINT (8.33888 5.07178)  \n",
       "897      NaN  6.659265  6.209402  nigeria  POINT (6.65927 6.18680)  \n",
       "898      NaN  7.497822  5.803749  nigeria  POINT (7.49782 5.73658)  \n",
       "899      NaN  4.577039  7.801682  nigeria  POINT (4.57704 7.80168)  \n",
       "\n",
       "[900 rows x 12 columns]"
      ],
      "text/html": "<div>\n<style scoped>\n    .dataframe tbody tr th:only-of-type {\n        vertical-align: middle;\n    }\n\n    .dataframe tbody tr th {\n        vertical-align: top;\n    }\n\n    .dataframe thead th {\n        text-align: right;\n    }\n</style>\n<table border=\"1\" class=\"dataframe\">\n  <thead>\n    <tr style=\"text-align: right;\">\n      <th></th>\n      <th>bus_id</th>\n      <th>station_id</th>\n      <th>voltage</th>\n      <th>dc</th>\n      <th>symbol</th>\n      <th>under_construction</th>\n      <th>tag_substation</th>\n      <th>tag_area</th>\n      <th>lon</th>\n      <th>lat</th>\n      <th>country</th>\n      <th>geometry</th>\n    </tr>\n  </thead>\n  <tbody>\n    <tr>\n      <th>0</th>\n      <td>0</td>\n      <td>NaN</td>\n      <td>330000</td>\n      <td>NaN</td>\n      <td>NaN</td>\n      <td>NaN</td>\n      <td>NaN</td>\n      <td>NaN</td>\n      <td>4.578499</td>\n      <td>7.801703</td>\n      <td>nigeria</td>\n      <td>POINT (4.57850 7.80170)</td>\n    </tr>\n    <tr>\n      <th>1</th>\n      <td>1</td>\n      <td>NaN</td>\n      <td>330000</td>\n      <td>NaN</td>\n      <td>NaN</td>\n      <td>NaN</td>\n      <td>NaN</td>\n      <td>NaN</td>\n      <td>8.568362</td>\n      <td>7.626947</td>\n      <td>nigeria</td>\n      <td>POINT (8.56931 7.62724)</td>\n    </tr>\n    <tr>\n      <th>2</th>\n      <td>2</td>\n      <td>NaN</td>\n      <td>330000</td>\n      <td>NaN</td>\n      <td>NaN</td>\n      <td>NaN</td>\n      <td>NaN</td>\n      <td>NaN</td>\n      <td>6.831211</td>\n      <td>9.972919</td>\n      <td>nigeria</td>\n      <td>POINT (6.83446 9.97342)</td>\n    </tr>\n    <tr>\n      <th>3</th>\n      <td>3</td>\n      <td>NaN</td>\n      <td>132000</td>\n      <td>NaN</td>\n      <td>NaN</td>\n      <td>NaN</td>\n      <td>NaN</td>\n      <td>NaN</td>\n      <td>7.863588</td>\n      <td>8.805520</td>\n      <td>nigeria</td>\n      <td>POINT (7.86359 8.80552)</td>\n    </tr>\n    <tr>\n      <th>4</th>\n      <td>4</td>\n      <td>NaN</td>\n      <td>330000</td>\n      <td>NaN</td>\n      <td>NaN</td>\n      <td>NaN</td>\n      <td>NaN</td>\n      <td>NaN</td>\n      <td>5.591301</td>\n      <td>6.409519</td>\n      <td>nigeria</td>\n      <td>POINT (5.59130 6.48736)</td>\n    </tr>\n    <tr>\n      <th>...</th>\n      <td>...</td>\n      <td>...</td>\n      <td>...</td>\n      <td>...</td>\n      <td>...</td>\n      <td>...</td>\n      <td>...</td>\n      <td>...</td>\n      <td>...</td>\n      <td>...</td>\n      <td>...</td>\n      <td>...</td>\n    </tr>\n    <tr>\n      <th>895</th>\n      <td>895</td>\n      <td>NaN</td>\n      <td>132000</td>\n      <td>NaN</td>\n      <td>NaN</td>\n      <td>NaN</td>\n      <td>NaN</td>\n      <td>NaN</td>\n      <td>3.390599</td>\n      <td>7.112278</td>\n      <td>nigeria</td>\n      <td>POINT (3.39060 7.10501)</td>\n    </tr>\n    <tr>\n      <th>896</th>\n      <td>896</td>\n      <td>NaN</td>\n      <td>330000</td>\n      <td>NaN</td>\n      <td>NaN</td>\n      <td>NaN</td>\n      <td>NaN</td>\n      <td>NaN</td>\n      <td>8.338921</td>\n      <td>5.071783</td>\n      <td>nigeria</td>\n      <td>POINT (8.33888 5.07178)</td>\n    </tr>\n    <tr>\n      <th>897</th>\n      <td>897</td>\n      <td>NaN</td>\n      <td>132000</td>\n      <td>NaN</td>\n      <td>NaN</td>\n      <td>NaN</td>\n      <td>NaN</td>\n      <td>NaN</td>\n      <td>6.659265</td>\n      <td>6.209402</td>\n      <td>nigeria</td>\n      <td>POINT (6.65927 6.18680)</td>\n    </tr>\n    <tr>\n      <th>898</th>\n      <td>898</td>\n      <td>NaN</td>\n      <td>132000</td>\n      <td>NaN</td>\n      <td>NaN</td>\n      <td>NaN</td>\n      <td>NaN</td>\n      <td>NaN</td>\n      <td>7.497822</td>\n      <td>5.803749</td>\n      <td>nigeria</td>\n      <td>POINT (7.49782 5.73658)</td>\n    </tr>\n    <tr>\n      <th>899</th>\n      <td>899</td>\n      <td>NaN</td>\n      <td>330000</td>\n      <td>NaN</td>\n      <td>NaN</td>\n      <td>NaN</td>\n      <td>NaN</td>\n      <td>NaN</td>\n      <td>4.577039</td>\n      <td>7.801682</td>\n      <td>nigeria</td>\n      <td>POINT (4.57704 7.80168)</td>\n    </tr>\n  </tbody>\n</table>\n<p>900 rows × 12 columns</p>\n</div>"
     },
     "metadata": {},
     "execution_count": 9
    }
   ],
   "metadata": {}
  },
  {
   "cell_type": "markdown",
   "source": [
    "### V1. Create station_id at same bus location\n",
    "\n",
    "- We saw that buses are not connected exactly at one point, they are usually connected to a substation \"area\" (analysed on maps)\n",
    "- Create station_id at exactly the same location might therefore be not always correct\n",
    "- Though as you can see below, it might be still sometime the case. Examples are **station 4** (2 lines with the same voltage connect at the same point) and **station 23** (4 lines with two different voltages connect at the same point)\n",
    "\n",
    "#TODO: Filter out the generator lines - defined as going from generator to the next station which is connected to a load. Excluding generator lines make proably sense because they are not transmission expansion relevant. For now we simplify and include generator lines.\n"
   ],
   "metadata": {}
  },
  {
   "cell_type": "code",
   "execution_count": 10,
   "source": [
    "# If same location/geometry make station\n",
    "bus_all_v1 = bus_all\n",
    "bus_all_v1[\"station_id\"] = bus_all_v1.groupby([\"lon\",\"lat\"]).ngroup()\n",
    "\n",
    "## INFO, case nigeria\n",
    "# bus_id 0:899\n",
    "# station_id 0:791\n",
    "# Means, only a few bus_id's at same location\n",
    "bus_all_v1"
   ],
   "outputs": [
    {
     "output_type": "execute_result",
     "data": {
      "text/plain": [
       "     bus_id  station_id  voltage   dc symbol under_construction  \\\n",
       "0         0         141   330000  NaN    NaN                NaN   \n",
       "1         1         694   330000  NaN    NaN                NaN   \n",
       "2         2         428   330000  NaN    NaN                NaN   \n",
       "3         3         639   132000  NaN    NaN                NaN   \n",
       "4         4         234   330000  NaN    NaN                NaN   \n",
       "..      ...         ...      ...  ...    ...                ...   \n",
       "895     895          50   132000  NaN    NaN                NaN   \n",
       "896     896         661   330000  NaN    NaN                NaN   \n",
       "897     897         370   132000  NaN    NaN                NaN   \n",
       "898     898         551   132000  NaN    NaN                NaN   \n",
       "899     899         134   330000  NaN    NaN                NaN   \n",
       "\n",
       "    tag_substation tag_area       lon       lat  country  \\\n",
       "0              NaN      NaN  4.578499  7.801703  nigeria   \n",
       "1              NaN      NaN  8.568362  7.626947  nigeria   \n",
       "2              NaN      NaN  6.831211  9.972919  nigeria   \n",
       "3              NaN      NaN  7.863588  8.805520  nigeria   \n",
       "4              NaN      NaN  5.591301  6.409519  nigeria   \n",
       "..             ...      ...       ...       ...      ...   \n",
       "895            NaN      NaN  3.390599  7.112278  nigeria   \n",
       "896            NaN      NaN  8.338921  5.071783  nigeria   \n",
       "897            NaN      NaN  6.659265  6.209402  nigeria   \n",
       "898            NaN      NaN  7.497822  5.803749  nigeria   \n",
       "899            NaN      NaN  4.577039  7.801682  nigeria   \n",
       "\n",
       "                    geometry  \n",
       "0    POINT (4.57850 7.80170)  \n",
       "1    POINT (8.56931 7.62724)  \n",
       "2    POINT (6.83446 9.97342)  \n",
       "3    POINT (7.86359 8.80552)  \n",
       "4    POINT (5.59130 6.48736)  \n",
       "..                       ...  \n",
       "895  POINT (3.39060 7.10501)  \n",
       "896  POINT (8.33888 5.07178)  \n",
       "897  POINT (6.65927 6.18680)  \n",
       "898  POINT (7.49782 5.73658)  \n",
       "899  POINT (4.57704 7.80168)  \n",
       "\n",
       "[900 rows x 12 columns]"
      ],
      "text/html": "<div>\n<style scoped>\n    .dataframe tbody tr th:only-of-type {\n        vertical-align: middle;\n    }\n\n    .dataframe tbody tr th {\n        vertical-align: top;\n    }\n\n    .dataframe thead th {\n        text-align: right;\n    }\n</style>\n<table border=\"1\" class=\"dataframe\">\n  <thead>\n    <tr style=\"text-align: right;\">\n      <th></th>\n      <th>bus_id</th>\n      <th>station_id</th>\n      <th>voltage</th>\n      <th>dc</th>\n      <th>symbol</th>\n      <th>under_construction</th>\n      <th>tag_substation</th>\n      <th>tag_area</th>\n      <th>lon</th>\n      <th>lat</th>\n      <th>country</th>\n      <th>geometry</th>\n    </tr>\n  </thead>\n  <tbody>\n    <tr>\n      <th>0</th>\n      <td>0</td>\n      <td>141</td>\n      <td>330000</td>\n      <td>NaN</td>\n      <td>NaN</td>\n      <td>NaN</td>\n      <td>NaN</td>\n      <td>NaN</td>\n      <td>4.578499</td>\n      <td>7.801703</td>\n      <td>nigeria</td>\n      <td>POINT (4.57850 7.80170)</td>\n    </tr>\n    <tr>\n      <th>1</th>\n      <td>1</td>\n      <td>694</td>\n      <td>330000</td>\n      <td>NaN</td>\n      <td>NaN</td>\n      <td>NaN</td>\n      <td>NaN</td>\n      <td>NaN</td>\n      <td>8.568362</td>\n      <td>7.626947</td>\n      <td>nigeria</td>\n      <td>POINT (8.56931 7.62724)</td>\n    </tr>\n    <tr>\n      <th>2</th>\n      <td>2</td>\n      <td>428</td>\n      <td>330000</td>\n      <td>NaN</td>\n      <td>NaN</td>\n      <td>NaN</td>\n      <td>NaN</td>\n      <td>NaN</td>\n      <td>6.831211</td>\n      <td>9.972919</td>\n      <td>nigeria</td>\n      <td>POINT (6.83446 9.97342)</td>\n    </tr>\n    <tr>\n      <th>3</th>\n      <td>3</td>\n      <td>639</td>\n      <td>132000</td>\n      <td>NaN</td>\n      <td>NaN</td>\n      <td>NaN</td>\n      <td>NaN</td>\n      <td>NaN</td>\n      <td>7.863588</td>\n      <td>8.805520</td>\n      <td>nigeria</td>\n      <td>POINT (7.86359 8.80552)</td>\n    </tr>\n    <tr>\n      <th>4</th>\n      <td>4</td>\n      <td>234</td>\n      <td>330000</td>\n      <td>NaN</td>\n      <td>NaN</td>\n      <td>NaN</td>\n      <td>NaN</td>\n      <td>NaN</td>\n      <td>5.591301</td>\n      <td>6.409519</td>\n      <td>nigeria</td>\n      <td>POINT (5.59130 6.48736)</td>\n    </tr>\n    <tr>\n      <th>...</th>\n      <td>...</td>\n      <td>...</td>\n      <td>...</td>\n      <td>...</td>\n      <td>...</td>\n      <td>...</td>\n      <td>...</td>\n      <td>...</td>\n      <td>...</td>\n      <td>...</td>\n      <td>...</td>\n      <td>...</td>\n    </tr>\n    <tr>\n      <th>895</th>\n      <td>895</td>\n      <td>50</td>\n      <td>132000</td>\n      <td>NaN</td>\n      <td>NaN</td>\n      <td>NaN</td>\n      <td>NaN</td>\n      <td>NaN</td>\n      <td>3.390599</td>\n      <td>7.112278</td>\n      <td>nigeria</td>\n      <td>POINT (3.39060 7.10501)</td>\n    </tr>\n    <tr>\n      <th>896</th>\n      <td>896</td>\n      <td>661</td>\n      <td>330000</td>\n      <td>NaN</td>\n      <td>NaN</td>\n      <td>NaN</td>\n      <td>NaN</td>\n      <td>NaN</td>\n      <td>8.338921</td>\n      <td>5.071783</td>\n      <td>nigeria</td>\n      <td>POINT (8.33888 5.07178)</td>\n    </tr>\n    <tr>\n      <th>897</th>\n      <td>897</td>\n      <td>370</td>\n      <td>132000</td>\n      <td>NaN</td>\n      <td>NaN</td>\n      <td>NaN</td>\n      <td>NaN</td>\n      <td>NaN</td>\n      <td>6.659265</td>\n      <td>6.209402</td>\n      <td>nigeria</td>\n      <td>POINT (6.65927 6.18680)</td>\n    </tr>\n    <tr>\n      <th>898</th>\n      <td>898</td>\n      <td>551</td>\n      <td>132000</td>\n      <td>NaN</td>\n      <td>NaN</td>\n      <td>NaN</td>\n      <td>NaN</td>\n      <td>NaN</td>\n      <td>7.497822</td>\n      <td>5.803749</td>\n      <td>nigeria</td>\n      <td>POINT (7.49782 5.73658)</td>\n    </tr>\n    <tr>\n      <th>899</th>\n      <td>899</td>\n      <td>134</td>\n      <td>330000</td>\n      <td>NaN</td>\n      <td>NaN</td>\n      <td>NaN</td>\n      <td>NaN</td>\n      <td>NaN</td>\n      <td>4.577039</td>\n      <td>7.801682</td>\n      <td>nigeria</td>\n      <td>POINT (4.57704 7.80168)</td>\n    </tr>\n  </tbody>\n</table>\n<p>900 rows × 12 columns</p>\n</div>"
     },
     "metadata": {},
     "execution_count": 10
    }
   ],
   "metadata": {}
  },
  {
   "cell_type": "code",
   "execution_count": 11,
   "source": [
    "# Add station_id to line dataframe\n",
    "n_row = int(bus_all.shape[0]/2)  # row length\n",
    "lines_ng_v1 = lines_ng.reset_index(drop=True)\n",
    "lines_ng_v1['bus0'] = bus_all.loc[0:(n_row-1), [\"bus_id\"]]\n",
    "lines_ng_v1['bus1'] = bus_all.loc[(n_row):, [\"bus_id\"]].reset_index(drop=True)"
   ],
   "outputs": [],
   "metadata": {}
  },
  {
   "cell_type": "code",
   "execution_count": 12,
   "source": [
    "# display(lines_ng_v1)\n",
    "# display(bus_all_v1)"
   ],
   "outputs": [],
   "metadata": {}
  },
  {
   "cell_type": "code",
   "execution_count": 13,
   "metadata": {},
   "outputs": [],
   "source": [
    "# Removing the NaN \n",
    "bus_all_v1[\"dc\"] = \"False\"\n",
    "bus_all_v1[\"symbol\"] = \"False\"\n",
    "bus_all_v1[\"under_construction\"] = \"False\"\n",
    "bus_all_v1[\"tag_substation\"] = \"False\"\n",
    "bus_all_v1[\"tag_area\"] = \"False\"\n"
   ]
  },
  {
   "cell_type": "code",
   "execution_count": 14,
   "metadata": {},
   "outputs": [],
   "source": [
    "\n",
    "## Generate Files for base_network (CSV) \n",
    "\n",
    "### lines\n",
    "outputfile_partial = os.path.join(os.getcwd(), \"data\", \"base_network\", \"africa_all\" + \"_lines\" + \"_build_network\") # Output file directory\n",
    "\n",
    "if not os.path.exists(outputfile_partial):\n",
    "    os.makedirs(os.path.dirname(outputfile_partial), exist_ok=True) #  create clean directoryif not already exist\n",
    "\n",
    "lines_ng_v1.to_csv(outputfile_partial + \".csv\")  # Generate CSV\n",
    "\n",
    "\n",
    "#### buses\n",
    "outputfile_partial = os.path.join(os.getcwd(), \"data\", \"base_network\", \"africa_all\" + \"_buses\" + \"_build_network\") # Output file directory\n",
    "\n",
    "if not os.path.exists(outputfile_partial):\n",
    "    os.makedirs(os.path.dirname(outputfile_partial), exist_ok=True) #  create clean directoryif not already exist\n",
    "    \n",
    "bus_all_v1.to_csv(outputfile_partial + \".csv\")  # Generate CSV"
   ]
  },
  {
   "cell_type": "markdown",
   "source": [
    "# Inference (Quick and Dirty) - No Guarantee"
   ],
   "metadata": {}
  },
  {
   "cell_type": "code",
   "execution_count": 15,
   "source": [
    "cdf = bus_all_v1.to_crs(\"EPSG:3857\")"
   ],
   "outputs": [],
   "metadata": {}
  },
  {
   "cell_type": "code",
   "execution_count": 16,
   "source": [
    "from itertools import combinations\n",
    "series = cdf.geometry\n",
    "max_distance = 100\n",
    "\n",
    "points_within = []\n",
    "for i1,i2 in combinations(range(0,series.shape[0]-1),2):  #Iterate over all pairs/combinations of indices\n",
    "    if 0<series[i1].distance(series[i2])<=max_distance:\n",
    "        points_within.append([i1,i2])"
   ],
   "outputs": [],
   "metadata": {}
  },
  {
   "cell_type": "code",
   "execution_count": 17,
   "source": [
    "# points_within\n",
    "for points in points_within:\n",
    "    fi = points[0]\n",
    "    si = points[1]\n",
    "    bus_all_v1.at[si, 'station_id'] = bus_all_v1.iloc[fi]['station_id']\n",
    "\n",
    "\n",
    "    "
   ],
   "outputs": [],
   "metadata": {}
  },
  {
   "cell_type": "code",
   "execution_count": 18,
   "source": [
    "bus_all_v1"
   ],
   "outputs": [
    {
     "output_type": "execute_result",
     "data": {
      "text/plain": [
       "     bus_id  station_id  voltage     dc symbol under_construction  \\\n",
       "0         0         141   330000  False  False              False   \n",
       "1         1         694   330000  False  False              False   \n",
       "2         2         428   330000  False  False              False   \n",
       "3         3         639   132000  False  False              False   \n",
       "4         4         234   330000  False  False              False   \n",
       "..      ...         ...      ...    ...    ...                ...   \n",
       "895     895          48   132000  False  False              False   \n",
       "896     896         654   330000  False  False              False   \n",
       "897     897         370   132000  False  False              False   \n",
       "898     898         551   132000  False  False              False   \n",
       "899     899         134   330000  False  False              False   \n",
       "\n",
       "    tag_substation tag_area       lon       lat  country  \\\n",
       "0            False    False  4.578499  7.801703  nigeria   \n",
       "1            False    False  8.568362  7.626947  nigeria   \n",
       "2            False    False  6.831211  9.972919  nigeria   \n",
       "3            False    False  7.863588  8.805520  nigeria   \n",
       "4            False    False  5.591301  6.409519  nigeria   \n",
       "..             ...      ...       ...       ...      ...   \n",
       "895          False    False  3.390599  7.112278  nigeria   \n",
       "896          False    False  8.338921  5.071783  nigeria   \n",
       "897          False    False  6.659265  6.209402  nigeria   \n",
       "898          False    False  7.497822  5.803749  nigeria   \n",
       "899          False    False  4.577039  7.801682  nigeria   \n",
       "\n",
       "                    geometry  \n",
       "0    POINT (4.57850 7.80170)  \n",
       "1    POINT (8.56931 7.62724)  \n",
       "2    POINT (6.83446 9.97342)  \n",
       "3    POINT (7.86359 8.80552)  \n",
       "4    POINT (5.59130 6.48736)  \n",
       "..                       ...  \n",
       "895  POINT (3.39060 7.10501)  \n",
       "896  POINT (8.33888 5.07178)  \n",
       "897  POINT (6.65927 6.18680)  \n",
       "898  POINT (7.49782 5.73658)  \n",
       "899  POINT (4.57704 7.80168)  \n",
       "\n",
       "[900 rows x 12 columns]"
      ],
      "text/html": "<div>\n<style scoped>\n    .dataframe tbody tr th:only-of-type {\n        vertical-align: middle;\n    }\n\n    .dataframe tbody tr th {\n        vertical-align: top;\n    }\n\n    .dataframe thead th {\n        text-align: right;\n    }\n</style>\n<table border=\"1\" class=\"dataframe\">\n  <thead>\n    <tr style=\"text-align: right;\">\n      <th></th>\n      <th>bus_id</th>\n      <th>station_id</th>\n      <th>voltage</th>\n      <th>dc</th>\n      <th>symbol</th>\n      <th>under_construction</th>\n      <th>tag_substation</th>\n      <th>tag_area</th>\n      <th>lon</th>\n      <th>lat</th>\n      <th>country</th>\n      <th>geometry</th>\n    </tr>\n  </thead>\n  <tbody>\n    <tr>\n      <th>0</th>\n      <td>0</td>\n      <td>141</td>\n      <td>330000</td>\n      <td>False</td>\n      <td>False</td>\n      <td>False</td>\n      <td>False</td>\n      <td>False</td>\n      <td>4.578499</td>\n      <td>7.801703</td>\n      <td>nigeria</td>\n      <td>POINT (4.57850 7.80170)</td>\n    </tr>\n    <tr>\n      <th>1</th>\n      <td>1</td>\n      <td>694</td>\n      <td>330000</td>\n      <td>False</td>\n      <td>False</td>\n      <td>False</td>\n      <td>False</td>\n      <td>False</td>\n      <td>8.568362</td>\n      <td>7.626947</td>\n      <td>nigeria</td>\n      <td>POINT (8.56931 7.62724)</td>\n    </tr>\n    <tr>\n      <th>2</th>\n      <td>2</td>\n      <td>428</td>\n      <td>330000</td>\n      <td>False</td>\n      <td>False</td>\n      <td>False</td>\n      <td>False</td>\n      <td>False</td>\n      <td>6.831211</td>\n      <td>9.972919</td>\n      <td>nigeria</td>\n      <td>POINT (6.83446 9.97342)</td>\n    </tr>\n    <tr>\n      <th>3</th>\n      <td>3</td>\n      <td>639</td>\n      <td>132000</td>\n      <td>False</td>\n      <td>False</td>\n      <td>False</td>\n      <td>False</td>\n      <td>False</td>\n      <td>7.863588</td>\n      <td>8.805520</td>\n      <td>nigeria</td>\n      <td>POINT (7.86359 8.80552)</td>\n    </tr>\n    <tr>\n      <th>4</th>\n      <td>4</td>\n      <td>234</td>\n      <td>330000</td>\n      <td>False</td>\n      <td>False</td>\n      <td>False</td>\n      <td>False</td>\n      <td>False</td>\n      <td>5.591301</td>\n      <td>6.409519</td>\n      <td>nigeria</td>\n      <td>POINT (5.59130 6.48736)</td>\n    </tr>\n    <tr>\n      <th>...</th>\n      <td>...</td>\n      <td>...</td>\n      <td>...</td>\n      <td>...</td>\n      <td>...</td>\n      <td>...</td>\n      <td>...</td>\n      <td>...</td>\n      <td>...</td>\n      <td>...</td>\n      <td>...</td>\n      <td>...</td>\n    </tr>\n    <tr>\n      <th>895</th>\n      <td>895</td>\n      <td>48</td>\n      <td>132000</td>\n      <td>False</td>\n      <td>False</td>\n      <td>False</td>\n      <td>False</td>\n      <td>False</td>\n      <td>3.390599</td>\n      <td>7.112278</td>\n      <td>nigeria</td>\n      <td>POINT (3.39060 7.10501)</td>\n    </tr>\n    <tr>\n      <th>896</th>\n      <td>896</td>\n      <td>654</td>\n      <td>330000</td>\n      <td>False</td>\n      <td>False</td>\n      <td>False</td>\n      <td>False</td>\n      <td>False</td>\n      <td>8.338921</td>\n      <td>5.071783</td>\n      <td>nigeria</td>\n      <td>POINT (8.33888 5.07178)</td>\n    </tr>\n    <tr>\n      <th>897</th>\n      <td>897</td>\n      <td>370</td>\n      <td>132000</td>\n      <td>False</td>\n      <td>False</td>\n      <td>False</td>\n      <td>False</td>\n      <td>False</td>\n      <td>6.659265</td>\n      <td>6.209402</td>\n      <td>nigeria</td>\n      <td>POINT (6.65927 6.18680)</td>\n    </tr>\n    <tr>\n      <th>898</th>\n      <td>898</td>\n      <td>551</td>\n      <td>132000</td>\n      <td>False</td>\n      <td>False</td>\n      <td>False</td>\n      <td>False</td>\n      <td>False</td>\n      <td>7.497822</td>\n      <td>5.803749</td>\n      <td>nigeria</td>\n      <td>POINT (7.49782 5.73658)</td>\n    </tr>\n    <tr>\n      <th>899</th>\n      <td>899</td>\n      <td>134</td>\n      <td>330000</td>\n      <td>False</td>\n      <td>False</td>\n      <td>False</td>\n      <td>False</td>\n      <td>False</td>\n      <td>4.577039</td>\n      <td>7.801682</td>\n      <td>nigeria</td>\n      <td>POINT (4.57704 7.80168)</td>\n    </tr>\n  </tbody>\n</table>\n<p>900 rows × 12 columns</p>\n</div>"
     },
     "metadata": {},
     "execution_count": 18
    }
   ],
   "metadata": {}
  },
  {
   "cell_type": "code",
   "execution_count": 19,
   "source": [
    "bus_all_v1.groupby(['station_id']).count()"
   ],
   "outputs": [
    {
     "output_type": "execute_result",
     "data": {
      "text/plain": [
       "            bus_id  voltage  dc  symbol  under_construction  tag_substation  \\\n",
       "station_id                                                                    \n",
       "0                1        1   1       1                   1               1   \n",
       "1                3        3   3       3                   3               3   \n",
       "2                1        1   1       1                   1               1   \n",
       "4                2        2   2       2                   2               2   \n",
       "5                2        2   2       2                   2               2   \n",
       "...            ...      ...  ..     ...                 ...             ...   \n",
       "786              2        2   2       2                   2               2   \n",
       "787              3        3   3       3                   3               3   \n",
       "788              2        2   2       2                   2               2   \n",
       "789              1        1   1       1                   1               1   \n",
       "791              1        1   1       1                   1               1   \n",
       "\n",
       "            tag_area  lon  lat  country  geometry  \n",
       "station_id                                         \n",
       "0                  1    1    1        1         1  \n",
       "1                  3    3    3        3         3  \n",
       "2                  1    1    1        1         1  \n",
       "4                  2    2    2        2         2  \n",
       "5                  2    2    2        2         2  \n",
       "...              ...  ...  ...      ...       ...  \n",
       "786                2    2    2        2         2  \n",
       "787                3    3    3        3         3  \n",
       "788                2    2    2        2         2  \n",
       "789                1    1    1        1         1  \n",
       "791                1    1    1        1         1  \n",
       "\n",
       "[435 rows x 11 columns]"
      ],
      "text/html": "<div>\n<style scoped>\n    .dataframe tbody tr th:only-of-type {\n        vertical-align: middle;\n    }\n\n    .dataframe tbody tr th {\n        vertical-align: top;\n    }\n\n    .dataframe thead th {\n        text-align: right;\n    }\n</style>\n<table border=\"1\" class=\"dataframe\">\n  <thead>\n    <tr style=\"text-align: right;\">\n      <th></th>\n      <th>bus_id</th>\n      <th>voltage</th>\n      <th>dc</th>\n      <th>symbol</th>\n      <th>under_construction</th>\n      <th>tag_substation</th>\n      <th>tag_area</th>\n      <th>lon</th>\n      <th>lat</th>\n      <th>country</th>\n      <th>geometry</th>\n    </tr>\n    <tr>\n      <th>station_id</th>\n      <th></th>\n      <th></th>\n      <th></th>\n      <th></th>\n      <th></th>\n      <th></th>\n      <th></th>\n      <th></th>\n      <th></th>\n      <th></th>\n      <th></th>\n    </tr>\n  </thead>\n  <tbody>\n    <tr>\n      <th>0</th>\n      <td>1</td>\n      <td>1</td>\n      <td>1</td>\n      <td>1</td>\n      <td>1</td>\n      <td>1</td>\n      <td>1</td>\n      <td>1</td>\n      <td>1</td>\n      <td>1</td>\n      <td>1</td>\n    </tr>\n    <tr>\n      <th>1</th>\n      <td>3</td>\n      <td>3</td>\n      <td>3</td>\n      <td>3</td>\n      <td>3</td>\n      <td>3</td>\n      <td>3</td>\n      <td>3</td>\n      <td>3</td>\n      <td>3</td>\n      <td>3</td>\n    </tr>\n    <tr>\n      <th>2</th>\n      <td>1</td>\n      <td>1</td>\n      <td>1</td>\n      <td>1</td>\n      <td>1</td>\n      <td>1</td>\n      <td>1</td>\n      <td>1</td>\n      <td>1</td>\n      <td>1</td>\n      <td>1</td>\n    </tr>\n    <tr>\n      <th>4</th>\n      <td>2</td>\n      <td>2</td>\n      <td>2</td>\n      <td>2</td>\n      <td>2</td>\n      <td>2</td>\n      <td>2</td>\n      <td>2</td>\n      <td>2</td>\n      <td>2</td>\n      <td>2</td>\n    </tr>\n    <tr>\n      <th>5</th>\n      <td>2</td>\n      <td>2</td>\n      <td>2</td>\n      <td>2</td>\n      <td>2</td>\n      <td>2</td>\n      <td>2</td>\n      <td>2</td>\n      <td>2</td>\n      <td>2</td>\n      <td>2</td>\n    </tr>\n    <tr>\n      <th>...</th>\n      <td>...</td>\n      <td>...</td>\n      <td>...</td>\n      <td>...</td>\n      <td>...</td>\n      <td>...</td>\n      <td>...</td>\n      <td>...</td>\n      <td>...</td>\n      <td>...</td>\n      <td>...</td>\n    </tr>\n    <tr>\n      <th>786</th>\n      <td>2</td>\n      <td>2</td>\n      <td>2</td>\n      <td>2</td>\n      <td>2</td>\n      <td>2</td>\n      <td>2</td>\n      <td>2</td>\n      <td>2</td>\n      <td>2</td>\n      <td>2</td>\n    </tr>\n    <tr>\n      <th>787</th>\n      <td>3</td>\n      <td>3</td>\n      <td>3</td>\n      <td>3</td>\n      <td>3</td>\n      <td>3</td>\n      <td>3</td>\n      <td>3</td>\n      <td>3</td>\n      <td>3</td>\n      <td>3</td>\n    </tr>\n    <tr>\n      <th>788</th>\n      <td>2</td>\n      <td>2</td>\n      <td>2</td>\n      <td>2</td>\n      <td>2</td>\n      <td>2</td>\n      <td>2</td>\n      <td>2</td>\n      <td>2</td>\n      <td>2</td>\n      <td>2</td>\n    </tr>\n    <tr>\n      <th>789</th>\n      <td>1</td>\n      <td>1</td>\n      <td>1</td>\n      <td>1</td>\n      <td>1</td>\n      <td>1</td>\n      <td>1</td>\n      <td>1</td>\n      <td>1</td>\n      <td>1</td>\n      <td>1</td>\n    </tr>\n    <tr>\n      <th>791</th>\n      <td>1</td>\n      <td>1</td>\n      <td>1</td>\n      <td>1</td>\n      <td>1</td>\n      <td>1</td>\n      <td>1</td>\n      <td>1</td>\n      <td>1</td>\n      <td>1</td>\n      <td>1</td>\n    </tr>\n  </tbody>\n</table>\n<p>435 rows × 11 columns</p>\n</div>"
     },
     "metadata": {},
     "execution_count": 19
    }
   ],
   "metadata": {}
  },
  {
   "cell_type": "markdown",
   "source": [
    "# Inference (Probably a better method) - For the Archives"
   ],
   "metadata": {}
  },
  {
   "cell_type": "markdown",
   "source": [
    "This method will be implemented once cleaning is completed. See method in Powermap for how it is supposed to be done in the correct way"
   ],
   "metadata": {}
  },
  {
   "cell_type": "code",
   "execution_count": 20,
   "source": [
    "x = cdf.buffer(100)\n",
    "neighbours = cdf.intersection(x)\n",
    "display(neighbours)\n",
    "# print all the nearby points\n",
    "# display(x)"
   ],
   "outputs": [
    {
     "output_type": "display_data",
     "data": {
      "text/plain": "0       POINT (509676.133 871177.890)\n1       POINT (953930.792 851579.415)\n2      POINT (760808.496 1115885.964)\n3       POINT (875370.579 984107.633)\n4       POINT (622420.747 723718.024)\n                    ...              \n895     POINT (377439.776 792961.319)\n896     POINT (928279.920 565327.081)\n897     POINT (741306.011 690053.790)\n898     POINT (834653.683 639662.525)\n899     POINT (509513.706 871175.508)\nLength: 900, dtype: geometry"
     },
     "metadata": {}
    }
   ],
   "metadata": {}
  },
  {
   "cell_type": "code",
   "execution_count": null,
   "metadata": {},
   "outputs": [],
   "source": []
  },
  {
   "cell_type": "code",
   "execution_count": null,
   "metadata": {},
   "outputs": [],
   "source": []
  },
  {
   "cell_type": "code",
   "execution_count": null,
   "metadata": {},
   "outputs": [],
   "source": []
  }
 ],
 "metadata": {
  "interpreter": {
   "hash": "d9c13fc6442bf1b8f9598850facaf8fef6fb0663206d3863adab308b8c559389"
  },
  "kernelspec": {
   "name": "python3",
   "display_name": "Python 3.7.10 64-bit ('pypsa-africa': conda)"
  },
  "language_info": {
   "codemirror_mode": {
    "name": "ipython",
    "version": 3
   },
   "file_extension": ".py",
   "mimetype": "text/x-python",
   "name": "python",
   "nbconvert_exporter": "python",
   "pygments_lexer": "ipython3",
   "version": "3.7.10"
  }
 },
 "nbformat": 4,
 "nbformat_minor": 5
}