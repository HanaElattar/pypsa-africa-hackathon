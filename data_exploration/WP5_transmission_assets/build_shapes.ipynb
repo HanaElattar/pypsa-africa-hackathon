{
    "cells": [
        {
            "cell_type": "markdown",
            "source": [
                "# This script aims at developing the build_shapes script on the basis of PyPSA-Eur"
            ],
            "metadata": {}
        },
        {
            "cell_type": "code",
            "execution_count": 1,
            "source": [
                "# import\r\n",
                "import os\r\n",
                "import sys\r\n",
                "\r\n",
                "# IMPORTANT: RUN SCRIPT FROM THIS SCRIPTS DIRECTORY i.e data_exploration/ TODO: make more robust\r\n",
                "# os.chdir(os.path.dirname(os.path.abspath(__file__)))\r\n",
                "sys.path.append(\"./../../scripts\")\r\n",
                "\r\n",
                "import logging\r\n",
                "import shutil\r\n",
                "\r\n",
                "import geopandas as gpd\r\n",
                "import geoplot\r\n",
                "import fiona\r\n",
                "\r\n",
                "import numpy as np\r\n",
                "import pandas as pd\r\n",
                "import requests\r\n",
                "import zipfile\r\n",
                "import matplotlib.pyplot as plt\r\n",
                "from esy.osmfilter import run_filter\r\n",
                "from esy.osmfilter import Node, Relation, Way\r\n",
                "from esy.osmfilter import osm_info as osm_info\r\n",
                "from esy.osmfilter import osm_pickle as osm_pickle\r\n",
                "\r\n",
                "from iso_country_codes import AFRICA_CC\r\n",
                "#from ..scripts.iso_country_codes import AFRICA_CC\r\n",
                "\r\n",
                "from shapely.geometry import LineString, Point, Polygon\r\n",
                "\r\n",
                "logger = logging.getLogger(__name__)"
            ],
            "outputs": [],
            "metadata": {}
        },
        {
            "cell_type": "code",
            "execution_count": 2,
            "source": [
                "test_CC = {\"ZAF\": \"SOUTH AFRICA\", \"NGA\": \"Nigeria\"} # or any other country\r\n",
                "update = True\r\n",
                "\r\n",
                "def download_GADM(country_code, update=False):\r\n",
                "    \"\"\"\r\n",
                "    Download gpkg file from GADM for a given country code\r\n",
                "\r\n",
                "    Parameters\r\n",
                "    ----------\r\n",
                "    country_code : str \r\n",
                "        Three letter country codes of the downloaded files \r\n",
                "    update : bool \r\n",
                "        Name of the network component \r\n",
                "        Update = true, forces re-download of files\r\n",
                "\r\n",
                "    Returns\r\n",
                "    -------\r\n",
                "    gpkg file per country\r\n",
                "\r\n",
                "    \"\"\"\r\n",
                "\r\n",
                "    GADM_filename = f\"gadm36_{country_code}\"\r\n",
                "    GADM_url = f\"https://biogeo.ucdavis.edu/data/gadm3.6/gpkg/{GADM_filename}_gpkg.zip\"\r\n",
                "\r\n",
                "    GADM_inputfile_zip = os.path.join(\r\n",
                "        os.getcwd(), \"data\", \"gadm\", GADM_filename, GADM_filename + \".zip\"\r\n",
                "    )  # Input filepath zip\r\n",
                "\r\n",
                "    GADM_inputfile_gpkg = os.path.join(\r\n",
                "        os.getcwd(), \"data\", \"gadm\", GADM_filename, GADM_filename + \".gpkg\"\r\n",
                "    )  # Input filepath gpkg\r\n",
                "\r\n",
                "    if not os.path.exists(GADM_inputfile_zip) or update is True:\r\n",
                "        print(f\"{GADM_filename} does not exist, downloading to {GADM_inputfile_zip}\")\r\n",
                "        #  create data/osm directory\r\n",
                "        os.makedirs(os.path.dirname(GADM_inputfile_zip), exist_ok=True)\r\n",
                "\r\n",
                "        with requests.get(GADM_url, stream=True) as r:\r\n",
                "            with open(GADM_inputfile_zip, \"wb\") as f:\r\n",
                "                shutil.copyfileobj(r.raw, f)\r\n",
                "\r\n",
                "        with zipfile.ZipFile(GADM_inputfile_zip,\"r\") as zip_ref:\r\n",
                "            zip_ref.extractall(os.path.dirname(GADM_inputfile_zip))\r\n",
                "    \r\n",
                "    return GADM_inputfile_gpkg, GADM_filename\r\n",
                "\r\n",
                "# download GADM gpkg files of selected countries\r\n",
                "for country_code in test_CC.keys():\r\n",
                "    # download file gpkgS\r\n",
                "    file_gpkg, _ = download_GADM(country_code, False)\r\n",
                "    print(file_gpkg)\r\n",
                "\r\n",
                "print(\"Completed\")"
            ],
            "outputs": [
                {
                    "output_type": "stream",
                    "name": "stdout",
                    "text": [
                        "c:\\Users\\Davide\\Git\\pypsa-africa\\data_exploration\\WP5_transmission_assets\\data\\gadm\\gadm36_ZAF\\gadm36_ZAF.gpkg\n",
                        "c:\\Users\\Davide\\Git\\pypsa-africa\\data_exploration\\WP5_transmission_assets\\data\\gadm\\gadm36_NGA\\gadm36_NGA.gpkg\n",
                        "Completed\n"
                    ]
                }
            ],
            "metadata": {}
        },
        {
            "cell_type": "code",
            "execution_count": 3,
            "source": [
                "# download gpkg files of selected countries and append them to a single GeoDataFrame for each desired layer\r\n",
                "\r\n",
                "layers = [0, 1]\r\n",
                "\r\n",
                "# initialize dictionary for all geodataframe by layer\r\n",
                "geodf_all = {layer: gpd.GeoDataFrame() for layer in layers}\r\n",
                "\r\n",
                "for country_code in test_CC.keys():\r\n",
                "    # download file gpkg\r\n",
                "    file_gpkg, name_file = download_GADM(country_code, False)\r\n",
                "    \r\n",
                "    for layer in layers:\r\n",
                "        # read gpkg file\r\n",
                "        geodf_temp = gpd.read_file(file_gpkg, layer=name_file+\"_\"+str(layer))\r\n",
                "\r\n",
                "        # append geodataframes\r\n",
                "        geodf_all[layer] = geodf_all[layer].append(geodf_temp)\r\n",
                "\r\n",
                "for layer in layers:\r\n",
                "    geodf_all[layer].reset_index(drop=True, inplace=True)"
            ],
            "outputs": [],
            "metadata": {}
        },
        {
            "cell_type": "code",
            "execution_count": 4,
            "source": [
                "geodf_all[0]"
            ],
            "outputs": [
                {
                    "output_type": "execute_result",
                    "data": {
                        "text/plain": [
                            "  GID_0        NAME_0                                           geometry\n",
                            "0   ZAF  South Africa  MULTIPOLYGON (((19.42097 -34.67903, 19.42097 -...\n",
                            "1   NGA       Nigeria  MULTIPOLYGON (((6.44042 4.30875, 6.44042 4.307..."
                        ],
                        "text/html": [
                            "<div>\n",
                            "<style scoped>\n",
                            "    .dataframe tbody tr th:only-of-type {\n",
                            "        vertical-align: middle;\n",
                            "    }\n",
                            "\n",
                            "    .dataframe tbody tr th {\n",
                            "        vertical-align: top;\n",
                            "    }\n",
                            "\n",
                            "    .dataframe thead th {\n",
                            "        text-align: right;\n",
                            "    }\n",
                            "</style>\n",
                            "<table border=\"1\" class=\"dataframe\">\n",
                            "  <thead>\n",
                            "    <tr style=\"text-align: right;\">\n",
                            "      <th></th>\n",
                            "      <th>GID_0</th>\n",
                            "      <th>NAME_0</th>\n",
                            "      <th>geometry</th>\n",
                            "    </tr>\n",
                            "  </thead>\n",
                            "  <tbody>\n",
                            "    <tr>\n",
                            "      <th>0</th>\n",
                            "      <td>ZAF</td>\n",
                            "      <td>South Africa</td>\n",
                            "      <td>MULTIPOLYGON (((19.42097 -34.67903, 19.42097 -...</td>\n",
                            "    </tr>\n",
                            "    <tr>\n",
                            "      <th>1</th>\n",
                            "      <td>NGA</td>\n",
                            "      <td>Nigeria</td>\n",
                            "      <td>MULTIPOLYGON (((6.44042 4.30875, 6.44042 4.307...</td>\n",
                            "    </tr>\n",
                            "  </tbody>\n",
                            "</table>\n",
                            "</div>"
                        ]
                    },
                    "metadata": {},
                    "execution_count": 4
                }
            ],
            "metadata": {}
        },
        {
            "cell_type": "code",
            "execution_count": 5,
            "source": [
                "#geodf_all[1].plot()"
            ],
            "outputs": [],
            "metadata": {}
        },
        {
            "cell_type": "code",
            "execution_count": 6,
            "source": [
                "# # download file gpkg\r\n",
                "# file_gpkg = download_gpkg(list(test_CC.keys())[0], False)\r\n",
                "\r\n",
                "# print(fiona.listlayers(file_gpkg))\r\n",
                "\r\n",
                "# # read gpkg file\r\n",
                "# geodf_temp = gpd.read_file(file_gpkg, layer=\"gadm36_ZAF_0\")\r\n",
                "# geodf_temp.plot()"
            ],
            "outputs": [],
            "metadata": {}
        },
        {
            "cell_type": "code",
            "execution_count": 7,
            "source": [
                "def load_EEZ(selected_countries_codes, name_file = \"eez_v11.gpkg\"):\r\n",
                "    EEZ_gpkg = os.path.join(\r\n",
                "        os.getcwd(), \"data\", \"raw\", \"eez\", name_file\r\n",
                "    )  # Input filepath gpkg\r\n",
                "\r\n",
                "    if not os.path.exists(EEZ_gpkg):\r\n",
                "        raise Exception(f\"File EEZ {name_file} not found, please download it and copy it in {os.path.dirname(EEZ_gpkg)}\")\r\n",
                "    \r\n",
                "    geodf_EEZ = gpd.read_file(EEZ_gpkg)\r\n",
                "    geodf_EEZ = geodf_EEZ[[\"ISO_TER1\", \"geometry\"]] # [[\"ISO_TER1\", \"TERRITORY1\", \"ISO_SOV1\", \"ISO_SOV2\", \"ISO_SOV3\", \"geometry\"]]\r\n",
                "    geodf_EEZ = geodf_EEZ[[any([x in selected_countries_codes]) for x in geodf_EEZ[\"ISO_TER1\"]]]\r\n",
                "    geodf_EEZ.reset_index(drop=True, inplace=True)\r\n",
                "    \r\n",
                "    geodf_EEZ.rename(columns = {\"ISO_TER1\": \"name\"}, inplace=True)\r\n",
                "\r\n",
                "    return geodf_EEZ\r\n",
                "\r\n",
                "geodf_EEZ = load_EEZ(test_CC.keys())\r\n",
                "\r\n",
                "#print(geodf_EEZ.keys())\r\n",
                "geodf_EEZ.head()"
            ],
            "outputs": [
                {
                    "output_type": "execute_result",
                    "data": {
                        "text/plain": [
                            "  name                                           geometry\n",
                            "0  ZAF  MULTIPOLYGON (((36.53069 -27.71605, 36.53058 -...\n",
                            "1  NGA  MULTIPOLYGON (((8.65029 4.93224, 8.65051 4.932..."
                        ],
                        "text/html": [
                            "<div>\n",
                            "<style scoped>\n",
                            "    .dataframe tbody tr th:only-of-type {\n",
                            "        vertical-align: middle;\n",
                            "    }\n",
                            "\n",
                            "    .dataframe tbody tr th {\n",
                            "        vertical-align: top;\n",
                            "    }\n",
                            "\n",
                            "    .dataframe thead th {\n",
                            "        text-align: right;\n",
                            "    }\n",
                            "</style>\n",
                            "<table border=\"1\" class=\"dataframe\">\n",
                            "  <thead>\n",
                            "    <tr style=\"text-align: right;\">\n",
                            "      <th></th>\n",
                            "      <th>name</th>\n",
                            "      <th>geometry</th>\n",
                            "    </tr>\n",
                            "  </thead>\n",
                            "  <tbody>\n",
                            "    <tr>\n",
                            "      <th>0</th>\n",
                            "      <td>ZAF</td>\n",
                            "      <td>MULTIPOLYGON (((36.53069 -27.71605, 36.53058 -...</td>\n",
                            "    </tr>\n",
                            "    <tr>\n",
                            "      <th>1</th>\n",
                            "      <td>NGA</td>\n",
                            "      <td>MULTIPOLYGON (((8.65029 4.93224, 8.65051 4.932...</td>\n",
                            "    </tr>\n",
                            "  </tbody>\n",
                            "</table>\n",
                            "</div>"
                        ]
                    },
                    "metadata": {},
                    "execution_count": 7
                }
            ],
            "metadata": {}
        },
        {
            "cell_type": "code",
            "execution_count": 8,
            "source": [
                "geodf_all[0]"
            ],
            "outputs": [
                {
                    "output_type": "execute_result",
                    "data": {
                        "text/plain": [
                            "  GID_0        NAME_0                                           geometry\n",
                            "0   ZAF  South Africa  MULTIPOLYGON (((19.42097 -34.67903, 19.42097 -...\n",
                            "1   NGA       Nigeria  MULTIPOLYGON (((6.44042 4.30875, 6.44042 4.307..."
                        ],
                        "text/html": [
                            "<div>\n",
                            "<style scoped>\n",
                            "    .dataframe tbody tr th:only-of-type {\n",
                            "        vertical-align: middle;\n",
                            "    }\n",
                            "\n",
                            "    .dataframe tbody tr th {\n",
                            "        vertical-align: top;\n",
                            "    }\n",
                            "\n",
                            "    .dataframe thead th {\n",
                            "        text-align: right;\n",
                            "    }\n",
                            "</style>\n",
                            "<table border=\"1\" class=\"dataframe\">\n",
                            "  <thead>\n",
                            "    <tr style=\"text-align: right;\">\n",
                            "      <th></th>\n",
                            "      <th>GID_0</th>\n",
                            "      <th>NAME_0</th>\n",
                            "      <th>geometry</th>\n",
                            "    </tr>\n",
                            "  </thead>\n",
                            "  <tbody>\n",
                            "    <tr>\n",
                            "      <th>0</th>\n",
                            "      <td>ZAF</td>\n",
                            "      <td>South Africa</td>\n",
                            "      <td>MULTIPOLYGON (((19.42097 -34.67903, 19.42097 -...</td>\n",
                            "    </tr>\n",
                            "    <tr>\n",
                            "      <th>1</th>\n",
                            "      <td>NGA</td>\n",
                            "      <td>Nigeria</td>\n",
                            "      <td>MULTIPOLYGON (((6.44042 4.30875, 6.44042 4.307...</td>\n",
                            "    </tr>\n",
                            "  </tbody>\n",
                            "</table>\n",
                            "</div>"
                        ]
                    },
                    "metadata": {},
                    "execution_count": 8
                }
            ],
            "metadata": {}
        },
        {
            "cell_type": "code",
            "execution_count": 9,
            "source": [
                "file_country_shapes_clean = os.path.join(os.getcwd(), \"data\", \"clean\", \"eez\", \"country_shapes\" + \".geojson\")\r\n",
                "file_off_shore_shapes_clean = os.path.join(os.getcwd(), \"data\", \"clean\", \"eez\", \"off_shore_shapes\" + \".geojson\")\r\n",
                "os.makedirs(os.path.dirname(file_country_shapes_clean), exist_ok=True)\r\n",
                "\r\n",
                "# country shapes: layer = 0\r\n",
                "geodf_country = geodf_all[0][[\"GID_0\", \"geometry\"]].copy()\r\n",
                "geodf_country.rename(columns = {\"GID_0\": \"name\"}, inplace=True)\r\n",
                "\r\n",
                "geodf_country.to_file(file_country_shapes_clean, driver=\"GeoJSON\")  # Generate GeoJson\r\n",
                "geodf_EEZ.to_file(file_off_shore_shapes_clean, driver=\"GeoJSON\")  # Generate GeoJson"
            ],
            "outputs": [
                {
                    "output_type": "stream",
                    "name": "stderr",
                    "text": [
                        "C:\\Users\\Davide\\.conda\\envs\\wp5\\lib\\site-packages\\pandas\\core\\frame.py:4449: SettingWithCopyWarning: \n",
                        "A value is trying to be set on a copy of a slice from a DataFrame\n",
                        "\n",
                        "See the caveats in the documentation: https://pandas.pydata.org/pandas-docs/stable/user_guide/indexing.html#returning-a-view-versus-a-copy\n",
                        "  errors=errors,\n",
                        "ERROR:fiona._env:c:\\Users\\Davide\\Git\\pypsa-africa\\data_exploration\\WP5_transmission_assets\\data\\clean\\eez\\country_shapes.geojson: No such file or directory\n",
                        "WARNING:fiona._env:driver GeoJSON does not support creation option ENCODING\n",
                        "ERROR:fiona._env:c:\\Users\\Davide\\Git\\pypsa-africa\\data_exploration\\WP5_transmission_assets\\data\\clean\\eez\\off_shore_shapes.geojson: No such file or directory\n",
                        "WARNING:fiona._env:driver GeoJSON does not support creation option ENCODING\n"
                    ]
                }
            ],
            "metadata": {}
        },
        {
            "cell_type": "code",
            "execution_count": null,
            "source": [],
            "outputs": [],
            "metadata": {}
        }
    ],
    "metadata": {
        "orig_nbformat": 4,
        "language_info": {
            "name": "python",
            "version": "3.7.10",
            "mimetype": "text/x-python",
            "codemirror_mode": {
                "name": "ipython",
                "version": 3
            },
            "pygments_lexer": "ipython3",
            "nbconvert_exporter": "python",
            "file_extension": ".py"
        },
        "kernelspec": {
            "name": "python3",
            "display_name": "Python 3.7.10 64-bit ('wp5': conda)"
        },
        "interpreter": {
            "hash": "57a9fa4e4843e09a594b4223bdb4142ccd35341dcc9ca6a9638e7497db256593"
        }
    },
    "nbformat": 4,
    "nbformat_minor": 2
}