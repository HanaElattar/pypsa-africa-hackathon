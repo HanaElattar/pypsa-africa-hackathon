{
 "cells": [
  {
   "cell_type": "markdown",
   "id": "ea7469f5",
   "metadata": {},
   "source": [
    "This notebook is for snapping of substations to lines"
   ]
  },
  {
   "cell_type": "code",
   "execution_count": 101,
   "id": "eb335437",
   "metadata": {},
   "outputs": [],
   "source": [
    "import os\n",
    "import matplotlib.pyplot as plt \n",
    "import geopandas as gpd\n",
    "import geoplot\n",
    "import pandas as pd\n",
    "import numpy as np\n",
    "from shapely.geometry import LineString\n",
    "from shapely.geometry import Point"
   ]
  },
  {
   "cell_type": "markdown",
   "id": "181519fc",
   "metadata": {},
   "source": [
    "# Africa shape data"
   ]
  },
  {
   "cell_type": "code",
   "execution_count": 102,
   "id": "e58f8891",
   "metadata": {},
   "outputs": [],
   "source": [
    "world = gpd.read_file(gpd.datasets.get_path('naturalearth_lowres'))\n",
    "africa = world.query('continent == \"Africa\"')\n",
    "nigeriaplot = world.query('name == \"Nigeria\"')\n",
    "#world"
   ]
  },
  {
   "cell_type": "markdown",
   "id": "a7df5551",
   "metadata": {},
   "source": [
    "# Load data"
   ]
  },
  {
   "cell_type": "code",
   "execution_count": 103,
   "id": "f0ce4ab4",
   "metadata": {},
   "outputs": [],
   "source": [
    "# pathg = os.path.realpath(\"data\")+'/africa_all_generators.geojson' # Generators are not required in base_network\n",
    "paths = os.path.realpath(\"data/clean\")+'/africa_all_buses_clean.geojson'\n",
    "pathl = os.path.realpath(\"data/clean\")+'/africa_all_lines_clean.geojson'\n",
    "\n",
    "# generators = gpd.read_file(pathg).set_crs(epsg=4326, inplace=True)\n",
    "substations = gpd.read_file(paths).set_crs(epsg=4326, inplace=True)\n",
    "lines = gpd.read_file(pathl).set_crs(epsg=4326, inplace=True)"
   ]
  },
  {
   "cell_type": "code",
   "execution_count": 104,
   "metadata": {},
   "outputs": [
    {
     "output_type": "execute_result",
     "data": {
      "text/plain": [
       "       line_id  bus0  bus1  voltage  circuits        length  underground  \\\n",
       "0  380986751-1  None  None   220000         1  40467.295973        False   \n",
       "1  173682341-1  None  None   400000         1    168.067783        False   \n",
       "\n",
       "   under_construction tag_type  tag_frequency  country  \\\n",
       "0               False     line             50  algeria   \n",
       "1               False     line             50  algeria   \n",
       "\n",
       "                                            geometry  \n",
       "0  LINESTRING (-1.83638 34.78691, -1.83590 34.789...  \n",
       "1  LINESTRING (-0.90176 35.08983, -0.90181 35.090...  "
      ],
      "text/html": "<div>\n<style scoped>\n    .dataframe tbody tr th:only-of-type {\n        vertical-align: middle;\n    }\n\n    .dataframe tbody tr th {\n        vertical-align: top;\n    }\n\n    .dataframe thead th {\n        text-align: right;\n    }\n</style>\n<table border=\"1\" class=\"dataframe\">\n  <thead>\n    <tr style=\"text-align: right;\">\n      <th></th>\n      <th>line_id</th>\n      <th>bus0</th>\n      <th>bus1</th>\n      <th>voltage</th>\n      <th>circuits</th>\n      <th>length</th>\n      <th>underground</th>\n      <th>under_construction</th>\n      <th>tag_type</th>\n      <th>tag_frequency</th>\n      <th>country</th>\n      <th>geometry</th>\n    </tr>\n  </thead>\n  <tbody>\n    <tr>\n      <th>0</th>\n      <td>380986751-1</td>\n      <td>None</td>\n      <td>None</td>\n      <td>220000</td>\n      <td>1</td>\n      <td>40467.295973</td>\n      <td>False</td>\n      <td>False</td>\n      <td>line</td>\n      <td>50</td>\n      <td>algeria</td>\n      <td>LINESTRING (-1.83638 34.78691, -1.83590 34.789...</td>\n    </tr>\n    <tr>\n      <th>1</th>\n      <td>173682341-1</td>\n      <td>None</td>\n      <td>None</td>\n      <td>400000</td>\n      <td>1</td>\n      <td>168.067783</td>\n      <td>False</td>\n      <td>False</td>\n      <td>line</td>\n      <td>50</td>\n      <td>algeria</td>\n      <td>LINESTRING (-0.90176 35.08983, -0.90181 35.090...</td>\n    </tr>\n  </tbody>\n</table>\n</div>"
     },
     "metadata": {},
     "execution_count": 104
    }
   ],
   "source": [
    "lines.head(2)"
   ]
  },
  {
   "cell_type": "code",
   "execution_count": 120,
   "metadata": {},
   "outputs": [],
   "source": [
    "lines[\"bounds\"] = lines[\"geometry\"].boundary # create start and end point\n",
    "# splits into coordinates\n",
    "lines[\"bus0_lat\"] = lines[\"bounds\"].bounds.iloc[:,0]\n",
    "lines[\"bus0_lon\"] = lines[\"bounds\"].bounds.iloc[:,1]\n",
    "lines[\"bus1_lat\"] = lines[\"bounds\"].bounds.iloc[:,2]\n",
    "lines[\"bus1_lon\"] = lines[\"bounds\"].bounds.iloc[:,3]\n",
    "\n",
    "# TODO: Create Point(x,y) for each bus"
   ]
  },
  {
   "cell_type": "code",
   "execution_count": null,
   "metadata": {},
   "outputs": [],
   "source": []
  }
 ],
 "metadata": {
  "interpreter": {
   "hash": "d9c13fc6442bf1b8f9598850facaf8fef6fb0663206d3863adab308b8c559389"
  },
  "kernelspec": {
   "name": "python3",
   "display_name": "Python 3.7.10 64-bit ('pypsa-africa': conda)"
  },
  "language_info": {
   "codemirror_mode": {
    "name": "ipython",
    "version": 3
   },
   "file_extension": ".py",
   "mimetype": "text/x-python",
   "name": "python",
   "nbconvert_exporter": "python",
   "pygments_lexer": "ipython3",
   "version": "3.7.10"
  }
 },
 "nbformat": 4,
 "nbformat_minor": 5
}