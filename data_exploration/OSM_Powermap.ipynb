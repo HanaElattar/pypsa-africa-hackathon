{
 "cells": [
  {
   "cell_type": "code",
   "execution_count": null,
   "id": "described-treasure",
   "metadata": {},
   "outputs": [],
   "source": [
    "#Requires to have geopandas installed\n",
    "#Installation https://geopandas.org/getting_started/install.html\n",
    "\n",
    "import matplotlib.pyplot as plt \n",
    "import geopandas as gpd\n",
    "import geoplot\n",
    "import pandas as pd\n",
    "import fiona #;help(fiona.open)\n",
    "import requests\n",
    "from pandas import json_normalize\n",
    "import requests # convert json into dataframe\n",
    "#For OSM \n",
    "import pyrosm\n",
    "import numpy as np\n",
    "from pyrosm import OSM, get_data"
   ]
  },
  {
   "cell_type": "markdown",
   "id": "rolled-sandwich",
   "metadata": {},
   "source": [
    "# Africa shape data"
   ]
  },
  {
   "cell_type": "code",
   "execution_count": null,
   "id": "swiss-selling",
   "metadata": {},
   "outputs": [],
   "source": [
    "world = gpd.read_file(gpd.datasets.get_path('naturalearth_lowres'))\n",
    "#world"
   ]
  },
  {
   "cell_type": "code",
   "execution_count": null,
   "id": "appointed-party",
   "metadata": {},
   "outputs": [],
   "source": [
    "saudi = world.query('name == \"Saudi Arabia\"')\n",
    "yemen = world.query('name == \"Yemen\"')\n",
    "iraq = world.query('name == \"Iraq\"')\n",
    "oman = world.query('name == \"Oman\"')\n",
    "uae = world.query('name == \"United Arab Emirates\"')\n",
    "jordan = world.query('name == \"Jordan\"')\n",
    "palestine = world.query('name == \"Palestine\"')\n",
    "israel = world.query('name == \"Israel\"')\n",
    "qatar = world.query('name == \"Qatar\"')\n",
    "kuwait = world.query('name == \"Kuwait\"')\n",
    "\n",
    "mena = saudi.append(yemen).append(iraq).append(oman).append(uae).append(jordan).append(palestine).append(israel).append(qatar).append(kuwait)"
   ]
  },
  {
   "cell_type": "code",
   "execution_count": null,
   "id": "short-portland",
   "metadata": {},
   "outputs": [],
   "source": [
    "africa = world.query('continent == \"Africa\"').append(mena)\n",
    "#africa.head()"
   ]
  },
  {
   "cell_type": "code",
   "execution_count": null,
   "id": "several-addiction",
   "metadata": {},
   "outputs": [],
   "source": [
    "#africa.plot()"
   ]
  },
  {
   "cell_type": "markdown",
   "id": "answering-killer",
   "metadata": {},
   "source": [
    "# Power data"
   ]
  },
  {
   "cell_type": "code",
   "execution_count": null,
   "id": "hindu-adult",
   "metadata": {},
   "outputs": [],
   "source": [
    "import os\n",
    "import sys"
   ]
  },
  {
   "cell_type": "code",
   "execution_count": null,
   "id": "expected-screen",
   "metadata": {},
   "outputs": [],
   "source": [
    "pathg = os.path.realpath(\"data\")+'/africa_all_generators.geojson'\n",
    "paths = os.path.realpath(\"data\")+'/africa_all_substations.geojson'\n",
    "pathl = os.path.realpath(\"data\")+'/africa_all_lines.geojson'\n",
    "\n",
    "generators = gpd.read_file(pathg)\n",
    "substations = gpd.read_file(paths)\n",
    "lines = gpd.read_file(pathl)"
   ]
  },
  {
   "cell_type": "markdown",
   "id": "conventional-christopher",
   "metadata": {},
   "source": [
    "# Map"
   ]
  },
  {
   "cell_type": "code",
   "execution_count": null,
   "id": "amber-centre",
   "metadata": {},
   "outputs": [],
   "source": [
    "ax = geoplot.polyplot(africa ,edgecolor='grey', alpha = 0.5, figsize=(20, 20))\n",
    "\n",
    "substations.plot(figsize=(20, 20),markersize=10, color='orange',alpha = 0.3, ax=ax)\n",
    "generators.plot(figsize=(20, 20),markersize=25, color='blue',alpha = 0.3, ax=ax)\n",
    "#network.plot(figsize=(20, 20),markersize=25, color='blue',alpha = 0.3, ax=ax)\n",
    "\n",
    "\n",
    "#plt.savefig('africa_transmission_and substations_110.png')"
   ]
  },
  {
   "cell_type": "code",
   "execution_count": null,
   "id": "immediate-authorization",
   "metadata": {},
   "outputs": [],
   "source": []
  }
 ],
 "metadata": {
  "kernelspec": {
   "display_name": "Python [conda env:pypsa-africa]",
   "language": "python",
   "name": "conda-env-pypsa-africa-py"
  },
  "language_info": {
   "codemirror_mode": {
    "name": "ipython",
    "version": 3
   },
   "file_extension": ".py",
   "mimetype": "text/x-python",
   "name": "python",
   "nbconvert_exporter": "python",
   "pygments_lexer": "ipython3",
   "version": "3.7.10"
  }
 },
 "nbformat": 4,
 "nbformat_minor": 5
}
