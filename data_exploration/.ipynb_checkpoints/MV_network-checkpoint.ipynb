{
 "cells": [
  {
   "cell_type": "code",
   "execution_count": 124,
   "metadata": {},
   "outputs": [],
   "source": [
    "#Requires to have geopandas installed\n",
    "#Installation https://geopandas.org/getting_started/install.html\n",
    "\n",
    "import geopandas as gpd\n",
    "import geoplot\n",
    "import pandas as pd\n",
    "import fiona #;help(fiona.open)\n",
    "import requests\n",
    "from pandas.io.json import json_normalize # convert json into dataframe\n"
   ]
  },
  {
   "cell_type": "code",
   "execution_count": 126,
   "metadata": {},
   "outputs": [],
   "source": [
    "pd.set_option('display.max_rows', 100)\n",
    "pd.set_option('display.max_columns', 100)"
   ]
  },
  {
   "cell_type": "markdown",
   "metadata": {},
   "source": [
    "#  Adding MENA to Africa"
   ]
  },
  {
   "cell_type": "code",
   "execution_count": 127,
   "metadata": {},
   "outputs": [],
   "source": [
    "world = gpd.read_file(gpd.datasets.get_path('naturalearth_lowres'))\n",
    "#world"
   ]
  },
  {
   "cell_type": "code",
   "execution_count": 128,
   "metadata": {},
   "outputs": [],
   "source": [
    "saudi = world.query('name == \"Saudi Arabia\"')\n",
    "yemen = world.query('name == \"Yemen\"')\n",
    "iraq = world.query('name == \"Iraq\"')\n",
    "oman = world.query('name == \"Oman\"')\n",
    "uae = world.query('name == \"United Arab Emirates\"')\n",
    "jordan = world.query('name == \"Jordan\"')\n",
    "palestine = world.query('name == \"Palestine\"')\n",
    "israel = world.query('name == \"Israel\"')\n",
    "qatar = world.query('name == \"Qatar\"')\n",
    "kuwait = world.query('name == \"Kuwait\"')\n",
    "\n",
    "mena = saudi.append(yemen).append(iraq).append(oman).append(uae).append(jordan).append(palestine).append(israel).append(qatar).append(kuwait)"
   ]
  },
  {
   "cell_type": "code",
   "execution_count": 129,
   "metadata": {},
   "outputs": [],
   "source": [
    "africa = world.query('continent == \"Africa\"').append(mena)\n",
    "#africa.head()"
   ]
  },
  {
   "cell_type": "code",
   "execution_count": 130,
   "metadata": {},
   "outputs": [],
   "source": [
    "### Example plot https://geopandas.org/gallery/plotting_with_geoplot.html?highlight=africa\n",
    "\n",
    "# #gdp_per_cap = world.gdp_md_est / world.pop_est\n",
    "# ax = geoplot.cartogram(\n",
    "#     africa, scale='pop_est', limits=(0.2, 1),\n",
    "#     edgecolor='None', figsize=(7, 8)\n",
    "# )\n",
    "# geoplot.polyplot(africa, edgecolor='gray', ax=ax)"
   ]
  },
  {
   "cell_type": "code",
   "execution_count": 131,
   "metadata": {},
   "outputs": [],
   "source": [
    "#ax = africa.plot(color=\"white\", edgecolors=\"red\",figsize=(10, 10))"
   ]
  },
  {
   "cell_type": "markdown",
   "metadata": {},
   "source": [
    "# 2) MV lines (current & planned) - Onsset"
   ]
  },
  {
   "cell_type": "code",
   "execution_count": 134,
   "metadata": {},
   "outputs": [],
   "source": [
    "Heavily based on pathfinder https://zenodo.org/record/3628142#.YFH1mf7LeEB \n",
    "Which applies facebook research to predict network structure from network lights https://github.com/facebookresearch/many-to-many-dijkstra/blob/master/Model%20Tutorial%20-%20PDF.pdf\n",
    "\n",
    "TO DO:\n",
    "- Check accuracy of network prediction! (from pdf the prediction is often good but not always. We can check the accruacy of the prediction by comparing results to real MV/HV grid )\n",
    "- Elevation gradient could be added into cost function to improve prediction accuracy.\n",
    "- Additional, predicted lines must be assigned a voltage level\n",
    "\n",
    "Benefit of this method:\n",
    "- Can be applied globally!"
   ]
  },
  {
   "cell_type": "code",
   "execution_count": 137,
   "metadata": {},
   "outputs": [],
   "source": [
    "url = 'https://zenodo.org/record/3628142/files/grid.gpkg?download=1'\n",
    "africa_network = gpd.read_file(url)"
   ]
  },
  {
   "cell_type": "code",
   "execution_count": 168,
   "metadata": {},
   "outputs": [
    {
     "data": {
      "text/html": [
       "<div>\n",
       "<style scoped>\n",
       "    .dataframe tbody tr th:only-of-type {\n",
       "        vertical-align: middle;\n",
       "    }\n",
       "\n",
       "    .dataframe tbody tr th {\n",
       "        vertical-align: top;\n",
       "    }\n",
       "\n",
       "    .dataframe thead th {\n",
       "        text-align: right;\n",
       "    }\n",
       "</style>\n",
       "<table border=\"1\" class=\"dataframe\">\n",
       "  <thead>\n",
       "    <tr style=\"text-align: right;\">\n",
       "      <th></th>\n",
       "      <th>status</th>\n",
       "      <th>country</th>\n",
       "      <th>source</th>\n",
       "      <th>operator</th>\n",
       "      <th>from</th>\n",
       "      <th>to</th>\n",
       "      <th>voltage_kV</th>\n",
       "      <th>length_km</th>\n",
       "      <th>geometry</th>\n",
       "    </tr>\n",
       "  </thead>\n",
       "  <tbody>\n",
       "    <tr>\n",
       "      <th>0</th>\n",
       "      <td>Existing</td>\n",
       "      <td>Togo</td>\n",
       "      <td>ECREEE</td>\n",
       "      <td>None</td>\n",
       "      <td>None</td>\n",
       "      <td>None</td>\n",
       "      <td>161.0</td>\n",
       "      <td>61</td>\n",
       "      <td>LINESTRING (1.55338 6.50436, 1.55434 6.50452, ...</td>\n",
       "    </tr>\n",
       "    <tr>\n",
       "      <th>1</th>\n",
       "      <td>Planned</td>\n",
       "      <td>Togo</td>\n",
       "      <td>ECREEE</td>\n",
       "      <td>None</td>\n",
       "      <td>None</td>\n",
       "      <td>None</td>\n",
       "      <td>161.0</td>\n",
       "      <td>47</td>\n",
       "      <td>LINESTRING (1.61346 6.90184, 1.19756 6.94277)</td>\n",
       "    </tr>\n",
       "    <tr>\n",
       "      <th>2</th>\n",
       "      <td>Existing</td>\n",
       "      <td>Togo</td>\n",
       "      <td>ECREEE</td>\n",
       "      <td>None</td>\n",
       "      <td>None</td>\n",
       "      <td>None</td>\n",
       "      <td>63.0</td>\n",
       "      <td>5</td>\n",
       "      <td>LINESTRING (1.13825 9.03338, 1.13916 9.03056, ...</td>\n",
       "    </tr>\n",
       "    <tr>\n",
       "      <th>3</th>\n",
       "      <td>Planned</td>\n",
       "      <td>Togo</td>\n",
       "      <td>ECREEE</td>\n",
       "      <td>None</td>\n",
       "      <td>None</td>\n",
       "      <td>None</td>\n",
       "      <td>330.0</td>\n",
       "      <td>138</td>\n",
       "      <td>LINESTRING (-0.01500 9.45716, 1.22248 9.52457)</td>\n",
       "    </tr>\n",
       "    <tr>\n",
       "      <th>4</th>\n",
       "      <td>Planned</td>\n",
       "      <td>Togo</td>\n",
       "      <td>ECREEE</td>\n",
       "      <td>None</td>\n",
       "      <td>None</td>\n",
       "      <td>None</td>\n",
       "      <td>330.0</td>\n",
       "      <td>154</td>\n",
       "      <td>LINESTRING (1.22326 9.52457, 2.59111 9.33189)</td>\n",
       "    </tr>\n",
       "  </tbody>\n",
       "</table>\n",
       "</div>"
      ],
      "text/plain": [
       "     status country  source operator  from    to  voltage_kV  length_km  \\\n",
       "0  Existing    Togo  ECREEE     None  None  None       161.0         61   \n",
       "1   Planned    Togo  ECREEE     None  None  None       161.0         47   \n",
       "2  Existing    Togo  ECREEE     None  None  None        63.0          5   \n",
       "3   Planned    Togo  ECREEE     None  None  None       330.0        138   \n",
       "4   Planned    Togo  ECREEE     None  None  None       330.0        154   \n",
       "\n",
       "                                            geometry  \n",
       "0  LINESTRING (1.55338 6.50436, 1.55434 6.50452, ...  \n",
       "1      LINESTRING (1.61346 6.90184, 1.19756 6.94277)  \n",
       "2  LINESTRING (1.13825 9.03338, 1.13916 9.03056, ...  \n",
       "3     LINESTRING (-0.01500 9.45716, 1.22248 9.52457)  \n",
       "4      LINESTRING (1.22326 9.52457, 2.59111 9.33189)  "
      ]
     },
     "execution_count": 168,
     "metadata": {},
     "output_type": "execute_result"
    }
   ],
   "source": [
    "africa_network.head()"
   ]
  },
  {
   "cell_type": "code",
   "execution_count": 107,
   "metadata": {},
   "outputs": [
    {
     "name": "stdout",
     "output_type": "stream",
     "text": [
      "Voltage in kV:\n",
      " count    62001.000000\n",
      "mean        41.539201\n",
      "std         62.935061\n",
      "min          0.000000\n",
      "25%         22.000000\n",
      "50%         33.000000\n",
      "75%         33.000000\n",
      "max        765.000000\n",
      "Name: voltage_kV, dtype: float64\n",
      "\n",
      "Line length in km:\n",
      " count    62001.000000\n",
      "mean         5.836938\n",
      "std         27.253935\n",
      "min          0.000000\n",
      "25%          0.000000\n",
      "50%          0.000000\n",
      "75%          1.000000\n",
      "max       1263.000000\n",
      "Name: length_km, dtype: float64\n"
     ]
    }
   ],
   "source": [
    "africa_network"
   ]
  },
  {
   "cell_type": "code",
   "execution_count": 160,
   "metadata": {},
   "outputs": [
    {
     "name": "stderr",
     "output_type": "stream",
     "text": [
      "<ipython-input-160-58c59fc176d1>:3: FutureWarning: pandas.io.json.json_normalize is deprecated, use pandas.json_normalize instead\n",
      "  africa_network_json = json_normalize(r.json()['features'])\n"
     ]
    }
   ],
   "source": [
    "ax = africa_network.plot(figsize=(20, 20),alpha = 0.7)\n",
    "geoplot.polyplot(africa, edgecolor='gray', ax=ax)"
   ]
  }
 ],
 "metadata": {
  "kernelspec": {
   "display_name": "Python 3",
   "language": "python",
   "name": "python3"
  },
  "language_info": {
   "codemirror_mode": {
    "name": "ipython",
    "version": 3
   },
   "file_extension": ".py",
   "mimetype": "text/x-python",
   "name": "python",
   "nbconvert_exporter": "python",
   "pygments_lexer": "ipython3",
   "version": "3.8.5"
  }
 },
 "nbformat": 4,
 "nbformat_minor": 4
}
