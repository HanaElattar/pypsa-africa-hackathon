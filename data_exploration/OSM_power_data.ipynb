{
 "cells": [
  {
   "cell_type": "code",
   "execution_count": null,
   "metadata": {},
   "outputs": [],
   "source": [
    "import pandas as pd\n",
    "import numpy as np\n",
    "from pandas import json_normalize\n",
    "import requests # convert json into dataframe"
   ]
  },
  {
   "cell_type": "code",
   "execution_count": null,
   "metadata": {},
   "outputs": [],
   "source": [
    "#Africa list\n",
    "#c_list = [\"DZ\",\"AO\",\"SH\",\"BJ\",\"BW\",\"BF\",\"BI\",\"CM\",\"CV\",\"CF\",\"TD\",\"KM\",\"CG\",\"CD\",\"DJ\",\"EG\",\"GQ\",\"ER\",\"SZ\",\"ET\",\"GA\",\"GM\",\"GH\",\"GN\",\"GW\",\"CI\",\"KE\",\"LS\",\"LR\",\"LY\",\"MG\",\"MW\",\"ML\",\"MR\",\"MU\",\"YT\",\"MA\",\"MZ\",\"NA\",\"NE\",\"NG\",\"ST\",\"RE\",\"RW\",\"ST\",\"SN\",\"SC\",\"SL\",\"SO\",\"ZA\",\"SS\",\"SH\",\"SD\",\"SZ\",\"TZ\",\"TG\",\"TN\",\"UG\",\"CD\",\"ZM\",\"TZ\",\"ZW\"]\n",
    "\n",
    "#Test list\n",
    "c_list = [\"NG\", \"ZA\", \"EG\"]\n",
    "#len(c_list)"
   ]
  },
  {
   "cell_type": "code",
   "execution_count": null,
   "metadata": {},
   "outputs": [],
   "source": [
    "url = 'https://lz4.overpass-api.de/api/interpreter'  # Overpass API URL\n",
    "\n",
    "substations = []\n",
    "\n",
    "for country_code in c_list:\n",
    "  \n",
    "  # Bounding Boxes\n",
    "  query = f\"\"\"\n",
    "  [out:json];\n",
    "  // gather results\n",
    "  (\n",
    "    // query part for: “power=substation”\n",
    "    ( area[\"ISO3166-1\"={country_code}];) ->.a;\n",
    "    node[\"power\"=\"substation\"](area.a);\n",
    "    way[\"power\"=\"substation\"](area.a);\n",
    "    relation[\"power\"=\"substation\"](area.a);\n",
    "  );\n",
    "  // print results\n",
    "  out body;\n",
    "  \"\"\"\n",
    "  try:\n",
    "    r = requests.get(url, params={'data': query})\n",
    "    data = r.json()['elements'] # read response as JSON and get the data\n",
    "    df = pd.json_normalize(data)  # create a DataFrame from the data\n",
    "    display(df)\n",
    "  except:\n",
    "    display(\"problems with {country_code}\")\n",
    "  ## Create column with country name\n",
    "  # df['country'] = country_code\n",
    "\n",
    "  #create lists\n",
    "  substations.append(df)\n",
    "\n",
    "#Create pandas dataframe from lists after iteration \n",
    "df_substation = pd.concat(substations, axis=0)\n",
    "print(\"Final DataFrame\")\n",
    "display(df_substation)"
   ]
  },
  {
   "cell_type": "code",
   "execution_count": null,
   "metadata": {},
   "outputs": [],
   "source": []
  }
 ],
 "metadata": {
  "kernelspec": {
   "display_name": "Python 3.7.10 64-bit ('pypsa': conda)",
   "name": "python3710jvsc74a57bd09a6789bfb301b77bab315636af11818455845432a243e82ed991667bc6cd3910"
  },
  "language_info": {
   "codemirror_mode": {
    "name": "ipython",
    "version": 3
   },
   "file_extension": ".py",
   "mimetype": "text/x-python",
   "name": "python",
   "nbconvert_exporter": "python",
   "pygments_lexer": "ipython3",
   "version": "3.7.10-final"
  }
 },
 "nbformat": 4,
 "nbformat_minor": 2
}
