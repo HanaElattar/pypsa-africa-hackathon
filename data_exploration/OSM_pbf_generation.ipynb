{
 "cells": [
  {
   "cell_type": "code",
   "execution_count": null,
   "metadata": {},
   "outputs": [],
   "source": [
    "import os, sys, time\n",
    "\n",
    "import requests\n",
    "import shutil\n",
    "\n",
    "# https://gitlab.com/dlr-ve-esy/esy-osmfilter/-/tree/master/\n",
    "from esy.osmfilter import  osm_colors          as CC\n",
    "from esy.osmfilter import run_filter, Node,Way,Relation \n",
    "from esy.osmfilter import export_geojson\n",
    "from contextlib import contextmanager\n",
    "\n",
    "import pandas as pd\n",
    "import numpy as np\n",
    "import geopandas as gpd\n",
    "from shapely.geometry import Point\n",
    "import geoplot\n",
    "import matplotlib.pyplot as plt\n",
    "# import logging\n",
    "# logging.basicConfig()\n",
    "# logger=logging.getLogger(__name__)\n",
    "# logger.setLevel(logging.INFO)\n",
    "# logger.setLevel(logging.WARNING)\n"
   ]
  },
  {
   "cell_type": "code",
   "execution_count": null,
   "metadata": {},
   "outputs": [],
   "source": [
    "#geofabrik_regions = [\"algeria\",\"angola\",\"benin\",\"botswana\",\"burkina_faso\",\"burundi\",\"cameroon\",\"canary_islands\",\"cape_verde\",\"central_african_republic\",\"chad\",\"comores\",\"congo_brazzaville\",\"congo_democratic_republic\",\"djibouti\",\"egypt\",\"equatorial_guinea\",\"eritrea\",\"ethiopia\",\"gabon\",\"ghana\",\"guinea_bissau\",\"guinea\",\"ivory_coast\",\"kenya\",\"lesotho\",\"liberia\",\"libya\",\"madagascar\",\"malawi\",\"mali\",\"mauritania\",\"mauritius\",\"morocco\",\"mozambique\",\"namibia\",\"niger\",\"nigeria\",\"rwanda\",\"saint_helena_ascension_and_tristan_da_cunha\",\"sao_tome_and_principe\",\"senegal_and_gambia\",\"seychelles\",\"sierra_leone\",\"somalia\",\"south_africa_and_lesotho\",\"south_africa\",\"south_sudan\",\"sudan\",\"swaziland\",\"tanzania\",\"togo\",\"tunisia\",\"uganda\",\"zambia\",\"zimbabwe\"]"
   ]
  },
  {
   "cell_type": "code",
   "execution_count": null,
   "metadata": {
    "tags": []
   },
   "outputs": [],
   "source": [
    "country_name = 'egypt' # TODO: Create dictionary with country_code : country_name pairs\n",
    "country_code = 'egypt'\n",
    "update = False # prevents re-download and filteration of file\n",
    "element_file_exists = False\n",
    "\n",
    "# json file for the Data dictionary \n",
    "# json file for the Elements dictionary is automatically written to 'data/osm/Elements'+filename)\n",
    "JSON_outputfile = os.path.join(os.getcwd(),'data','osm',country_name+'_generator.json')\n",
    "\n",
    "if os.path.exists(JSON_outputfile):\n",
    "    element_file_exists = True\n",
    "\n",
    "geofabrik_filename=f'{country_name}-latest.osm.pbf' # Filename for geofabrik \n",
    "geofabrik_url = f'https://download.geofabrik.de/africa/{geofabrik_filename}' # https://download.geofabrik.de/africa/nigeria-latest.osm.pbf\n",
    "\n",
    "PBF_inputfile = os.path.join(os.getcwd(),\"data\",\"osm\",\"pbf\",geofabrik_filename) # Input filepath\n",
    "\n",
    "if not os.path.exists(PBF_inputfile) or update or element_file_exists is False:\n",
    "    print(f\"{geofabrik_filename} does not exist, downloading to {PBF_inputfile}\")\n",
    "    os.makedirs(os.path.dirname(PBF_inputfile), exist_ok=True) # create data/osm directory\n",
    "    with requests.get(geofabrik_url, stream=True) as r:\n",
    "        with open(PBF_inputfile, 'wb') as f:\n",
    "            shutil.copyfileobj(r.raw, f)\n",
    "\n",
    "\n",
    "\n"
   ]
  },
  {
   "cell_type": "code",
   "execution_count": null,
   "metadata": {},
   "outputs": [],
   "source": [
    "print(PBF_inputfile, JSON_outputfile)"
   ]
  },
  {
   "cell_type": "code",
   "execution_count": null,
   "metadata": {},
   "outputs": [],
   "source": [
    "#see https://dlr-ve-esy.gitlab.io/esy-osmfilter/filter.html for filter structures\n",
    "\n",
    "prefilter = {Node: {\"power\":[\"generator\"]}, Way: {\"power\":[\"generator\"]}, Relation: {\"power\":[\"generator\"]}}\n",
    "blackfilter = [(\"pipeline\",\"generator\"),] # HACKY: due to esy.osmfilter\n",
    "whitefilter =[[(\"power\",\"generator\"),],]\n",
    "    \n",
    "elementname=f'{country_code}_substations'\n",
    "\n",
    "if update is False or element_file_exists is False:\n",
    "    create_elements = False # Do not create elements again\n",
    "    new_prefilter_data = False #Do not pre-filter data again\n",
    "    print(\"Loading Pickle\")\n",
    "else :\n",
    "    create_elements = True # Do not create elements again\n",
    "    new_prefilter_data = True #Do not pre-filter data again\n",
    "    print(\"Creating  New Elements\")\n",
    "\n",
    "[Data,Elements]=run_filter(elementname,PBF_inputfile, JSON_outputfile,prefilter,whitefilter,blackfilter, NewPreFilterData=new_prefilter_data, CreateElements=create_elements, LoadElements=True,verbose=False,multiprocess=True)\n",
    "\n",
    "# export the elements to a geojson-file\n",
    "# export_geojson(Elements[elementname]['Way'],Data,filename='test.geojson',jsontype='Line')\n",
    "# convert extract node elements\n",
    "# export_geojson(Elements[elementname]['Node'],Data,filename='test.geojson',jsontype='Point')"
   ]
  },
  {
   "cell_type": "code",
   "execution_count": null,
   "metadata": {},
   "outputs": [],
   "source": [
    "df_way = pd.json_normalize(Elements[elementname][\"Node\"].values())\n",
    "#df_way.dropna(subset=['tags.voltage'], inplace = True) # Drop any substations with Voltage = N/A\n",
    "# na_values_voltage = df_way.isna().sum()\n",
    "#df_way.dropna(thresh=len(df_way)*0.25, axis=1, how='all', inplace = True) #Drop Columns with 75% values as N/A\n",
    "df_way.drop(columns = \"tags.fixme\", inplace = True)\n",
    "df_way.drop(columns = \"tags.frequency\", inplace = True)\n",
    "display(df_way)\n",
    "df_way.lonlat"
   ]
  },
  {
   "cell_type": "code",
   "execution_count": null,
   "metadata": {},
   "outputs": [],
   "source": [
    "df_way = pd.json_normalize(Elements[elementname][\"Way\"].values())\n",
    "#df_way.dropna(subset=['tags.voltage'], inplace = True) # Drop any substations with Voltage = N/A\n",
    "# na_values_voltage = df_way.isna().sum()\n",
    "#df_way.dropna(thresh=len(df_way)*0.25, axis=1, how='all', inplace = True) #Drop Columns with 75% values as N/A\n",
    "df_way.drop(columns = \"tags.frequency\", inplace = True)\n",
    "df_way.drop(columns = \"tags.barrier\", inplace = True)\n",
    "df_way.drop(columns = \"tags.building\", inplace = True)\n",
    "df_way.drop(columns = \"tags.name:ar\", inplace = True)\n",
    "#display(df_way)"
   ]
  },
  {
   "cell_type": "code",
   "execution_count": null,
   "metadata": {},
   "outputs": [],
   "source": [
    "# # Convert Ways to Nodes\n",
    "# lonlat_column =[]\n",
    "# for ref in df_way[\"refs\"]:\n",
    "#     lonlats =[]\n",
    "#     for r in ref:\n",
    "#         lonlat = Data[\"Node\"][str(r)][\"lonlat\"]\n",
    "#         lonlats.append(lonlat)\n",
    "#     lonlats = np.array(lonlats)\n",
    "#     lonlat = np.mean(lonlats, axis=0) #Hacky Apporx Centroid\n",
    "#     lonlat_column.append(lonlat)\n",
    "# df_way.drop('refs',axis=1,inplace=True)\n",
    "# df_way.insert(1, \"lonlat\", lonlat_column)\n",
    "# display(df_way)\n",
    "    \n",
    "# # polygon_column=[]\n",
    "# # for poly_list in lonlat_column:\n",
    "# #     for p in poly_list:\n",
    "# #         print(p)\n",
    "\n",
    "# #     print(\"p\")\n",
    "    "
   ]
  },
  {
   "cell_type": "code",
   "execution_count": null,
   "metadata": {},
   "outputs": [],
   "source": [
    "# pd.merge(df_way, df_way1, on='id')#,'tags.generator:type','tags.power','tags.generator:method','tags.generator:source'])#,  'tags.generator:source','tags.generator:output:electricity', 'tags.name'])#, on=[\"STATION\", \"DATE\"])\n",
    "\n",
    "# #df_way.columns[:8]\n",
    "\n"
   ]
  },
  {
   "cell_type": "code",
   "execution_count": null,
   "metadata": {},
   "outputs": [],
   "source": [
    "gdf = gpd.GeoDataFrame(df_way, geometry=[Point(x, y) for x, y in df_way.lonlat])\n",
    "gdf.drop(columns=['lonlat'], inplace=True)\n",
    "display(gdf)"
   ]
  },
  {
   "cell_type": "code",
   "execution_count": null,
   "metadata": {},
   "outputs": [],
   "source": [
    "GeoJSON_outputfile = os.path.join(os.getcwd(),'data','osm',country_name+'_generators.geojson')\n",
    "gdf.to_file(GeoJSON_outputfile, driver=\"GeoJSON\")  "
   ]
  },
  {
   "cell_type": "code",
   "execution_count": null,
   "metadata": {},
   "outputs": [],
   "source": [
    "world = gpd.read_file(gpd.datasets.get_path('naturalearth_lowres'))\n",
    "saudi = world.query('name == \"Saudi Arabia\"')\n",
    "yemen = world.query('name == \"Yemen\"')\n",
    "iraq = world.query('name == \"Iraq\"')\n",
    "oman = world.query('name == \"Oman\"')\n",
    "uae = world.query('name == \"United Arab Emirates\"')\n",
    "jordan = world.query('name == \"Jordan\"')\n",
    "palestine = world.query('name == \"Palestine\"')\n",
    "israel = world.query('name == \"Israel\"')\n",
    "qatar = world.query('name == \"Qatar\"')\n",
    "kuwait = world.query('name == \"Kuwait\"')\n",
    "mena = saudi.append(yemen).append(iraq).append(oman).append(uae).append(jordan).append(palestine).append(israel).append(qatar).append(kuwait)\n",
    "africa = world.query('continent == \"Africa\"').append(mena)"
   ]
  },
  {
   "cell_type": "code",
   "execution_count": null,
   "metadata": {},
   "outputs": [],
   "source": [
    "url = 'https://development-data-hub-s3-public.s3.amazonaws.com/ddhfiles/144823/africagrid20170906final.geojson'\n",
    "africa_network = gpd.read_file(url)\n",
    "africa_generators = gpd.read_file(GeoJSON_outputfile)"
   ]
  },
  {
   "cell_type": "code",
   "execution_count": null,
   "metadata": {},
   "outputs": [],
   "source": [
    "ax = africa_network[africa_network.voltage_kV > 110].plot(figsize=(20, 20),alpha = 0.7)\n",
    "geoplot.polyplot(africa ,edgecolor='grey', ax=ax, alpha = 0.5)\n",
    "africa_substations.plot(figsize=(20, 20),markersize=25, color='orange',alpha = 0.5, ax=ax)\n",
    "#plt.savefig('africa_transmission_and substations_110.png')"
   ]
  },
  {
   "cell_type": "code",
   "execution_count": null,
   "metadata": {},
   "outputs": [],
   "source": []
  }
 ],
 "metadata": {
  "kernelspec": {
   "display_name": "Python [conda env:pypsa-africa]",
   "language": "python",
   "name": "conda-env-pypsa-africa-py"
  },
  "language_info": {
   "codemirror_mode": {
    "name": "ipython",
    "version": 3
   },
   "file_extension": ".py",
   "mimetype": "text/x-python",
   "name": "python",
   "nbconvert_exporter": "python",
   "pygments_lexer": "ipython3",
   "version": "3.7.10"
  }
 },
 "nbformat": 4,
 "nbformat_minor": 4
}
