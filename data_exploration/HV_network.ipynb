{
 "cells": [
  {
   "cell_type": "code",
   "execution_count": null,
   "metadata": {},
   "outputs": [],
   "source": [
    "#Requires to have geopandas installed\n",
    "#Installation https://geopandas.org/getting_started/install.html\n",
    "\n",
    "import geopandas as gpd\n",
    "import geoplot\n",
    "import pandas as pd\n",
    "import fiona #;help(fiona.open)\n",
    "import requests\n",
    "from pandas.io.json import json_normalize # convert json into dataframe\n"
   ]
  },
  {
   "cell_type": "code",
   "execution_count": null,
   "metadata": {},
   "outputs": [],
   "source": [
    "pd.set_option('display.max_rows', 100)\n",
    "pd.set_option('display.max_columns', 100)"
   ]
  },
  {
   "cell_type": "markdown",
   "metadata": {},
   "source": [
    "#  Adding MENA to Africa"
   ]
  },
  {
   "cell_type": "code",
   "execution_count": null,
   "metadata": {},
   "outputs": [],
   "source": [
    "world = gpd.read_file(gpd.datasets.get_path('naturalearth_lowres'))\n",
    "#world"
   ]
  },
  {
   "cell_type": "code",
   "execution_count": null,
   "metadata": {},
   "outputs": [],
   "source": [
    "saudi = world.query('name == \"Saudi Arabia\"')\n",
    "yemen = world.query('name == \"Yemen\"')\n",
    "iraq = world.query('name == \"Iraq\"')\n",
    "oman = world.query('name == \"Oman\"')\n",
    "uae = world.query('name == \"United Arab Emirates\"')\n",
    "jordan = world.query('name == \"Jordan\"')\n",
    "palestine = world.query('name == \"Palestine\"')\n",
    "israel = world.query('name == \"Israel\"')\n",
    "qatar = world.query('name == \"Qatar\"')\n",
    "kuwait = world.query('name == \"Kuwait\"')\n",
    "\n",
    "mena = saudi.append(yemen).append(iraq).append(oman).append(uae).append(jordan).append(palestine).append(israel).append(qatar).append(kuwait)"
   ]
  },
  {
   "cell_type": "code",
   "execution_count": null,
   "metadata": {},
   "outputs": [],
   "source": [
    "africa = world.query('continent == \"Africa\"').append(mena)\n",
    "#africa.head()"
   ]
  },
  {
   "cell_type": "code",
   "execution_count": null,
   "metadata": {},
   "outputs": [],
   "source": [
    "### Example plot https://geopandas.org/gallery/plotting_with_geoplot.html?highlight=africa\n",
    "\n",
    "# #gdp_per_cap = world.gdp_md_est / world.pop_est\n",
    "# ax = geoplot.cartogram(\n",
    "#     africa, scale='pop_est', limits=(0.2, 1),\n",
    "#     edgecolor='None', figsize=(7, 8)\n",
    "# )\n",
    "# geoplot.polyplot(africa, edgecolor='gray', ax=ax)"
   ]
  },
  {
   "cell_type": "code",
   "execution_count": null,
   "metadata": {},
   "outputs": [],
   "source": [
    "#ax = africa.plot(color=\"white\", edgecolors=\"red\",figsize=(10, 10))"
   ]
  },
  {
   "cell_type": "markdown",
   "metadata": {},
   "source": [
    "# 1) HV lines (current & planned) - Onsset"
   ]
  },
  {
   "cell_type": "markdown",
   "metadata": {},
   "source": [
    "Note: This dataset has been updated with transmission lines for the MENA region. This is the most complete and up-to-date open map of Africa's electricity grid network. This dataset serves as an updated and improved replacement for the Africa Infrastructure Country Diagnostic (AICD) data that was published in 2007. \n",
    "\n",
    "Coverage. This dataset includes planned and existing grid lines for all continental African countries and Madagascar, as well as the Middle East region. The lines range in voltage from sub-kV to 700 kV EHV lines, though there is a very large variation in the completeness of data by country. An interactive tool has been created for exploring this data, the Africa Electricity Grids Explorer. \n",
    "\n",
    "Sources. The primary sources for this dataset are as follows: \n",
    "- Africa Infrastructure Country Diagnostic (AICD) \n",
    "- OSM © OpenStreetMap contributors \n",
    "- For MENA: Arab Union of Electricity and country utilities. \n",
    "- For West Africa: West African Power Pool (WAPP) \n",
    "- GIS database \n",
    "- World Bank projects archive and \n",
    "- International Bank for Reconstruction and Development (IBRD) maps \n",
    "- There were many additional sources for specific countries and areas. This information is contained in the files of this dataset, and can also be found by browsing the individual country datasets, which contain more extensive information. \n",
    "\n",
    "Limitations. Some of the data, notably that from the AICD and from World Bank project archives, may be very out of date. Where possible this has been improved with data from other sources, but in many cases this wasn't possible. This varies significantly from country to country, depending on data availability. Thus, many new lines may exist which aren't shown, and planned lines may have completely changed or already been constructed. \n",
    "The data that comes from World Bank project archives has been digitized from PDF maps. This means that these lines should serve as an indication of extent and general location, but shouldn't be used for precisely location grid lines.\n",
    "\n",
    "https://energydata.info/dataset/africa-electricity-transmission-and-distribution-grid-map-2017"
   ]
  },
  {
   "cell_type": "code",
   "execution_count": null,
   "metadata": {},
   "outputs": [],
   "source": [
    "url = 'https://development-data-hub-s3-public.s3.amazonaws.com/ddhfiles/144823/africagrid20170906final.geojson'\n",
    "africa_network = gpd.read_file(url)"
   ]
  },
  {
   "cell_type": "code",
   "execution_count": null,
   "metadata": {},
   "outputs": [],
   "source": [
    "#Converting object to float\n",
    "africa_network['length_km'] = pd.to_numeric(africa_network['length_km'], errors='ignore')"
   ]
  },
  {
   "cell_type": "code",
   "execution_count": null,
   "metadata": {},
   "outputs": [],
   "source": [
    "africa_network.head()"
   ]
  },
  {
   "cell_type": "code",
   "execution_count": null,
   "metadata": {},
   "outputs": [],
   "source": [
    "print(\"Data with zero Voltage inputs:\\n\", africa_network[(africa_network['voltage_kV'] == 0)].describe())\n",
    "print()\n",
    "print(\"Data with non-zero Voltage inputs:\\n\", africa_network[(africa_network['voltage_kV'] != 0)].describe())\n",
    "print()\n",
    "print(\"Data with zero Length inputs:\\n\", africa_network[(africa_network['length_km'] == 0)].describe())\n",
    "print()\n",
    "print(\"Data with non-zero Length inputs:\\n\", africa_network[(africa_network['length_km'] != 0)].describe())"
   ]
  },
  {
   "cell_type": "markdown",
   "metadata": {},
   "source": [
    "### Check if only linestring is included"
   ]
  },
  {
   "cell_type": "code",
   "execution_count": null,
   "metadata": {},
   "outputs": [],
   "source": [
    "#Make json file for quicker analysis\n",
    "r = requests.get(url)\n",
    "africa_network_json = json_normalize(r.json()['features'])\n",
    "africa_network_json = pd.DataFrame(africa_network_json)\n"
   ]
  },
  {
   "cell_type": "code",
   "execution_count": null,
   "metadata": {},
   "outputs": [],
   "source": [
    "africa_network_json.head()"
   ]
  },
  {
   "cell_type": "code",
   "execution_count": null,
   "metadata": {},
   "outputs": [],
   "source": [
    "#ONLY LINES IN THE DATASET\n",
    "africa_network_json.groupby(['geometry.type']).mean()"
   ]
  },
  {
   "cell_type": "code",
   "execution_count": null,
   "metadata": {},
   "outputs": [],
   "source": [
    "ax = africa_network.plot(figsize=(20, 20),alpha = 0.7)\n",
    "geoplot.polyplot(africa, edgecolor='gray', ax=ax)"
   ]
  },
  {
   "cell_type": "markdown",
   "metadata": {},
   "source": [
    "# ADDITIONAL FOUND DATA. Network Data MENA (existing+planned)"
   ]
  },
  {
   "cell_type": "code",
   "execution_count": null,
   "metadata": {},
   "outputs": [],
   "source": [
    "### datasource:   https://energydata.info/dataset/mena-electricity-transmission-network-2017"
   ]
  },
  {
   "cell_type": "markdown",
   "metadata": {},
   "source": [
    "\n",
    "Main nodes and major lines of the electricity transmission network of the MENA region. Interconnection lines with countries outside of the region included. The properties for nodes are \"name\" and \"node type\" (city, town, plant, dam...). The properties for lines are the \"transmission power\" in kV (e.g. 400), the \"type of line\" (single, double...), the linked nodes (identified by the nodes names) and, for international interconnections, the \"interconnection\" property gathers the two linked countries identified by name. The format is GeoJSON, nodes are displayed as points and lines as lines. Data comes from the Arab Union of Electricity and country utilities.\n"
   ]
  },
  {
   "cell_type": "code",
   "execution_count": null,
   "metadata": {},
   "outputs": [],
   "source": [
    "url = 'https://development-data-hub-s3-public.s3.amazonaws.com/ddhfiles/145365/electric-network-mena.geojson'\n",
    "mena_network = gpd.read_file(url)"
   ]
  },
  {
   "cell_type": "code",
   "execution_count": null,
   "metadata": {},
   "outputs": [],
   "source": [
    "# pd.set_option('display.max_rows', 600)\n",
    "# pd.set_option('display.max_columns', 600)"
   ]
  },
  {
   "cell_type": "code",
   "execution_count": null,
   "metadata": {},
   "outputs": [],
   "source": [
    "mena_network = mena_network.rename(columns={\"transmissionPower\": \"voltage_kV\"})\n",
    "mena_network.head()"
   ]
  },
  {
   "cell_type": "code",
   "execution_count": null,
   "metadata": {},
   "outputs": [],
   "source": [
    "ax = mena_network.plot(figsize=(20, 20),alpha = 0.7)\n",
    "geoplot.polyplot(africa, edgecolor='gray', ax=ax)"
   ]
  },
  {
   "cell_type": "code",
   "execution_count": null,
   "metadata": {},
   "outputs": [],
   "source": []
  }
 ],
 "metadata": {
  "kernelspec": {
   "display_name": "Python 3",
   "language": "python",
   "name": "python3"
  },
  "language_info": {
   "codemirror_mode": {
    "name": "ipython",
    "version": 3
   },
   "file_extension": ".py",
   "mimetype": "text/x-python",
   "name": "python",
   "nbconvert_exporter": "python",
   "pygments_lexer": "ipython3",
   "version": "3.9.2"
  }
 },
 "nbformat": 4,
 "nbformat_minor": 4
}
