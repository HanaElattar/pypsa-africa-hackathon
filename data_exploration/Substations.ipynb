{
 "cells": [
  {
   "cell_type": "code",
   "execution_count": null,
   "metadata": {},
   "outputs": [],
   "source": [
    "#Requires to have geopandas installed\n",
    "#Installation https://geopandas.org/getting_started/install.html\n",
    "\n",
    "import matplotlib.pyplot as plt \n",
    "import geopandas as gpd\n",
    "import geoplot\n",
    "import pandas as pd\n",
    "import fiona #;help(fiona.open)\n",
    "import requests\n",
    "from pandas import json_normalize\n",
    "import requests # convert json into dataframe\n",
    "#For OSM \n",
    "import pyrosm\n",
    "from pyrosm import OSM, get_data"
   ]
  },
  {
   "cell_type": "code",
   "execution_count": null,
   "metadata": {},
   "outputs": [],
   "source": [
    "pd.set_option('display.max_rows', 100)\n",
    "pd.set_option('display.max_columns', 100)"
   ]
  },
  {
   "cell_type": "markdown",
   "metadata": {},
   "source": [
    "#  Adding MENA to Africa"
   ]
  },
  {
   "cell_type": "code",
   "execution_count": null,
   "metadata": {},
   "outputs": [],
   "source": [
    "world = gpd.read_file(gpd.datasets.get_path('naturalearth_lowres'))\n",
    "#world"
   ]
  },
  {
   "cell_type": "code",
   "execution_count": null,
   "metadata": {},
   "outputs": [],
   "source": [
    "saudi = world.query('name == \"Saudi Arabia\"')\n",
    "yemen = world.query('name == \"Yemen\"')\n",
    "iraq = world.query('name == \"Iraq\"')\n",
    "oman = world.query('name == \"Oman\"')\n",
    "uae = world.query('name == \"United Arab Emirates\"')\n",
    "jordan = world.query('name == \"Jordan\"')\n",
    "palestine = world.query('name == \"Palestine\"')\n",
    "israel = world.query('name == \"Israel\"')\n",
    "qatar = world.query('name == \"Qatar\"')\n",
    "kuwait = world.query('name == \"Kuwait\"')\n",
    "\n",
    "mena = saudi.append(yemen).append(iraq).append(oman).append(uae).append(jordan).append(palestine).append(israel).append(qatar).append(kuwait)"
   ]
  },
  {
   "cell_type": "code",
   "execution_count": null,
   "metadata": {},
   "outputs": [],
   "source": [
    "africa = world.query('continent == \"Africa\"').append(mena)\n",
    "#africa.head()"
   ]
  },
  {
   "cell_type": "code",
   "execution_count": null,
   "metadata": {},
   "outputs": [],
   "source": [
    "### Example plot https://geopandas.org/gallery/plotting_with_geoplot.html?highlight=africa\n",
    "\n",
    "# #gdp_per_cap = world.gdp_md_est / world.pop_est\n",
    "# ax = geoplot.cartogram(\n",
    "#     africa, scale='pop_est', limits=(0.2, 1),\n",
    "#     edgecolor='None', figsize=(7, 8)\n",
    "# )\n",
    "# geoplot.polyplot(africa, edgecolor='gray', ax=ax)"
   ]
  },
  {
   "cell_type": "code",
   "execution_count": null,
   "metadata": {},
   "outputs": [],
   "source": [
    "#ax = africa.plot(color=\"white\", edgecolors=\"red\",figsize=(10, 10))"
   ]
  },
  {
   "cell_type": "markdown",
   "metadata": {},
   "source": [
    "# 3) Substations - Onsset - OSM"
   ]
  },
  {
   "cell_type": "markdown",
   "metadata": {},
   "source": [
    "Install PYROSM to handle OSM data: https://pyrosm.readthedocs.io/en/latest/installation.html\n",
    "\n",
    "data source http://download.geofabrik.de/  \n",
    "\n",
    "data description: https://gep-onsset.readthedocs.io/en/latest/GIS%20data%20collection.html"
   ]
  },
  {
   "cell_type": "markdown",
   "metadata": {},
   "source": [
    "### OSM content check"
   ]
  },
  {
   "cell_type": "code",
   "execution_count": null,
   "metadata": {},
   "outputs": [],
   "source": [
    "from pyrosm import OSM, get_data\n",
    "\n",
    "# Initialize the OSM reader with test data\n",
    "fp = get_data(\"Helsinki\")\n",
    "osm = OSM(fp)\n",
    "\n",
    "# The instance has a configuration attribute containing:\n",
    "print([item for item in osm.conf.__dict__.keys() if not item.startswith(\"_\")])\n"
   ]
  },
  {
   "cell_type": "code",
   "execution_count": null,
   "metadata": {},
   "outputs": [],
   "source": [
    "# Show all available tag attributes\n",
    "#osm.conf.tags.available\n"
   ]
  },
  {
   "cell_type": "code",
   "execution_count": null,
   "metadata": {},
   "outputs": [],
   "source": [
    "# Show all tags that are converted into columns from building features\n",
    "osm.conf.tags.power"
   ]
  },
  {
   "cell_type": "markdown",
   "metadata": {},
   "source": [
    "## Create OSM substation dataframe"
   ]
  },
  {
   "cell_type": "markdown",
   "metadata": {},
   "source": [
    "Pyrosm has an existing issue handling geofabric data. Thats why \"get_data(\"africa\")\" is not working. \n",
    "\n",
    "A way around this problem is to download the data from http://download.geofabrik.de/africa-latest.osm.bz2 locally & set the path right\n",
    "\n",
    "://github.com/HTenkanen/pyrosm/issues/109"
   ]
  },
  {
   "cell_type": "code",
   "execution_count": null,
   "metadata": {},
   "outputs": [],
   "source": [
    "pwd"
   ]
  },
  {
   "cell_type": "code",
   "execution_count": null,
   "metadata": {},
   "outputs": [],
   "source": [
    "cd"
   ]
  },
  {
   "cell_type": "code",
   "execution_count": null,
   "metadata": {},
   "outputs": [],
   "source": [
    "cd \"OneDrive/PHD-Flexibility/07_pypsa-africa/Data\""
   ]
  },
  {
   "cell_type": "code",
   "execution_count": null,
   "metadata": {},
   "outputs": [],
   "source": [
    "africa_data = \"africa-latest.osm.pbf\""
   ]
  },
  {
   "cell_type": "code",
   "execution_count": null,
   "metadata": {},
   "outputs": [],
   "source": [
    "#Possible input to extract data from PYROSM. I.e. get_data(\"angola\") gets the \"angola-latest.osm.pbf\" filled with all OSM data\n",
    "regions =     [\"algeria\",\n",
    "               \"angola\",\n",
    "               \"benin\",\n",
    "               \"botswana\",\n",
    "               \"burkina_faso\",\n",
    "               \"burundi\",\n",
    "               \"cameroon\",\n",
    "               \"canary_islands\",\n",
    "               \"cape_verde\",\n",
    "               \"central_african_republic\",\n",
    "               \"chad\",\n",
    "               \"comores\",\n",
    "               \"congo_brazzaville\",\n",
    "               \"congo_democratic_republic\",\n",
    "               \"djibouti\",\n",
    "               \"egypt\",\n",
    "               \"equatorial_guinea\",\n",
    "               \"eritrea\",\n",
    "               \"ethiopia\",\n",
    "               \"gabon\",\n",
    "               \"ghana\",\n",
    "               \"guinea_bissau\",\n",
    "               \"guinea\",\n",
    "               \"ivory_coast\",\n",
    "               \"kenya\",\n",
    "               \"lesotho\",\n",
    "               \"liberia\",\n",
    "               \"libya\",\n",
    "               \"madagascar\",\n",
    "               \"malawi\",\n",
    "               \"mali\",\n",
    "               \"mauritania\",\n",
    "               \"mauritius\",\n",
    "               \"morocco\",\n",
    "               \"mozambique\",\n",
    "               \"namibia\",\n",
    "               \"niger\",\n",
    "               \"nigeria\",\n",
    "               \"rwanda\",\n",
    "               \"saint_helena_ascension_and_tristan_da_cunha\",\n",
    "               \"sao_tome_and_principe\",\n",
    "               \"senegal_and_gambia\",\n",
    "               \"seychelles\",\n",
    "               \"sierra_leone\",\n",
    "               \"somalia\",\n",
    "               \"south_africa_and_lesotho\",\n",
    "               \"south_africa\",\n",
    "               \"south_sudan\",\n",
    "               \"sudan\",\n",
    "               \"swaziland\",\n",
    "               \"tanzania\",\n",
    "               \"togo\",\n",
    "               \"tunisia\",\n",
    "               \"uganda\",\n",
    "               \"zambia\",\n",
    "               \"zimbabwe\"]"
   ]
  },
  {
   "cell_type": "code",
   "execution_count": null,
   "metadata": {},
   "outputs": [],
   "source": [
    "fp = get_data(\"lesotho\")"
   ]
  },
  {
   "cell_type": "code",
   "execution_count": null,
   "metadata": {},
   "outputs": [],
   "source": [
    "fp = '/home/matin/pypsa-africa/Africa-node.osm.pbf'"
   ]
  },
  {
   "cell_type": "code",
   "execution_count": null,
   "metadata": {},
   "outputs": [],
   "source": [
    "osm = pyrosm.OSM(fp)"
   ]
  },
  {
   "cell_type": "code",
   "execution_count": null,
   "metadata": {},
   "outputs": [],
   "source": [
    "my_filter = {'power': [\"substation\"]}"
   ]
  },
  {
   "cell_type": "code",
   "execution_count": null,
   "metadata": {},
   "outputs": [],
   "source": [
    "lesotho = osm.get_pois(custom_filter=my_filter)"
   ]
  },
  {
   "cell_type": "code",
   "execution_count": null,
   "metadata": {},
   "outputs": [],
   "source": [
    "lesotho.head(5)"
   ]
  },
  {
   "cell_type": "code",
   "execution_count": null,
   "metadata": {},
   "outputs": [],
   "source": [
    "#Shows geometry reference\n",
    "lesotho['geometry'].crs"
   ]
  },
  {
   "cell_type": "code",
   "execution_count": null,
   "metadata": {},
   "outputs": [],
   "source": [
    "#Converting Polygons to \"centroids\" = Points. \n",
    "\n",
    "#We used \"epsg=3035\" to make the long/lat numbers larger.\n",
    "#This was necessary to make the centroid operations more accurate. Only required for small polygons.\n",
    "#Afterward we reconvert it to the standard epsg=4326\n",
    "\n",
    "lesotho['geometry'] = lesotho['geometry'].to_crs(epsg=3035)\n",
    "lesotho['geometry'] = lesotho['geometry'].centroid\n",
    "lesotho['geometry'] = lesotho['geometry'].to_crs(epsg=4326)"
   ]
  },
  {
   "cell_type": "code",
   "execution_count": null,
   "metadata": {},
   "outputs": [],
   "source": [
    "# Plot\n",
    "ax = lesotho.plot(column='power', marker='o', markersize=10, figsize=(6,6), legend=True, legend_kwds=dict(loc='upper left', ncol=5, bbox_to_anchor=(1, 1)))"
   ]
  },
  {
   "cell_type": "code",
   "execution_count": null,
   "metadata": {},
   "outputs": [],
   "source": [
    "#Worked! Lesotho is downn i\n",
    "ax = lesotho.plot(column='power',figsize=(10, 10),alpha = 0.7, markersize = 1)\n",
    "geoplot.polyplot(africa, edgecolor='gray', ax=ax)"
   ]
  },
  {
   "cell_type": "code",
   "execution_count": null,
   "metadata": {},
   "outputs": [],
   "source": [
    "url = 'https://lz4.overpass-api.de/api/interpreter'  # Overpass API URL\n"
   ]
  },
  {
   "cell_type": "code",
   "execution_count": null,
   "metadata": {},
   "outputs": [],
   "source": [
    "# Bounding Boxes\n",
    "# Nigeria (approx) (0.61,-4.21,21.75,15.79)\n",
    "query = f\"\"\"\n",
    "[out:json];\n",
    "// gather results\n",
    "(\n",
    "  // query part for: “power=substation”\n",
    "  node[\"power\"=\"substation\"][\"voltage\"](0.61,-4.21,21.75,15.79);\n",
    "  way[\"power\"=\"substation\"][\"voltage\"](0.61,-4.21,21.75,15.79);\n",
    "  relation[\"power\"=\"substation\"][\"voltage\"](0.61,-4.21,21.75,15.79);\n",
    ");\n",
    "// print results\n",
    "out body;\n",
    "\"\"\""
   ]
  },
  {
   "cell_type": "code",
   "execution_count": null,
   "metadata": {},
   "outputs": [],
   "source": [
    "# Bounding Boxes\n",
    "# Nigeria (approx) (0.61,-4.21,21.75,15.79)\n",
    "query = f\"\"\"\n",
    "[out:json];\n",
    "// gather results\n",
    "(\n",
    "  // query part for: “power=substation”\n",
    "  ( area[\"ISO3166-1\"=\"IT\"];) ->.a;\n",
    "  node[\"power\"=\"substation\"](area.a);\n",
    "  way[\"power\"=\"substation\"](area.a);\n",
    "  relation[\"power\"=\"substation\"](area.a);\n",
    ");\n",
    "// print results\n",
    "out body;\n",
    "\"\"\""
   ]
  },
  {
   "cell_type": "code",
   "execution_count": null,
   "metadata": {},
   "outputs": [],
   "source": [
    "# Africa (approx) (-23.73,-36.03,58.00,35.74)\n",
    "query = f\"\"\"\n",
    "[out:json];\n",
    "// gather results\n",
    "(\n",
    "  // query part for: “power=substation”\n",
    "  node[\"power\"=\"substation\"][\"voltage\"](-23.73,-36.03,58.00,35.74);\n",
    "  way[\"power\"=\"substation\"][\"voltage\"](-23.73,-36.03,58.00,35.74);\n",
    "  relation[\"power\"=\"substation\"][\"voltage\"](-23.73,-36.03,58.00,35.74);\n",
    ");\n",
    "// print results\n",
    "out body;\n",
    "\"\"\"\n"
   ]
  },
  {
   "cell_type": "code",
   "execution_count": null,
   "metadata": {},
   "outputs": [],
   "source": [
    "r = requests.get(url, params={'data': query})\n",
    "data = r.json()['elements'] # read response as JSON and get the data\n",
    "df = pd.json_normalize(data)  # create a DataFrame from the data"
   ]
  },
  {
   "cell_type": "code",
   "execution_count": null,
   "metadata": {},
   "outputs": [],
   "source": [
    "c_list = [\"DZ\",\"AO\",\"SH\",\"BJ\",\"BW\",\"BF\",\"BI\",\"CM\",\"CV\",\"CF\",\"TD\",\"KM\",\"CG\",\"CD\",\"DJ\",\"EG\",\"GQ\",\"ER\",\"SZ\",\"ET\",\"GA\",\"GM\",\"GH\",\"GN\",\"GW\",\"CI\",\"KE\",\"LS\",\"LR\",\"LY\",\"MG\",\"MW\",\"ML\",\"MR\",\"MU\",\"YT\",\"MA\",\"MZ\",\"NA\",\"NE\",\"NG\",\"ST\",\"RE\",\"RW\",\"ST\",\"SN\",\"SC\",\"SL\",\"SO\",\"ZA\",\"SS\",\"SH\",\"SD\",\"SZ\",\"TZ\",\"TG\",\"TN\",\"UG\",\"CD\",\"ZM\",\"TZ\",\"ZW\"]\n",
    "len(c_list)"
   ]
  },
  {
   "cell_type": "code",
   "execution_count": null,
   "metadata": {},
   "outputs": [],
   "source": [
    "print(df.shape)"
   ]
  },
  {
   "cell_type": "code",
   "execution_count": null,
   "metadata": {},
   "outputs": [],
   "source": [
    "# Pretty Print dataframe (vscode)\n",
    "display(df)"
   ]
  },
  {
   "cell_type": "code",
   "execution_count": null,
   "metadata": {},
   "outputs": [],
   "source": [
    "df1=df.dropna(subset=['tags.voltage'])"
   ]
  },
  {
   "cell_type": "code",
   "execution_count": null,
   "metadata": {},
   "outputs": [],
   "source": [
    "display(df1)"
   ]
  },
  {
   "cell_type": "code",
   "execution_count": null,
   "metadata": {},
   "outputs": [],
   "source": [
    "df.isna().sum()"
   ]
  },
  {
   "cell_type": "code",
   "execution_count": null,
   "metadata": {},
   "outputs": [],
   "source": [
    "# type, id, lat, lon, tags.voltage, node\n",
    "[\"voltage\"]\n",
    "df.isna().sum()\n",
    "df1=df.dropna(subset=['tags.voltage'])"
   ]
  }
 ],
 "metadata": {
  "kernelspec": {
   "display_name": "Python 3.7.10 64-bit ('pypsa': conda)",
   "name": "python3710jvsc74a57bd09a6789bfb301b77bab315636af11818455845432a243e82ed991667bc6cd3910"
  },
  "language_info": {
   "codemirror_mode": {
    "name": "ipython",
    "version": 3
   },
   "file_extension": ".py",
   "mimetype": "text/x-python",
   "name": "python",
   "nbconvert_exporter": "python",
   "pygments_lexer": "ipython3",
   "version": "3.7.10-final"
  }
 },
 "nbformat": 4,
 "nbformat_minor": 4
}
